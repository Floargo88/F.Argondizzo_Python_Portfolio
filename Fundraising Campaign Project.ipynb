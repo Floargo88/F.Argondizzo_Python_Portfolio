{
 "cells": [
  {
   "cell_type": "markdown",
   "id": "46fb1fc8-6db7-44f7-a156-5ba19e8ad4dd",
   "metadata": {},
   "source": [
    "# Fundraising campaign project\n",
    "\n",
    "\n",
    "\n",
    "## Introduction\n",
    "\n",
    "\n",
    "For this project I have been asked to understand which could be the most successful communication strategy to use to promote a fundraising campaign for an ONG. Nowadays it is very common to use endorsers in advertising campaigns in order to use the persuasiveness of the character to stimulate more positive attitude toward the campaign and consequently generate more revenue .\n",
    "\n",
    "Previous data from the ONG have shown former fundraising campaigns with no endorsers, with a celebrity endorser and with an influencer endorser. Such criteria generate the following question. \n",
    "\n",
    "**RQ1: to which extent a fundraising campaign with endorsers will be useful to stimulate donations and  consequently increase revenue compared to a fundraising campaign without endorsers?**\n"
   ]
  },
  {
   "cell_type": "markdown",
   "id": "dd98bc2d-1e57-43d8-98eb-dec50f7149f2",
   "metadata": {},
   "source": [
    "The evidence gathered from the researches has highlighted the endorsers' positive impact on the audience's attention, recall, evaluations and purchase intentions. The question to answer is which could be the best endorser's profile in order to generate higher revenue fro the campaign? \n",
    "\n",
    "H1: a fundraising campaign with endorsers, specifically influencers, will be more profitable than a campaign with  celebrities or no endorsers.\n",
    "\n",
    "This lead us to a sub-RQ. \n",
    "\n",
    "RQ2: to which extent a fundraising campaign with influencers lead to an highest amount of revenue for the ONG?\n",
    "\n",
    "H2: a fundraising campaign with influencer is expected to generate more revenue for the fundraising campaign"
   ]
  },
  {
   "cell_type": "markdown",
   "id": "bb3671a3-ccc2-42c9-9ed5-738bda17db1c",
   "metadata": {},
   "source": [
    "## Dataset\n",
    "\n",
    "The dataset contains observations from previous online fundraising campaign of the ONG. Specifically it contains observations from users who visited the fundraising webpage of the ONG through different times and different campaigns and deciding at the end to make a donation to sustain the ONG or not. The variables of the dataset are the following:\n",
    "\n",
    "* DVs: donation (if the user donated or not), and donation value in €.\n",
    "\n",
    "* IVs: the independent variables are the three different campaigns, influencer campaign (endorser A, camp endorser A), celebrity campaign (endorser B, camp endorser B) and a no endorser campaign (green camp, green).\n",
    "\n",
    "* Control variables: users' age, referral and operating system of the device will be controlled for.\n",
    "\n",
    "Privacy concerns have been taken in consideration since no identity or geolocation connected to the users has been collected. Some of the trade off here is that, if people care about the environment, to have known the geolocation for instance could expose more the users but it can generate more relevant results for a specific segment for which the campaign will result more relevant and consequently the ONG could generate more revenue to survive and keep its role of environmental watchdog.\n"
   ]
  },
  {
   "cell_type": "markdown",
   "id": "b73869f3-b10e-4306-91d6-851ddbe31f80",
   "metadata": {},
   "source": [
    "## Data Exploration & Evaluation\n",
    "\n",
    "Among the 55.000 observations present in the dataset there are 20.985 registered donations, 38% (see Graph 1). The average donation (among the donors) is 64€ with a minimum registered donation of 1€ and the highest of 100€ (see Graph 2) The campaigns’ reach of the dataset seem to be equally distributed. Each campaign refers to a 25% of the total sample (approximately 14.000 users) (see Graph 3). The mean age of the users was 45 years old, with the youngest user of 18 years old and the oldest of 74 years old.\n",
    "The main used referrals were four: Facebook.com, Google.com, Youtube.com and Instagram.com. The concentration of the observations in other referrals is too small to be considered relevant for the analysis. Users entered into the ONG's website from the main referral in a balanced way: 9.000 users (17%) entered per each referral (Facebook, Google, Youtube, Instagram covered 68% of the cases) and 18.000 users (32%) entered from other websites (see Graph 4). \n",
    "Among the observations there were 16.068 Apple devices (29%), 24.704 Windows devices (45%), 4.302 Android devices (8%) and 12.048 Linux devices (22%) (see Graphs 9, 10, 11, 12).\n",
    "\n",
    "The result show that only 22% of the users which have seen either the celebrity or the influencer's campaigns (approximately 14.000 users each) made a donation, while campaign with no endorser stimulated 76% of donations (among 13.000 users) and other campaigns the 31% (among 13.000 users) , the difference is significant (see Graph 7). The average donation stimulated by endorsers’ campaign (influencer or celebrity) is 13€ while other campaign average donation is 19€ and campaign with no endorsers is 53€, the difference is significant (see Graph 8). Facebook and other referral registered a 21% donation rate, Google the 47%, Instagram and Youtube are the most successful with a donation rate of 59% each, the difference is significant (see Graph 5). Average donation in € differs depending on the referral used: for FB and other referrals is 13€ while Google registered 30€ and Instagram and Youtube reconfirmed again as the most successful with 39€ each, the difference is significant (see Graph 6). None of the devices (Apple, Windows, Android, Linux) used to enter in the website made any difference in the likelihood of making a donation (approximately 38% in all cases) and in the average donation revenue (which was 24€ for any of the devices used), the difference is not significant  (see Graphs 9, 10, 11, 12). \n",
    "Regarding the H1 there are no significant differences between the influencer and celebrity endorsement in terms of campaign’s donations (shown as the most unsuccessful ) but there is a significant difference between the first two and a campaign with no endorsers which seem to be most successful in stimulating donations and revenue. A potential bias is that (compared to the 31 millions followers of the ONG’s social media) the 55.000 observations seem to be a too limited amount to generalise the results and consider them effective among different social groups.\n",
    "\n",
    "\n"
   ]
  },
  {
   "cell_type": "markdown",
   "id": "2f8d1302-9246-4a27-bd87-e514f2e3c1c2",
   "metadata": {},
   "source": [
    "## Evaluation \n",
    "\n",
    "Model B will be used for the following reasons.\n",
    "\n",
    "It better fits the data (pseudo R2 = 0.16) compared to model A (pseudo R2 = 0.15). Furthermore, the performances of the two model show the same level of precision in finding non donors (0.78) and in finding donors (0.71).\n",
    "\n",
    "The data have been split in 2 to hide the dataset to my algorithm while training it (see No Overfitting 1).\n",
    "\n",
    "\n",
    "The coefficients of model B show that, compared to other campaigns, celebrity (- 0.99) and influencer's (- 1.00) campaigns significantly and negatively influence donations  and they do no significantly differ from each other (see Graph 7). Instead, a campaign with no endorser (coefficient 2.30) shows that, compared to other campaigns, it significantly and positively influence donations. The model proved that H1 is not being supported since, compared to other campaigns, influencer's campaign did not result better than celebrity or no endorser campaigns (see Graph 7). Instead a campaign with no endorsers resulted to be the most successful. Predictions from model B show the likelihood of making a donation among different campaigns: with all the control variables kept constant, the campaign with no endorsers has been proven the most successful on stimulating users' donation with a 75% chance of making one.\n",
    "Results showed that H2 has also been rejected: compared to other campaigns, celebrity (-6.16€ per each donation) and influencer (-6.26€ per each donation) campaigns negatively and significantly enhance the likelihood of donating an higher amount of € and a campaign with no endorsers (+34€ per each donation) positively and significantly enhance the likelihood of donating an higher amount of € (see Prediction D, E, F).\n",
    "\n",
    "To conclude, the ONG should focus its communication efforts toward a fundraising campaign with no endorsers since has been proven to be the most successful on stimulating donations: compared to other campaigns it registered +75% likelihood of donation. "
   ]
  },
  {
   "cell_type": "markdown",
   "id": "01180c69-99d1-4e1f-abae-30b13c51e3f9",
   "metadata": {},
   "source": [
    "## Limitations and Next Steps\n",
    "\n",
    "Using a “middle\" source to collect our data makes us depending on the data owner and let the results being filtered from the collection method chosen and the effective data being collected by it creating an eventual first layer of bias which may include incompleteness of data, misinterpretation of the data collector on the request of the data collection and consequent mistakes in further interpretation. Another limitation is about the \"session id\" variable: is not know if the variable is able to link multiple session to a single user if that's the case (reason for which a second donation would not be expected) which may have precluded different results.\n",
    "\n",
    "The amount of categories chosen for the campaigns ignores the “other campaigns”, variable created to collect all the missing values. Since “other campaigns” had a positive likelihood of stimulating a donation (higher than an influencer or a celebrity campaign) it is limiting to do not know more about them in details since it could have helped to structure a more successful communication strategy for the ONG.\n",
    "\n",
    "As mentioned above, to have had more variables to include in the model would have helped the model to better learn from them and make more accurate predictions. Are these the only variables responsible of making a donation or not? Also, not many information are know about the time in which these campaigns have occurred which may have had strong implications for the results of the test of the hypothesis (if for instance an influencer campaign was referring to too long ago, the impact of influencers on advertising, which exploded recently, would have been less significant but only because of the time during which the data have been collected) eventually making them not relevant.\n",
    "\n",
    "The causality here is just a mere assumption which depends on the results of the model based on the limited number of observations and variables we set for it. These results come from the few variables we asked the model to analyse but in real world life the variables at the base of such choices are much more numerous.  Also, with a limited sample we can even suppose the result of our analysis are correct and indeed the users identified by our data elaboration would be willing to support the campaign with a donation spending only on such variables. This does not automatically mean that the same portion of a biggest sample will be willing to do the same. The score generated by a model of a specific sample may not generate the same result across different groups.\n",
    "\n",
    "The next steps to make the analysis more solid would be to create the same condition on a larger sample to test the results again. Most importantly, further research must be carried on the segment interested in ONGs such as Greenpeace in order to be able to create better results adding in the model more numerous and salient variables responsible to influence behaviour in such situations.\n"
   ]
  },
  {
   "cell_type": "code",
   "execution_count": 1,
   "id": "d3ef9409-46cb-447a-b1de-662d3b7c354b",
   "metadata": {},
   "outputs": [],
   "source": [
    "import pandas as pd\n",
    "import seaborn as sns\n",
    "from sklearn.linear_model import LogisticRegression, LinearRegression\n",
    "import statsmodels.api as sm\n",
    "pd.set_option('display.float_format', lambda x: '%.3f' % x)\n",
    "%matplotlib inline"
   ]
  },
  {
   "cell_type": "markdown",
   "id": "4cf89892-ec45-4613-adf5-ba770278bcae",
   "metadata": {},
   "source": [
    "##### Importing the file"
   ]
  },
  {
   "cell_type": "code",
   "execution_count": 2,
   "id": "d851ba81-c07c-4c98-8cf7-68d2adc14e87",
   "metadata": {},
   "outputs": [],
   "source": [
    "donations = pd.read_json('FlorindoArgondizzo_donations.jsonl', lines=True)"
   ]
  },
  {
   "cell_type": "code",
   "execution_count": 3,
   "id": "f47b97d9-9558-493e-8630-a635bb9acebf",
   "metadata": {},
   "outputs": [
    {
     "data": {
      "text/html": [
       "<div>\n",
       "<style scoped>\n",
       "    .dataframe tbody tr th:only-of-type {\n",
       "        vertical-align: middle;\n",
       "    }\n",
       "\n",
       "    .dataframe tbody tr th {\n",
       "        vertical-align: top;\n",
       "    }\n",
       "\n",
       "    .dataframe thead th {\n",
       "        text-align: right;\n",
       "    }\n",
       "</style>\n",
       "<table border=\"1\" class=\"dataframe\">\n",
       "  <thead>\n",
       "    <tr style=\"text-align: right;\">\n",
       "      <th></th>\n",
       "      <th>donation</th>\n",
       "    </tr>\n",
       "  </thead>\n",
       "  <tbody>\n",
       "    <tr>\n",
       "      <th>0</th>\n",
       "      <td>{'donated': 1.0, 'donated_value': 51.0, 'id': ...</td>\n",
       "    </tr>\n",
       "    <tr>\n",
       "      <th>1</th>\n",
       "      <td>{'donated': 1.0, 'donated_value': 75.0, 'id': ...</td>\n",
       "    </tr>\n",
       "    <tr>\n",
       "      <th>2</th>\n",
       "      <td>{'donated': 1.0, 'donated_value': 51.0, 'id': ...</td>\n",
       "    </tr>\n",
       "    <tr>\n",
       "      <th>3</th>\n",
       "      <td>{'donated': 1.0, 'donated_value': 55.0, 'id': ...</td>\n",
       "    </tr>\n",
       "    <tr>\n",
       "      <th>4</th>\n",
       "      <td>{'donated': 1.0, 'donated_value': 91.0, 'id': ...</td>\n",
       "    </tr>\n",
       "  </tbody>\n",
       "</table>\n",
       "</div>"
      ],
      "text/plain": [
       "                                            donation\n",
       "0  {'donated': 1.0, 'donated_value': 51.0, 'id': ...\n",
       "1  {'donated': 1.0, 'donated_value': 75.0, 'id': ...\n",
       "2  {'donated': 1.0, 'donated_value': 51.0, 'id': ...\n",
       "3  {'donated': 1.0, 'donated_value': 55.0, 'id': ...\n",
       "4  {'donated': 1.0, 'donated_value': 91.0, 'id': ..."
      ]
     },
     "execution_count": 3,
     "metadata": {},
     "output_type": "execute_result"
    }
   ],
   "source": [
    "donations.head()"
   ]
  },
  {
   "cell_type": "markdown",
   "id": "2b327562-5026-45d4-a89b-b64ca223d48b",
   "metadata": {},
   "source": [
    "##### Since my data contain a second dictionary in it, I will normalize it to have the data displayed in a useful way"
   ]
  },
  {
   "cell_type": "code",
   "execution_count": 4,
   "id": "ea390ecf-ac72-4cca-87c9-1bb6db49dedf",
   "metadata": {},
   "outputs": [],
   "source": [
    "donors = pd.json_normalize(donations['donation']) "
   ]
  },
  {
   "cell_type": "markdown",
   "id": "49396e00-7312-4ebc-b139-38822f278d27",
   "metadata": {},
   "source": [
    "##### My DVs: donations and donation value"
   ]
  },
  {
   "cell_type": "code",
   "execution_count": 5,
   "id": "e015be7d-be20-4e07-af3a-e329afbeb152",
   "metadata": {},
   "outputs": [
    {
     "data": {
      "text/html": [
       "<div>\n",
       "<style scoped>\n",
       "    .dataframe tbody tr th:only-of-type {\n",
       "        vertical-align: middle;\n",
       "    }\n",
       "\n",
       "    .dataframe tbody tr th {\n",
       "        vertical-align: top;\n",
       "    }\n",
       "\n",
       "    .dataframe thead th {\n",
       "        text-align: right;\n",
       "    }\n",
       "</style>\n",
       "<table border=\"1\" class=\"dataframe\">\n",
       "  <thead>\n",
       "    <tr style=\"text-align: right;\">\n",
       "      <th></th>\n",
       "      <th>donated</th>\n",
       "      <th>donated_value</th>\n",
       "      <th>id</th>\n",
       "    </tr>\n",
       "  </thead>\n",
       "  <tbody>\n",
       "    <tr>\n",
       "      <th>0</th>\n",
       "      <td>1.000</td>\n",
       "      <td>51.000</td>\n",
       "      <td>33981</td>\n",
       "    </tr>\n",
       "    <tr>\n",
       "      <th>1</th>\n",
       "      <td>1.000</td>\n",
       "      <td>75.000</td>\n",
       "      <td>33984</td>\n",
       "    </tr>\n",
       "    <tr>\n",
       "      <th>2</th>\n",
       "      <td>1.000</td>\n",
       "      <td>51.000</td>\n",
       "      <td>33985</td>\n",
       "    </tr>\n",
       "    <tr>\n",
       "      <th>3</th>\n",
       "      <td>1.000</td>\n",
       "      <td>55.000</td>\n",
       "      <td>33986</td>\n",
       "    </tr>\n",
       "    <tr>\n",
       "      <th>4</th>\n",
       "      <td>1.000</td>\n",
       "      <td>91.000</td>\n",
       "      <td>33987</td>\n",
       "    </tr>\n",
       "  </tbody>\n",
       "</table>\n",
       "</div>"
      ],
      "text/plain": [
       "   donated  donated_value     id\n",
       "0    1.000         51.000  33981\n",
       "1    1.000         75.000  33984\n",
       "2    1.000         51.000  33985\n",
       "3    1.000         55.000  33986\n",
       "4    1.000         91.000  33987"
      ]
     },
     "execution_count": 5,
     "metadata": {},
     "output_type": "execute_result"
    }
   ],
   "source": [
    "donors.head()"
   ]
  },
  {
   "cell_type": "markdown",
   "id": "890a6a3f-f0b7-4ef0-9264-5aa937319951",
   "metadata": {},
   "source": [
    "##### Checking the number of observations contained by the dataset"
   ]
  },
  {
   "cell_type": "code",
   "execution_count": 6,
   "id": "2650d07e-1633-4b59-96ba-24feff93748a",
   "metadata": {},
   "outputs": [
    {
     "data": {
      "text/plain": [
       "20985"
      ]
     },
     "execution_count": 6,
     "metadata": {},
     "output_type": "execute_result"
    }
   ],
   "source": [
    "len (donors)"
   ]
  },
  {
   "cell_type": "markdown",
   "id": "c033911b-3798-4302-965c-efa4b0e58fad",
   "metadata": {},
   "source": [
    "##### All the variables are in form of float or integer which is ok since they are numerical"
   ]
  },
  {
   "cell_type": "code",
   "execution_count": 7,
   "id": "45d6e4b0-5b72-4de2-9936-55e680544d50",
   "metadata": {},
   "outputs": [
    {
     "data": {
      "text/plain": [
       "donated          float64\n",
       "donated_value    float64\n",
       "id                 int64\n",
       "dtype: object"
      ]
     },
     "execution_count": 7,
     "metadata": {},
     "output_type": "execute_result"
    }
   ],
   "source": [
    "donors.dtypes"
   ]
  },
  {
   "cell_type": "markdown",
   "id": "09442d6b-3c11-42db-8a53-7449cd40e9a7",
   "metadata": {},
   "source": [
    "##### The dataset donors only contains donors, makes sense!"
   ]
  },
  {
   "cell_type": "code",
   "execution_count": 8,
   "id": "01658a92-539d-45e2-ba05-fb593d310397",
   "metadata": {},
   "outputs": [
    {
     "data": {
      "text/plain": [
       "1.000    20985\n",
       "Name: donated, dtype: int64"
      ]
     },
     "execution_count": 8,
     "metadata": {},
     "output_type": "execute_result"
    }
   ],
   "source": [
    "donors['donated'] .value_counts()"
   ]
  },
  {
   "cell_type": "markdown",
   "id": "8a68aa94-313b-48a5-a66a-f8f7c2b806a8",
   "metadata": {},
   "source": [
    "##### The average donation among the donors is 64€ with a minimum donation registered of 1€ and the highest of 100€"
   ]
  },
  {
   "cell_type": "code",
   "execution_count": 9,
   "id": "b27a052b-9698-4455-8155-afd442a0aa26",
   "metadata": {},
   "outputs": [
    {
     "data": {
      "text/plain": [
       "count   20985.000\n",
       "mean       64.531\n",
       "std        14.596\n",
       "min         1.000\n",
       "25%        53.000\n",
       "50%        62.000\n",
       "75%        72.000\n",
       "max       100.000\n",
       "Name: donated_value, dtype: float64"
      ]
     },
     "execution_count": 9,
     "metadata": {},
     "output_type": "execute_result"
    }
   ],
   "source": [
    "donors['donated_value'] .describe()"
   ]
  },
  {
   "cell_type": "markdown",
   "id": "4da9b5cc-45dd-43b0-a795-ab539bcb7246",
   "metadata": {},
   "source": [
    "##### A total donated value of 1.354.176,00€ among different campaigns, not very relevant but I was curious about it"
   ]
  },
  {
   "cell_type": "code",
   "execution_count": 10,
   "id": "9d2f9ee6-d540-4aa5-87c1-b3682d422d18",
   "metadata": {},
   "outputs": [
    {
     "data": {
      "text/plain": [
       "1354176.0"
      ]
     },
     "execution_count": 10,
     "metadata": {},
     "output_type": "execute_result"
    }
   ],
   "source": [
    "donors['donated_value'].sum(axis=None, skipna=None, level=None, numeric_only=None, min_count=0) "
   ]
  },
  {
   "cell_type": "markdown",
   "id": "17c322bc-d7e4-438c-a611-043b2e1d998b",
   "metadata": {},
   "source": [
    "##### Looking for missing values "
   ]
  },
  {
   "cell_type": "code",
   "execution_count": 11,
   "id": "94a89228-7766-4587-bd37-9ac14de47bf7",
   "metadata": {},
   "outputs": [
    {
     "data": {
      "text/plain": [
       "donated          0\n",
       "donated_value    0\n",
       "id               0\n",
       "dtype: int64"
      ]
     },
     "execution_count": 11,
     "metadata": {},
     "output_type": "execute_result"
    }
   ],
   "source": [
    "donors.isna().sum()"
   ]
  },
  {
   "cell_type": "markdown",
   "id": "a10a2e41-9e81-4dc8-ae34-98dc1d7342ef",
   "metadata": {},
   "source": [
    "##### Opening my second dataset referring to the users' session"
   ]
  },
  {
   "cell_type": "code",
   "execution_count": 12,
   "id": "498cce00-1505-494a-ae94-54d6fa955af1",
   "metadata": {},
   "outputs": [],
   "source": [
    "session = pd.read_pickle('FlorindoArgondizzo_sessionlogs.pkl')"
   ]
  },
  {
   "cell_type": "markdown",
   "id": "44fdfbcb-2759-449d-a1c9-b502bb9f4c63",
   "metadata": {},
   "source": [
    "##### This dataset contains my IVs (the fundraising campaigns) and my control variables (age,referral,device used)"
   ]
  },
  {
   "cell_type": "code",
   "execution_count": 13,
   "id": "432610fa-445f-4438-93ed-13c8afe04e6c",
   "metadata": {},
   "outputs": [
    {
     "data": {
      "text/html": [
       "<div>\n",
       "<style scoped>\n",
       "    .dataframe tbody tr th:only-of-type {\n",
       "        vertical-align: middle;\n",
       "    }\n",
       "\n",
       "    .dataframe tbody tr th {\n",
       "        vertical-align: top;\n",
       "    }\n",
       "\n",
       "    .dataframe thead th {\n",
       "        text-align: right;\n",
       "    }\n",
       "</style>\n",
       "<table border=\"1\" class=\"dataframe\">\n",
       "  <thead>\n",
       "    <tr style=\"text-align: right;\">\n",
       "      <th></th>\n",
       "      <th>campaign</th>\n",
       "      <th>age</th>\n",
       "      <th>referral</th>\n",
       "      <th>device_OS</th>\n",
       "      <th>sessionlog_id</th>\n",
       "    </tr>\n",
       "  </thead>\n",
       "  <tbody>\n",
       "    <tr>\n",
       "      <th>0</th>\n",
       "      <td>camp_endorser_B</td>\n",
       "      <td>62</td>\n",
       "      <td>barrett.com</td>\n",
       "      <td>Mozilla/5.0 (iPod; U; CPU iPhone OS 4_0 like M...</td>\n",
       "      <td>33978</td>\n",
       "    </tr>\n",
       "    <tr>\n",
       "      <th>1</th>\n",
       "      <td>camp_endorser_B</td>\n",
       "      <td>63</td>\n",
       "      <td>hernandez.com</td>\n",
       "      <td>Opera/9.69.(Windows CE; eo-US) Presto/2.9.178 ...</td>\n",
       "      <td>33979</td>\n",
       "    </tr>\n",
       "    <tr>\n",
       "      <th>2</th>\n",
       "      <td>NaN</td>\n",
       "      <td>20</td>\n",
       "      <td>instagram.com</td>\n",
       "      <td>Mozilla/5.0 (Windows; U; Windows NT 5.2) Apple...</td>\n",
       "      <td>33980</td>\n",
       "    </tr>\n",
       "    <tr>\n",
       "      <th>3</th>\n",
       "      <td>camp_endorser_B</td>\n",
       "      <td>48</td>\n",
       "      <td>instagram.com</td>\n",
       "      <td>Opera/8.99.(X11; Linux x86_64; om-KE) Presto/2...</td>\n",
       "      <td>33981</td>\n",
       "    </tr>\n",
       "    <tr>\n",
       "      <th>4</th>\n",
       "      <td>camp_endorser_A</td>\n",
       "      <td>74</td>\n",
       "      <td>facebook.com</td>\n",
       "      <td>Mozilla/5.0 (X11; Linux x86_64; rv:1.9.5.20) G...</td>\n",
       "      <td>33982</td>\n",
       "    </tr>\n",
       "  </tbody>\n",
       "</table>\n",
       "</div>"
      ],
      "text/plain": [
       "          campaign age       referral  \\\n",
       "0  camp_endorser_B  62    barrett.com   \n",
       "1  camp_endorser_B  63  hernandez.com   \n",
       "2              NaN  20  instagram.com   \n",
       "3  camp_endorser_B  48  instagram.com   \n",
       "4  camp_endorser_A  74   facebook.com   \n",
       "\n",
       "                                           device_OS sessionlog_id  \n",
       "0  Mozilla/5.0 (iPod; U; CPU iPhone OS 4_0 like M...         33978  \n",
       "1  Opera/9.69.(Windows CE; eo-US) Presto/2.9.178 ...         33979  \n",
       "2  Mozilla/5.0 (Windows; U; Windows NT 5.2) Apple...         33980  \n",
       "3  Opera/8.99.(X11; Linux x86_64; om-KE) Presto/2...         33981  \n",
       "4  Mozilla/5.0 (X11; Linux x86_64; rv:1.9.5.20) G...         33982  "
      ]
     },
     "execution_count": 13,
     "metadata": {},
     "output_type": "execute_result"
    }
   ],
   "source": [
    "session.head()"
   ]
  },
  {
   "cell_type": "markdown",
   "id": "69b30b10-2704-44ad-9190-29064a57b552",
   "metadata": {},
   "source": [
    "##### Checking the number of observations contained by the session dataset"
   ]
  },
  {
   "cell_type": "code",
   "execution_count": 14,
   "id": "fc17777a-914d-4d90-9eec-a086517b44ce",
   "metadata": {},
   "outputs": [
    {
     "data": {
      "text/plain": [
       "55000"
      ]
     },
     "execution_count": 14,
     "metadata": {},
     "output_type": "execute_result"
    }
   ],
   "source": [
    "len(session)"
   ]
  },
  {
   "cell_type": "markdown",
   "id": "bd30d1f4-3c1f-4962-9604-f20cc09cab05",
   "metadata": {},
   "source": [
    "##### Age and sesssionlog id seem to be objecs (text)"
   ]
  },
  {
   "cell_type": "code",
   "execution_count": 15,
   "id": "cd76a209-7a15-4f8c-a101-9c0e83bd9164",
   "metadata": {},
   "outputs": [
    {
     "data": {
      "text/plain": [
       "campaign         object\n",
       "age              object\n",
       "referral         object\n",
       "device_OS        object\n",
       "sessionlog_id    object\n",
       "dtype: object"
      ]
     },
     "execution_count": 15,
     "metadata": {},
     "output_type": "execute_result"
    }
   ],
   "source": [
    "session.dtypes"
   ]
  },
  {
   "cell_type": "markdown",
   "id": "256d0dc0-785b-4dea-b239-a8aacc97d1c6",
   "metadata": {},
   "source": [
    "##### Turning age first and then sesssionlog_id into integers because I want them to be in form of numbers"
   ]
  },
  {
   "cell_type": "code",
   "execution_count": 16,
   "id": "02f83b84-ee22-47c2-b38d-4f04fb964df4",
   "metadata": {},
   "outputs": [],
   "source": [
    "session['age'] = session['age'].apply(pd.to_numeric)"
   ]
  },
  {
   "cell_type": "code",
   "execution_count": 17,
   "id": "86a766be-f1db-4976-b21f-d1854c93f3eb",
   "metadata": {},
   "outputs": [],
   "source": [
    "session['sessionlog_id'] = session['sessionlog_id'].apply(pd.to_numeric)"
   ]
  },
  {
   "cell_type": "code",
   "execution_count": 18,
   "id": "ef40db80-4585-4992-bede-f1bbcaec64ba",
   "metadata": {},
   "outputs": [
    {
     "data": {
      "text/plain": [
       "campaign         object\n",
       "age               int64\n",
       "referral         object\n",
       "device_OS        object\n",
       "sessionlog_id     int64\n",
       "dtype: object"
      ]
     },
     "execution_count": 18,
     "metadata": {},
     "output_type": "execute_result"
    }
   ],
   "source": [
    "session.dtypes"
   ]
  },
  {
   "cell_type": "markdown",
   "id": "19de622f-0c5f-440a-8153-966f9ed204c2",
   "metadata": {},
   "source": [
    "##### Looking at the campaigns. I will recategorized them in 3 main campaigns (influencer, celebrity and no endorser) and a fourth category, namely \"other campaigns\", will be used to collect missing values (since from the total observations distributed among different campaigns it looks like I miss approximately 13.000 users! "
   ]
  },
  {
   "cell_type": "code",
   "execution_count": 19,
   "id": "d66d4418-326a-4fe5-b591-fc358a0a2219",
   "metadata": {},
   "outputs": [
    {
     "data": {
      "text/plain": [
       "endorser_B         7007\n",
       "camp_endorser_B    6933\n",
       "endorser_A         6932\n",
       "green_camp         6913\n",
       "green              6797\n",
       "camp_endorser_A    6782\n",
       "Name: campaign, dtype: int64"
      ]
     },
     "execution_count": 19,
     "metadata": {},
     "output_type": "execute_result"
    }
   ],
   "source": [
    "session['campaign'].value_counts()"
   ]
  },
  {
   "cell_type": "markdown",
   "id": "e0bbb22f-5e91-413e-b301-345c0ad4cf80",
   "metadata": {},
   "source": [
    "##### Looking for missing values to confirm the suspects about campaigns. Here they are! I also have missing values for the referral"
   ]
  },
  {
   "cell_type": "code",
   "execution_count": 20,
   "id": "075eb950-803c-4f42-b787-48be779c12d6",
   "metadata": {},
   "outputs": [
    {
     "data": {
      "text/plain": [
       "campaign         13636\n",
       "age                  0\n",
       "referral          9249\n",
       "device_OS            0\n",
       "sessionlog_id        0\n",
       "dtype: int64"
      ]
     },
     "execution_count": 20,
     "metadata": {},
     "output_type": "execute_result"
    }
   ],
   "source": [
    "session.isna().sum()"
   ]
  },
  {
   "cell_type": "markdown",
   "id": "f6374ec6-cc08-405e-b5c9-c8e99b6f35b8",
   "metadata": {},
   "source": [
    "##### Recategorizing my campaigns including also the missing values. To do so I will apply the following function in which I am simply asking pandas, if the category is camp endorser A or endorser A, to return as influencer. If the category is camp endorser B or endorser B to return as celebrity. If the category is green camp or green to return as no endorser. To conclude, I am asking pandas, if the campaign is in any other else category (all the missing values for instance), to return as other campaigns"
   ]
  },
  {
   "cell_type": "code",
   "execution_count": 21,
   "id": "b35991af-47ca-4255-aa50-f2e1fe84e8d0",
   "metadata": {},
   "outputs": [],
   "source": [
    "def recategorize(category):\n",
    "    if category == 'camp_endorser_A':\n",
    "        return 'influencer'\n",
    "    if category == 'endorser_A':\n",
    "        return 'influencer'\n",
    "    if category == 'camp_endorser_B':\n",
    "        return 'celebrity'\n",
    "    if category == 'endorser_B':\n",
    "        return 'celebrity'\n",
    "    if category == 'green_camp':\n",
    "        return 'no endorser'\n",
    "    if category == 'green':\n",
    "        return 'no endorser'\n",
    "     \n",
    "    else:\n",
    "        return 'other campaigns'"
   ]
  },
  {
   "cell_type": "markdown",
   "id": "800e2b2f-5bee-4382-8aa3-990feace697a",
   "metadata": {},
   "source": [
    "##### Applying the function to the column \"campaign\" of the session dataframe and checking the results"
   ]
  },
  {
   "cell_type": "code",
   "execution_count": 22,
   "id": "993209c6-8767-4f5b-81d2-f73d8cb8b678",
   "metadata": {},
   "outputs": [],
   "source": [
    "session['campaign'] = session['campaign'].apply(recategorize)"
   ]
  },
  {
   "cell_type": "code",
   "execution_count": 23,
   "id": "a8afd70c-2ce6-41c0-baaa-2eea5aa1a673",
   "metadata": {},
   "outputs": [
    {
     "data": {
      "text/plain": [
       "celebrity          13940\n",
       "influencer         13714\n",
       "no endorser        13710\n",
       "other campaigns    13636\n",
       "Name: campaign, dtype: int64"
      ]
     },
     "execution_count": 23,
     "metadata": {},
     "output_type": "execute_result"
    }
   ],
   "source": [
    "session['campaign'].value_counts()"
   ]
  },
  {
   "cell_type": "markdown",
   "id": "b0ee8acf-5957-4a83-b1ab-fc709b8ca6e2",
   "metadata": {},
   "source": [
    "##### Double checking that all my missing values from campaigns have been correctly replaced"
   ]
  },
  {
   "cell_type": "code",
   "execution_count": 24,
   "id": "a6f6e3f1-da28-4a50-a969-137146bfb80b",
   "metadata": {},
   "outputs": [
    {
     "data": {
      "text/plain": [
       "campaign            0\n",
       "age                 0\n",
       "referral         9249\n",
       "device_OS           0\n",
       "sessionlog_id       0\n",
       "dtype: int64"
      ]
     },
     "execution_count": 24,
     "metadata": {},
     "output_type": "execute_result"
    }
   ],
   "source": [
    "session.isna().sum()"
   ]
  },
  {
   "cell_type": "markdown",
   "id": "3ea067f7-b07a-4751-83f9-d8254c5c08c3",
   "metadata": {},
   "source": [
    "##### Controlling the reach of each campaign: among the 55.000 observations the campaigns seem to be equally distributed. Each campaign refers to a 25% of the total sample (approximately 14.000 users)"
   ]
  },
  {
   "cell_type": "code",
   "execution_count": 25,
   "id": "a81ed40a-6229-4ded-a693-1796798fd550",
   "metadata": {},
   "outputs": [
    {
     "data": {
      "text/plain": [
       "celebrity         0.253\n",
       "influencer        0.249\n",
       "no endorser       0.249\n",
       "other campaigns   0.248\n",
       "Name: campaign, dtype: float64"
      ]
     },
     "execution_count": 25,
     "metadata": {},
     "output_type": "execute_result"
    }
   ],
   "source": [
    "session['campaign'].value_counts(normalize=True)"
   ]
  },
  {
   "cell_type": "markdown",
   "id": "5d0e00d9-1d11-40b8-9cdd-bf2f79064b4f",
   "metadata": {},
   "source": [
    "##### Now creating a binary variable for each campaign with a text query. Cases will be identified depending on the presence or not of the word/s which we typed in the query: if the word is present a token, \"1\", will be given to the case which will be then indicated as positive to our query. If the word is not present 0 tokens will be given and thus the case will be reported as negative to our query."
   ]
  },
  {
   "cell_type": "code",
   "execution_count": 26,
   "id": "a5500caa-c502-4617-83e5-df7096a9f627",
   "metadata": {},
   "outputs": [],
   "source": [
    "def wordlist_any_present(text, query):\n",
    "    import re\n",
    "    text = str(text).lower()\n",
    "    newquery = []\n",
    "    for word in query:\n",
    "        newquery.append(str(word).lower())\n",
    "    tokens = re.findall(r\"[\\w']+|[.,!?;$@#]\", text)\n",
    "    \n",
    "    for word in newquery:\n",
    "        if word in tokens:\n",
    "            return 1\n",
    "    return 0"
   ]
  },
  {
   "cell_type": "markdown",
   "id": "2a47a223-94c9-4d91-81dd-ae0498f0a2ed",
   "metadata": {},
   "source": [
    "##### Applying the function and typing the text I am looking for: the words chosen for the queries will be named as the campaign categories in order to have perfect matches and identify per each category how many cases can be addressed to it"
   ]
  },
  {
   "cell_type": "code",
   "execution_count": 27,
   "id": "b6f2fdaa-0b06-4f17-986e-2307ba6cc0ea",
   "metadata": {},
   "outputs": [],
   "source": [
    "session['influencer'] = session['campaign'].apply(wordlist_any_present, args=(['influencer'],))"
   ]
  },
  {
   "cell_type": "code",
   "execution_count": 28,
   "id": "446ac328-1e63-4205-95aa-7e96f83d448a",
   "metadata": {},
   "outputs": [],
   "source": [
    "session['celebrity'] = session['campaign'].apply(wordlist_any_present, args=(['celebrity'],))"
   ]
  },
  {
   "cell_type": "code",
   "execution_count": 29,
   "id": "5d4edbfc-8807-48e6-b226-9dc37973a9e4",
   "metadata": {},
   "outputs": [],
   "source": [
    "session['no endorser'] = session['campaign'].apply(wordlist_any_present, args=(['no','endorser'],))"
   ]
  },
  {
   "cell_type": "code",
   "execution_count": 30,
   "id": "d2de28bc-7262-4ef0-a277-ad26b57653a5",
   "metadata": {},
   "outputs": [],
   "source": [
    "session['other campaigns'] = session['campaign'].apply(wordlist_any_present, args=(['other','campains'],))"
   ]
  },
  {
   "cell_type": "code",
   "execution_count": 31,
   "id": "764fbd7a-81e4-4e22-a431-092a9cec9942",
   "metadata": {},
   "outputs": [
    {
     "data": {
      "text/html": [
       "<div>\n",
       "<style scoped>\n",
       "    .dataframe tbody tr th:only-of-type {\n",
       "        vertical-align: middle;\n",
       "    }\n",
       "\n",
       "    .dataframe tbody tr th {\n",
       "        vertical-align: top;\n",
       "    }\n",
       "\n",
       "    .dataframe thead th {\n",
       "        text-align: right;\n",
       "    }\n",
       "</style>\n",
       "<table border=\"1\" class=\"dataframe\">\n",
       "  <thead>\n",
       "    <tr style=\"text-align: right;\">\n",
       "      <th></th>\n",
       "      <th>campaign</th>\n",
       "      <th>age</th>\n",
       "      <th>referral</th>\n",
       "      <th>device_OS</th>\n",
       "      <th>sessionlog_id</th>\n",
       "      <th>influencer</th>\n",
       "      <th>celebrity</th>\n",
       "      <th>no endorser</th>\n",
       "      <th>other campaigns</th>\n",
       "    </tr>\n",
       "  </thead>\n",
       "  <tbody>\n",
       "    <tr>\n",
       "      <th>0</th>\n",
       "      <td>celebrity</td>\n",
       "      <td>62</td>\n",
       "      <td>barrett.com</td>\n",
       "      <td>Mozilla/5.0 (iPod; U; CPU iPhone OS 4_0 like M...</td>\n",
       "      <td>33978</td>\n",
       "      <td>0</td>\n",
       "      <td>1</td>\n",
       "      <td>0</td>\n",
       "      <td>0</td>\n",
       "    </tr>\n",
       "    <tr>\n",
       "      <th>1</th>\n",
       "      <td>celebrity</td>\n",
       "      <td>63</td>\n",
       "      <td>hernandez.com</td>\n",
       "      <td>Opera/9.69.(Windows CE; eo-US) Presto/2.9.178 ...</td>\n",
       "      <td>33979</td>\n",
       "      <td>0</td>\n",
       "      <td>1</td>\n",
       "      <td>0</td>\n",
       "      <td>0</td>\n",
       "    </tr>\n",
       "    <tr>\n",
       "      <th>2</th>\n",
       "      <td>other campaigns</td>\n",
       "      <td>20</td>\n",
       "      <td>instagram.com</td>\n",
       "      <td>Mozilla/5.0 (Windows; U; Windows NT 5.2) Apple...</td>\n",
       "      <td>33980</td>\n",
       "      <td>0</td>\n",
       "      <td>0</td>\n",
       "      <td>0</td>\n",
       "      <td>1</td>\n",
       "    </tr>\n",
       "    <tr>\n",
       "      <th>3</th>\n",
       "      <td>celebrity</td>\n",
       "      <td>48</td>\n",
       "      <td>instagram.com</td>\n",
       "      <td>Opera/8.99.(X11; Linux x86_64; om-KE) Presto/2...</td>\n",
       "      <td>33981</td>\n",
       "      <td>0</td>\n",
       "      <td>1</td>\n",
       "      <td>0</td>\n",
       "      <td>0</td>\n",
       "    </tr>\n",
       "    <tr>\n",
       "      <th>4</th>\n",
       "      <td>influencer</td>\n",
       "      <td>74</td>\n",
       "      <td>facebook.com</td>\n",
       "      <td>Mozilla/5.0 (X11; Linux x86_64; rv:1.9.5.20) G...</td>\n",
       "      <td>33982</td>\n",
       "      <td>1</td>\n",
       "      <td>0</td>\n",
       "      <td>0</td>\n",
       "      <td>0</td>\n",
       "    </tr>\n",
       "  </tbody>\n",
       "</table>\n",
       "</div>"
      ],
      "text/plain": [
       "          campaign  age       referral  \\\n",
       "0        celebrity   62    barrett.com   \n",
       "1        celebrity   63  hernandez.com   \n",
       "2  other campaigns   20  instagram.com   \n",
       "3        celebrity   48  instagram.com   \n",
       "4       influencer   74   facebook.com   \n",
       "\n",
       "                                           device_OS  sessionlog_id  \\\n",
       "0  Mozilla/5.0 (iPod; U; CPU iPhone OS 4_0 like M...          33978   \n",
       "1  Opera/9.69.(Windows CE; eo-US) Presto/2.9.178 ...          33979   \n",
       "2  Mozilla/5.0 (Windows; U; Windows NT 5.2) Apple...          33980   \n",
       "3  Opera/8.99.(X11; Linux x86_64; om-KE) Presto/2...          33981   \n",
       "4  Mozilla/5.0 (X11; Linux x86_64; rv:1.9.5.20) G...          33982   \n",
       "\n",
       "   influencer  celebrity  no endorser  other campaigns  \n",
       "0           0          1            0                0  \n",
       "1           0          1            0                0  \n",
       "2           0          0            0                1  \n",
       "3           0          1            0                0  \n",
       "4           1          0            0                0  "
      ]
     },
     "execution_count": 31,
     "metadata": {},
     "output_type": "execute_result"
    }
   ],
   "source": [
    "session.head()"
   ]
  },
  {
   "cell_type": "markdown",
   "id": "12c8fc4e-5310-4a4c-87db-e1b943573f60",
   "metadata": {},
   "source": [
    "##### Looking at my referrals to create solid categories depending on the distribution. The main referrals seem to be only 4:facebook.com, google.com, youtube.com and instagram.com. The other observations' concentration from smith.com onwards are too small to be considered relevant for the analysis"
   ]
  },
  {
   "cell_type": "code",
   "execution_count": 32,
   "id": "a916a89d-c19c-4111-8557-abe056f8b326",
   "metadata": {},
   "outputs": [
    {
     "data": {
      "text/plain": [
       "facebook.com             9239\n",
       "google.com               9232\n",
       "youtube.com              9207\n",
       "instagram.com            9115\n",
       "smith.com                  80\n",
       "                         ... \n",
       "woodward-williams.com       1\n",
       "gonzales-yoder.info         1\n",
       "myers-johnson.com           1\n",
       "edwards-moyer.com           1\n",
       "howard-kirby.com            1\n",
       "Name: referral, Length: 5311, dtype: int64"
      ]
     },
     "execution_count": 32,
     "metadata": {},
     "output_type": "execute_result"
    }
   ],
   "source": [
    "session['referral'].value_counts()"
   ]
  },
  {
   "cell_type": "markdown",
   "id": "84ea5cf4-aaea-4d93-9f65-cf7785244d49",
   "metadata": {},
   "source": [
    "##### Recategorizing my referrals including also the missing values. The consept is the same expressed in the previous function: each category of interest (Google, Instagram, Facebook, Youtube) will be recategorized and the smaller concentration of observations among other referral, together with the missing values, will be collected by the function (through the final part of the code, \"else\") in a new category: other"
   ]
  },
  {
   "cell_type": "code",
   "execution_count": 33,
   "id": "99fbaaf2-34c2-42d9-897f-c5e59f95c5e3",
   "metadata": {},
   "outputs": [],
   "source": [
    "def recategorize(category):\n",
    "    if category == 'facebook.com':\n",
    "        return 'Facebook'\n",
    "    if category == 'google.com':\n",
    "        return 'Google'\n",
    "    if category == 'youtube.com':\n",
    "        return 'Youtube'\n",
    "    if category == 'instagram.com':\n",
    "        return 'Instagram'\n",
    "\n",
    "     \n",
    "    else:\n",
    "        return 'other'"
   ]
  },
  {
   "cell_type": "markdown",
   "id": "1e2c11ad-50a3-4ba0-9285-56881c66229b",
   "metadata": {},
   "source": [
    "##### Appling the function to the \"referral\" column of the session dataframe"
   ]
  },
  {
   "cell_type": "code",
   "execution_count": 34,
   "id": "fa396b08-bb11-435d-93df-762c420ee372",
   "metadata": {},
   "outputs": [],
   "source": [
    "session['referral'] = session['referral'].apply(recategorize)"
   ]
  },
  {
   "cell_type": "markdown",
   "id": "7bbc5eeb-a436-4fb5-9580-853db0342ff5",
   "metadata": {},
   "source": [
    "##### Creating binary variables for referrals with a word query. The concept used is the same explained in the previous function which do not differ from this one"
   ]
  },
  {
   "cell_type": "code",
   "execution_count": 35,
   "id": "2d1d56bf-a3ad-408d-9d57-b21077563f6f",
   "metadata": {},
   "outputs": [],
   "source": [
    "def wordlist_any_present(text, query):\n",
    "    import re\n",
    "    text = str(text).lower()\n",
    "    newquery = []\n",
    "    for word in query:\n",
    "        newquery.append(str(word).lower())\n",
    "    tokens = re.findall(r\"[\\w']+|[.,!?;$@#]\", text)\n",
    "    \n",
    "    for word in newquery:\n",
    "        if word in tokens:\n",
    "            return 1\n",
    "    return 0"
   ]
  },
  {
   "cell_type": "markdown",
   "id": "ece9ef5f-a4b6-4d1d-b2e3-5421241189b2",
   "metadata": {},
   "source": [
    "##### Applying the function and typing the text I am looking for"
   ]
  },
  {
   "cell_type": "code",
   "execution_count": 36,
   "id": "9a1e76bc-4abe-4b90-b9de-b8d4b9bdd54c",
   "metadata": {},
   "outputs": [],
   "source": [
    "session['Facebook'] = session['referral'].apply(wordlist_any_present, args=(['Facebook'],))"
   ]
  },
  {
   "cell_type": "code",
   "execution_count": 37,
   "id": "e5c82c93-f940-426b-bfc6-a2e20e8fa01c",
   "metadata": {},
   "outputs": [],
   "source": [
    "session['Google'] = session['referral'].apply(wordlist_any_present, args=(['Google'],))"
   ]
  },
  {
   "cell_type": "code",
   "execution_count": 38,
   "id": "3c90b0e0-3b0e-4878-988c-069d2bbd08ee",
   "metadata": {},
   "outputs": [],
   "source": [
    "session['Youtube'] = session['referral'].apply(wordlist_any_present, args=(['Youtube'],))"
   ]
  },
  {
   "cell_type": "code",
   "execution_count": 39,
   "id": "bb1cdf13-f2ad-48e0-94f9-a49f9504a236",
   "metadata": {},
   "outputs": [],
   "source": [
    "session['Instagram'] = session['referral'].apply(wordlist_any_present, args=(['Instagram'],))"
   ]
  },
  {
   "cell_type": "code",
   "execution_count": 40,
   "id": "edee6e9e-89dc-4e8b-814c-2f32595c96ad",
   "metadata": {},
   "outputs": [],
   "source": [
    "session['Other'] = session['referral'].apply(wordlist_any_present, args=(['other'],))"
   ]
  },
  {
   "cell_type": "markdown",
   "id": "a73044bb-9fd6-4692-bf69-fa54efbbc384",
   "metadata": {},
   "source": [
    "##### Users entered into the ONG website from the main referral in a balanced way: 9.000 users entered per each referral (Facebook, Google, Youtube, Instagram) and 18.000 users entered from other websites. "
   ]
  },
  {
   "cell_type": "code",
   "execution_count": 41,
   "id": "c4bc361d-f591-49a4-8e09-4c14a95bb0a0",
   "metadata": {},
   "outputs": [
    {
     "data": {
      "text/plain": [
       "other        18207\n",
       "Facebook      9239\n",
       "Google        9232\n",
       "Youtube       9207\n",
       "Instagram     9115\n",
       "Name: referral, dtype: int64"
      ]
     },
     "execution_count": 41,
     "metadata": {},
     "output_type": "execute_result"
    }
   ],
   "source": [
    "session['referral'].value_counts()"
   ]
  },
  {
   "cell_type": "markdown",
   "id": "9fc8fe80-dcc5-4943-b566-a773141efabd",
   "metadata": {},
   "source": [
    "##### 33% of the users entered from other websites and from the main referrals approximately 16% each"
   ]
  },
  {
   "cell_type": "code",
   "execution_count": 42,
   "id": "c2e138ae-1e69-4b5f-a254-ff60af8a2d62",
   "metadata": {},
   "outputs": [
    {
     "data": {
      "text/plain": [
       "other       0.331\n",
       "Facebook    0.168\n",
       "Google      0.168\n",
       "Youtube     0.167\n",
       "Instagram   0.166\n",
       "Name: referral, dtype: float64"
      ]
     },
     "execution_count": 42,
     "metadata": {},
     "output_type": "execute_result"
    }
   ],
   "source": [
    "session['referral'].value_counts(normalize=True)"
   ]
  },
  {
   "cell_type": "markdown",
   "id": "fa34f613-704a-4f58-8f84-0419657ee358",
   "metadata": {},
   "source": [
    "##### Controlling that all my missing values have been cleaned "
   ]
  },
  {
   "cell_type": "code",
   "execution_count": 43,
   "id": "1ef43fac-0e66-43ec-b7d7-27e6cb664c62",
   "metadata": {},
   "outputs": [
    {
     "data": {
      "text/plain": [
       "campaign           0\n",
       "age                0\n",
       "referral           0\n",
       "device_OS          0\n",
       "sessionlog_id      0\n",
       "influencer         0\n",
       "celebrity          0\n",
       "no endorser        0\n",
       "other campaigns    0\n",
       "Facebook           0\n",
       "Google             0\n",
       "Youtube            0\n",
       "Instagram          0\n",
       "Other              0\n",
       "dtype: int64"
      ]
     },
     "execution_count": 43,
     "metadata": {},
     "output_type": "execute_result"
    }
   ],
   "source": [
    "session.isna().sum()"
   ]
  },
  {
   "cell_type": "markdown",
   "id": "e114a0c8-0326-4819-a929-f06856e704b0",
   "metadata": {},
   "source": [
    "##### The data showed that the main operative systems used by users are Windows, Apple, Android or Linux. Now categorizing the devise OS in the main operative system in order do identify the typology of device used: originally it has been thought also to control for mobile devices or fix devices but the dataset limitations do not allow us to do so"
   ]
  },
  {
   "cell_type": "code",
   "execution_count": 44,
   "id": "2c8a3b39-5a24-45ea-9f84-7576c1e0c5e1",
   "metadata": {},
   "outputs": [
    {
     "data": {
      "text/plain": [
       "Mozilla/5.0 (compatible; MSIE 6.0; Windows NT 6.2; Trident/5.0)                                                                              0.001\n",
       "Mozilla/5.0 (compatible; MSIE 6.0; Windows CE; Trident/3.1)                                                                                  0.001\n",
       "Mozilla/5.0 (compatible; MSIE 7.0; Windows NT 5.1; Trident/4.0)                                                                              0.001\n",
       "Mozilla/5.0 (compatible; MSIE 6.0; Windows NT 6.0; Trident/4.1)                                                                              0.001\n",
       "Mozilla/5.0 (compatible; MSIE 7.0; Windows NT 5.01; Trident/3.0)                                                                             0.001\n",
       "                                                                                                                                              ... \n",
       "Opera/9.57.(Windows 98; he-IL) Presto/2.9.179 Version/10.00                                                                                  0.000\n",
       "Mozilla/5.0 (Android 2.3.3; Mobile; rv:34.0) Gecko/34.0 Firefox/34.0                                                                         0.000\n",
       "Mozilla/5.0 (Macintosh; U; Intel Mac OS X 10 8_0 rv:2.0; lg-UG) AppleWebKit/532.11.5 (KHTML, like Gecko) Version/4.1 Safari/532.11.5         0.000\n",
       "Mozilla/5.0 (iPhone; CPU iPhone OS 3_1_3 like Mac OS X) AppleWebKit/534.0 (KHTML, like Gecko) FxiOS/13.3n3670.0 Mobile/39Q107 Safari/534.0   0.000\n",
       "Mozilla/5.0 (Windows; U; Windows NT 5.01) AppleWebKit/535.6.4 (KHTML, like Gecko) Version/5.0.3 Safari/535.6.4                               0.000\n",
       "Name: device_OS, Length: 43872, dtype: float64"
      ]
     },
     "execution_count": 44,
     "metadata": {},
     "output_type": "execute_result"
    }
   ],
   "source": [
    "session['device_OS'].value_counts(normalize= True)"
   ]
  },
  {
   "cell_type": "markdown",
   "id": "e6ba381e-2111-4943-b6f2-80f6b9a1284d",
   "metadata": {},
   "source": [
    "##### Creating binary variables for each operative system through a text query. The same concept used to create the binary variables of the campaigns and referrals"
   ]
  },
  {
   "cell_type": "code",
   "execution_count": 45,
   "id": "19341690-2411-4ed9-a859-eedd67313a9f",
   "metadata": {},
   "outputs": [],
   "source": [
    "def wordlist_any_present(text, query):\n",
    "    import re\n",
    "    text = str(text).lower()\n",
    "    newquery = []\n",
    "    for word in query:\n",
    "        newquery.append(str(word).lower())\n",
    "    tokens = re.findall(r\"[\\w']+|[.,!?;$@#]\", text)\n",
    "    \n",
    "    for word in newquery:\n",
    "        if word in tokens:\n",
    "            return 1\n",
    "    return 0"
   ]
  },
  {
   "cell_type": "markdown",
   "id": "ddf30411-7922-40da-b928-dbc98bcfba72",
   "metadata": {},
   "source": [
    "##### Applying the function and typing the text I am looking for. Looking for Apple devices"
   ]
  },
  {
   "cell_type": "code",
   "execution_count": 46,
   "id": "fc057bc2-2e18-4880-9c49-0944574e6f3b",
   "metadata": {},
   "outputs": [],
   "source": [
    "session['Apple'] = session['device_OS'].apply(wordlist_any_present, args=(['Macintosh', 'iOS','ipad', 'apple', 'iphone'],))"
   ]
  },
  {
   "cell_type": "markdown",
   "id": "23ebc87e-225a-4374-a58d-112902d07d2f",
   "metadata": {},
   "source": [
    "##### 16.068 Apple devices spotted"
   ]
  },
  {
   "cell_type": "code",
   "execution_count": 47,
   "id": "27067f28-28a0-44de-830b-896efbebfbac",
   "metadata": {},
   "outputs": [
    {
     "data": {
      "text/plain": [
       "0    38932\n",
       "1    16068\n",
       "Name: Apple, dtype: int64"
      ]
     },
     "execution_count": 47,
     "metadata": {},
     "output_type": "execute_result"
    }
   ],
   "source": [
    "session['Apple'].value_counts()"
   ]
  },
  {
   "cell_type": "markdown",
   "id": "b113ba4a-4ef3-4b8d-8ce0-9d7168c6fb8b",
   "metadata": {},
   "source": [
    "##### The 29% are Apple devices"
   ]
  },
  {
   "cell_type": "code",
   "execution_count": 48,
   "id": "3c60ee29-c5ae-492f-a330-47f25a97d407",
   "metadata": {},
   "outputs": [
    {
     "data": {
      "text/plain": [
       "0   0.708\n",
       "1   0.292\n",
       "Name: Apple, dtype: float64"
      ]
     },
     "execution_count": 48,
     "metadata": {},
     "output_type": "execute_result"
    }
   ],
   "source": [
    "session['Apple'].value_counts(normalize=True)"
   ]
  },
  {
   "cell_type": "markdown",
   "id": "6b460cf4-6eff-42e5-8f51-bbc255dfb702",
   "metadata": {},
   "source": [
    "##### Looking for Windows devices"
   ]
  },
  {
   "cell_type": "code",
   "execution_count": 49,
   "id": "69245d4c-ded8-49ca-93db-0862ca29880f",
   "metadata": {},
   "outputs": [],
   "source": [
    "session['Windows'] = session['device_OS'].apply(wordlist_any_present, args=(['windows'],))"
   ]
  },
  {
   "cell_type": "markdown",
   "id": "6074fdda-ebb4-4a09-9d1b-74a4945eb2c9",
   "metadata": {},
   "source": [
    "##### 24.705 Windows devices spotted"
   ]
  },
  {
   "cell_type": "code",
   "execution_count": 50,
   "id": "e330af17-a782-47df-9fda-43d8e3f11791",
   "metadata": {},
   "outputs": [
    {
     "data": {
      "text/plain": [
       "0    30295\n",
       "1    24705\n",
       "Name: Windows, dtype: int64"
      ]
     },
     "execution_count": 50,
     "metadata": {},
     "output_type": "execute_result"
    }
   ],
   "source": [
    "session['Windows'].value_counts()"
   ]
  },
  {
   "cell_type": "markdown",
   "id": "8022266d-4ec0-403e-a2a9-5ce2b127efd6",
   "metadata": {},
   "source": [
    "##### 45% are Windows devices"
   ]
  },
  {
   "cell_type": "code",
   "execution_count": 51,
   "id": "acc0e199-e2b9-4858-af12-fc30a99569e0",
   "metadata": {},
   "outputs": [
    {
     "data": {
      "text/plain": [
       "0   0.551\n",
       "1   0.449\n",
       "Name: Windows, dtype: float64"
      ]
     },
     "execution_count": 51,
     "metadata": {},
     "output_type": "execute_result"
    }
   ],
   "source": [
    "session['Windows'].value_counts(normalize=True)"
   ]
  },
  {
   "cell_type": "markdown",
   "id": "38a1fee2-4576-402d-be66-3e54fa6d8901",
   "metadata": {},
   "source": [
    "##### Looking for Android devices"
   ]
  },
  {
   "cell_type": "code",
   "execution_count": 52,
   "id": "3bb33b90-eea3-40c8-b6f5-d74966062289",
   "metadata": {},
   "outputs": [],
   "source": [
    "session['Android'] = session['device_OS'].apply(wordlist_any_present, args=(['android'],))"
   ]
  },
  {
   "cell_type": "markdown",
   "id": "fdd3cd4c-5115-406d-9721-715b6abb4591",
   "metadata": {},
   "source": [
    "##### 4.302 Android devices spotted"
   ]
  },
  {
   "cell_type": "code",
   "execution_count": 53,
   "id": "7a003a8a-c38b-4b93-9f3b-7b2bbc6c4a4b",
   "metadata": {},
   "outputs": [
    {
     "data": {
      "text/plain": [
       "0    50698\n",
       "1     4302\n",
       "Name: Android, dtype: int64"
      ]
     },
     "execution_count": 53,
     "metadata": {},
     "output_type": "execute_result"
    }
   ],
   "source": [
    "session['Android'].value_counts()"
   ]
  },
  {
   "cell_type": "markdown",
   "id": "40b3226c-8645-4e2b-a84f-97b9a0996d20",
   "metadata": {},
   "source": [
    "##### 8% are Android devices"
   ]
  },
  {
   "cell_type": "code",
   "execution_count": 54,
   "id": "345f69f1-fa30-499d-b35c-74936a6cd5c2",
   "metadata": {},
   "outputs": [
    {
     "data": {
      "text/plain": [
       "0   0.922\n",
       "1   0.078\n",
       "Name: Android, dtype: float64"
      ]
     },
     "execution_count": 54,
     "metadata": {},
     "output_type": "execute_result"
    }
   ],
   "source": [
    "session['Android'].value_counts(normalize=True)"
   ]
  },
  {
   "cell_type": "markdown",
   "id": "5ca8b786-fcf4-43ed-9230-877a3acb8ef4",
   "metadata": {},
   "source": [
    "##### Looking for Linux devices"
   ]
  },
  {
   "cell_type": "code",
   "execution_count": 55,
   "id": "f2708ec2-0c48-41ac-b34d-517171bf1ff3",
   "metadata": {},
   "outputs": [],
   "source": [
    "session['Linux'] = session['device_OS'].apply(wordlist_any_present, args=(['linux'],))"
   ]
  },
  {
   "cell_type": "markdown",
   "id": "0f49a333-6c7f-407e-af48-3b82a344f08e",
   "metadata": {},
   "source": [
    "##### 12.048 Linux devices spotted"
   ]
  },
  {
   "cell_type": "code",
   "execution_count": 56,
   "id": "46f66dba-8333-4370-8df7-7ea968174fbf",
   "metadata": {},
   "outputs": [
    {
     "data": {
      "text/plain": [
       "0    42952\n",
       "1    12048\n",
       "Name: Linux, dtype: int64"
      ]
     },
     "execution_count": 56,
     "metadata": {},
     "output_type": "execute_result"
    }
   ],
   "source": [
    "session['Linux'].value_counts()"
   ]
  },
  {
   "cell_type": "markdown",
   "id": "12e7d0cb-7ffa-4baa-a831-a308ddc03124",
   "metadata": {},
   "source": [
    "##### 22% are Linux devices"
   ]
  },
  {
   "cell_type": "code",
   "execution_count": 57,
   "id": "505572e6-16cd-4887-a35d-12e7b338801b",
   "metadata": {},
   "outputs": [
    {
     "data": {
      "text/plain": [
       "0   0.781\n",
       "1   0.219\n",
       "Name: Linux, dtype: float64"
      ]
     },
     "execution_count": 57,
     "metadata": {},
     "output_type": "execute_result"
    }
   ],
   "source": [
    "session['Linux'].value_counts(normalize=True)"
   ]
  },
  {
   "cell_type": "code",
   "execution_count": 58,
   "id": "9665d645-1094-403a-9d02-0d628a90a7ee",
   "metadata": {},
   "outputs": [
    {
     "data": {
      "text/html": [
       "<div>\n",
       "<style scoped>\n",
       "    .dataframe tbody tr th:only-of-type {\n",
       "        vertical-align: middle;\n",
       "    }\n",
       "\n",
       "    .dataframe tbody tr th {\n",
       "        vertical-align: top;\n",
       "    }\n",
       "\n",
       "    .dataframe thead th {\n",
       "        text-align: right;\n",
       "    }\n",
       "</style>\n",
       "<table border=\"1\" class=\"dataframe\">\n",
       "  <thead>\n",
       "    <tr style=\"text-align: right;\">\n",
       "      <th></th>\n",
       "      <th>campaign</th>\n",
       "      <th>age</th>\n",
       "      <th>referral</th>\n",
       "      <th>device_OS</th>\n",
       "      <th>sessionlog_id</th>\n",
       "      <th>influencer</th>\n",
       "      <th>celebrity</th>\n",
       "      <th>no endorser</th>\n",
       "      <th>other campaigns</th>\n",
       "      <th>Facebook</th>\n",
       "      <th>Google</th>\n",
       "      <th>Youtube</th>\n",
       "      <th>Instagram</th>\n",
       "      <th>Other</th>\n",
       "      <th>Apple</th>\n",
       "      <th>Windows</th>\n",
       "      <th>Android</th>\n",
       "      <th>Linux</th>\n",
       "    </tr>\n",
       "  </thead>\n",
       "  <tbody>\n",
       "    <tr>\n",
       "      <th>0</th>\n",
       "      <td>celebrity</td>\n",
       "      <td>62</td>\n",
       "      <td>other</td>\n",
       "      <td>Mozilla/5.0 (iPod; U; CPU iPhone OS 4_0 like M...</td>\n",
       "      <td>33978</td>\n",
       "      <td>0</td>\n",
       "      <td>1</td>\n",
       "      <td>0</td>\n",
       "      <td>0</td>\n",
       "      <td>0</td>\n",
       "      <td>0</td>\n",
       "      <td>0</td>\n",
       "      <td>0</td>\n",
       "      <td>1</td>\n",
       "      <td>1</td>\n",
       "      <td>0</td>\n",
       "      <td>0</td>\n",
       "      <td>0</td>\n",
       "    </tr>\n",
       "    <tr>\n",
       "      <th>1</th>\n",
       "      <td>celebrity</td>\n",
       "      <td>63</td>\n",
       "      <td>other</td>\n",
       "      <td>Opera/9.69.(Windows CE; eo-US) Presto/2.9.178 ...</td>\n",
       "      <td>33979</td>\n",
       "      <td>0</td>\n",
       "      <td>1</td>\n",
       "      <td>0</td>\n",
       "      <td>0</td>\n",
       "      <td>0</td>\n",
       "      <td>0</td>\n",
       "      <td>0</td>\n",
       "      <td>0</td>\n",
       "      <td>1</td>\n",
       "      <td>0</td>\n",
       "      <td>1</td>\n",
       "      <td>0</td>\n",
       "      <td>0</td>\n",
       "    </tr>\n",
       "    <tr>\n",
       "      <th>2</th>\n",
       "      <td>other campaigns</td>\n",
       "      <td>20</td>\n",
       "      <td>Instagram</td>\n",
       "      <td>Mozilla/5.0 (Windows; U; Windows NT 5.2) Apple...</td>\n",
       "      <td>33980</td>\n",
       "      <td>0</td>\n",
       "      <td>0</td>\n",
       "      <td>0</td>\n",
       "      <td>1</td>\n",
       "      <td>0</td>\n",
       "      <td>0</td>\n",
       "      <td>0</td>\n",
       "      <td>1</td>\n",
       "      <td>0</td>\n",
       "      <td>0</td>\n",
       "      <td>1</td>\n",
       "      <td>0</td>\n",
       "      <td>0</td>\n",
       "    </tr>\n",
       "    <tr>\n",
       "      <th>3</th>\n",
       "      <td>celebrity</td>\n",
       "      <td>48</td>\n",
       "      <td>Instagram</td>\n",
       "      <td>Opera/8.99.(X11; Linux x86_64; om-KE) Presto/2...</td>\n",
       "      <td>33981</td>\n",
       "      <td>0</td>\n",
       "      <td>1</td>\n",
       "      <td>0</td>\n",
       "      <td>0</td>\n",
       "      <td>0</td>\n",
       "      <td>0</td>\n",
       "      <td>0</td>\n",
       "      <td>1</td>\n",
       "      <td>0</td>\n",
       "      <td>0</td>\n",
       "      <td>0</td>\n",
       "      <td>0</td>\n",
       "      <td>1</td>\n",
       "    </tr>\n",
       "    <tr>\n",
       "      <th>4</th>\n",
       "      <td>influencer</td>\n",
       "      <td>74</td>\n",
       "      <td>Facebook</td>\n",
       "      <td>Mozilla/5.0 (X11; Linux x86_64; rv:1.9.5.20) G...</td>\n",
       "      <td>33982</td>\n",
       "      <td>1</td>\n",
       "      <td>0</td>\n",
       "      <td>0</td>\n",
       "      <td>0</td>\n",
       "      <td>1</td>\n",
       "      <td>0</td>\n",
       "      <td>0</td>\n",
       "      <td>0</td>\n",
       "      <td>0</td>\n",
       "      <td>0</td>\n",
       "      <td>0</td>\n",
       "      <td>0</td>\n",
       "      <td>1</td>\n",
       "    </tr>\n",
       "  </tbody>\n",
       "</table>\n",
       "</div>"
      ],
      "text/plain": [
       "          campaign  age   referral  \\\n",
       "0        celebrity   62      other   \n",
       "1        celebrity   63      other   \n",
       "2  other campaigns   20  Instagram   \n",
       "3        celebrity   48  Instagram   \n",
       "4       influencer   74   Facebook   \n",
       "\n",
       "                                           device_OS  sessionlog_id  \\\n",
       "0  Mozilla/5.0 (iPod; U; CPU iPhone OS 4_0 like M...          33978   \n",
       "1  Opera/9.69.(Windows CE; eo-US) Presto/2.9.178 ...          33979   \n",
       "2  Mozilla/5.0 (Windows; U; Windows NT 5.2) Apple...          33980   \n",
       "3  Opera/8.99.(X11; Linux x86_64; om-KE) Presto/2...          33981   \n",
       "4  Mozilla/5.0 (X11; Linux x86_64; rv:1.9.5.20) G...          33982   \n",
       "\n",
       "   influencer  celebrity  no endorser  other campaigns  Facebook  Google  \\\n",
       "0           0          1            0                0         0       0   \n",
       "1           0          1            0                0         0       0   \n",
       "2           0          0            0                1         0       0   \n",
       "3           0          1            0                0         0       0   \n",
       "4           1          0            0                0         1       0   \n",
       "\n",
       "   Youtube  Instagram  Other  Apple  Windows  Android  Linux  \n",
       "0        0          0      1      1        0        0      0  \n",
       "1        0          0      1      0        1        0      0  \n",
       "2        0          1      0      0        1        0      0  \n",
       "3        0          1      0      0        0        0      1  \n",
       "4        0          0      0      0        0        0      1  "
      ]
     },
     "execution_count": 58,
     "metadata": {},
     "output_type": "execute_result"
    }
   ],
   "source": [
    "session.head()"
   ]
  },
  {
   "cell_type": "markdown",
   "id": "2a113302-5561-4d82-866a-504652a2baa5",
   "metadata": {},
   "source": [
    "##### Looking at the mean age of users (45yo), the youngest (18yo) and the oldest (74yo)"
   ]
  },
  {
   "cell_type": "code",
   "execution_count": 59,
   "id": "c62556ea-8b3a-431f-91f9-1e79aaace5ae",
   "metadata": {},
   "outputs": [
    {
     "data": {
      "text/plain": [
       "count   55000.000\n",
       "mean       45.932\n",
       "std        16.471\n",
       "min        18.000\n",
       "25%        32.000\n",
       "50%        46.000\n",
       "75%        60.000\n",
       "max        74.000\n",
       "Name: age, dtype: float64"
      ]
     },
     "execution_count": 59,
     "metadata": {},
     "output_type": "execute_result"
    }
   ],
   "source": [
    "session['age'].describe()"
   ]
  },
  {
   "cell_type": "markdown",
   "id": "ead07090-e95a-4ac8-a554-2502e1f06c52",
   "metadata": {},
   "source": [
    "##### Renaming sessionlog_id into id to be able to merge on it with the donors dataframe"
   ]
  },
  {
   "cell_type": "code",
   "execution_count": 60,
   "id": "e05d377b-8f4a-4368-837d-86e673d634d9",
   "metadata": {},
   "outputs": [],
   "source": [
    "session.rename(columns={'sessionlog_id': 'id'}, inplace=True)"
   ]
  },
  {
   "cell_type": "code",
   "execution_count": 61,
   "id": "102db6ee-2334-4d4e-bf73-d466c54ccf2e",
   "metadata": {},
   "outputs": [
    {
     "data": {
      "text/html": [
       "<div>\n",
       "<style scoped>\n",
       "    .dataframe tbody tr th:only-of-type {\n",
       "        vertical-align: middle;\n",
       "    }\n",
       "\n",
       "    .dataframe tbody tr th {\n",
       "        vertical-align: top;\n",
       "    }\n",
       "\n",
       "    .dataframe thead th {\n",
       "        text-align: right;\n",
       "    }\n",
       "</style>\n",
       "<table border=\"1\" class=\"dataframe\">\n",
       "  <thead>\n",
       "    <tr style=\"text-align: right;\">\n",
       "      <th></th>\n",
       "      <th>campaign</th>\n",
       "      <th>age</th>\n",
       "      <th>referral</th>\n",
       "      <th>device_OS</th>\n",
       "      <th>id</th>\n",
       "      <th>influencer</th>\n",
       "      <th>celebrity</th>\n",
       "      <th>no endorser</th>\n",
       "      <th>other campaigns</th>\n",
       "      <th>Facebook</th>\n",
       "      <th>Google</th>\n",
       "      <th>Youtube</th>\n",
       "      <th>Instagram</th>\n",
       "      <th>Other</th>\n",
       "      <th>Apple</th>\n",
       "      <th>Windows</th>\n",
       "      <th>Android</th>\n",
       "      <th>Linux</th>\n",
       "    </tr>\n",
       "  </thead>\n",
       "  <tbody>\n",
       "    <tr>\n",
       "      <th>0</th>\n",
       "      <td>celebrity</td>\n",
       "      <td>62</td>\n",
       "      <td>other</td>\n",
       "      <td>Mozilla/5.0 (iPod; U; CPU iPhone OS 4_0 like M...</td>\n",
       "      <td>33978</td>\n",
       "      <td>0</td>\n",
       "      <td>1</td>\n",
       "      <td>0</td>\n",
       "      <td>0</td>\n",
       "      <td>0</td>\n",
       "      <td>0</td>\n",
       "      <td>0</td>\n",
       "      <td>0</td>\n",
       "      <td>1</td>\n",
       "      <td>1</td>\n",
       "      <td>0</td>\n",
       "      <td>0</td>\n",
       "      <td>0</td>\n",
       "    </tr>\n",
       "    <tr>\n",
       "      <th>1</th>\n",
       "      <td>celebrity</td>\n",
       "      <td>63</td>\n",
       "      <td>other</td>\n",
       "      <td>Opera/9.69.(Windows CE; eo-US) Presto/2.9.178 ...</td>\n",
       "      <td>33979</td>\n",
       "      <td>0</td>\n",
       "      <td>1</td>\n",
       "      <td>0</td>\n",
       "      <td>0</td>\n",
       "      <td>0</td>\n",
       "      <td>0</td>\n",
       "      <td>0</td>\n",
       "      <td>0</td>\n",
       "      <td>1</td>\n",
       "      <td>0</td>\n",
       "      <td>1</td>\n",
       "      <td>0</td>\n",
       "      <td>0</td>\n",
       "    </tr>\n",
       "    <tr>\n",
       "      <th>2</th>\n",
       "      <td>other campaigns</td>\n",
       "      <td>20</td>\n",
       "      <td>Instagram</td>\n",
       "      <td>Mozilla/5.0 (Windows; U; Windows NT 5.2) Apple...</td>\n",
       "      <td>33980</td>\n",
       "      <td>0</td>\n",
       "      <td>0</td>\n",
       "      <td>0</td>\n",
       "      <td>1</td>\n",
       "      <td>0</td>\n",
       "      <td>0</td>\n",
       "      <td>0</td>\n",
       "      <td>1</td>\n",
       "      <td>0</td>\n",
       "      <td>0</td>\n",
       "      <td>1</td>\n",
       "      <td>0</td>\n",
       "      <td>0</td>\n",
       "    </tr>\n",
       "    <tr>\n",
       "      <th>3</th>\n",
       "      <td>celebrity</td>\n",
       "      <td>48</td>\n",
       "      <td>Instagram</td>\n",
       "      <td>Opera/8.99.(X11; Linux x86_64; om-KE) Presto/2...</td>\n",
       "      <td>33981</td>\n",
       "      <td>0</td>\n",
       "      <td>1</td>\n",
       "      <td>0</td>\n",
       "      <td>0</td>\n",
       "      <td>0</td>\n",
       "      <td>0</td>\n",
       "      <td>0</td>\n",
       "      <td>1</td>\n",
       "      <td>0</td>\n",
       "      <td>0</td>\n",
       "      <td>0</td>\n",
       "      <td>0</td>\n",
       "      <td>1</td>\n",
       "    </tr>\n",
       "    <tr>\n",
       "      <th>4</th>\n",
       "      <td>influencer</td>\n",
       "      <td>74</td>\n",
       "      <td>Facebook</td>\n",
       "      <td>Mozilla/5.0 (X11; Linux x86_64; rv:1.9.5.20) G...</td>\n",
       "      <td>33982</td>\n",
       "      <td>1</td>\n",
       "      <td>0</td>\n",
       "      <td>0</td>\n",
       "      <td>0</td>\n",
       "      <td>1</td>\n",
       "      <td>0</td>\n",
       "      <td>0</td>\n",
       "      <td>0</td>\n",
       "      <td>0</td>\n",
       "      <td>0</td>\n",
       "      <td>0</td>\n",
       "      <td>0</td>\n",
       "      <td>1</td>\n",
       "    </tr>\n",
       "  </tbody>\n",
       "</table>\n",
       "</div>"
      ],
      "text/plain": [
       "          campaign  age   referral  \\\n",
       "0        celebrity   62      other   \n",
       "1        celebrity   63      other   \n",
       "2  other campaigns   20  Instagram   \n",
       "3        celebrity   48  Instagram   \n",
       "4       influencer   74   Facebook   \n",
       "\n",
       "                                           device_OS     id  influencer  \\\n",
       "0  Mozilla/5.0 (iPod; U; CPU iPhone OS 4_0 like M...  33978           0   \n",
       "1  Opera/9.69.(Windows CE; eo-US) Presto/2.9.178 ...  33979           0   \n",
       "2  Mozilla/5.0 (Windows; U; Windows NT 5.2) Apple...  33980           0   \n",
       "3  Opera/8.99.(X11; Linux x86_64; om-KE) Presto/2...  33981           0   \n",
       "4  Mozilla/5.0 (X11; Linux x86_64; rv:1.9.5.20) G...  33982           1   \n",
       "\n",
       "   celebrity  no endorser  other campaigns  Facebook  Google  Youtube  \\\n",
       "0          1            0                0         0       0        0   \n",
       "1          1            0                0         0       0        0   \n",
       "2          0            0                1         0       0        0   \n",
       "3          1            0                0         0       0        0   \n",
       "4          0            0                0         1       0        0   \n",
       "\n",
       "   Instagram  Other  Apple  Windows  Android  Linux  \n",
       "0          0      1      1        0        0      0  \n",
       "1          0      1      0        1        0      0  \n",
       "2          1      0      0        1        0      0  \n",
       "3          1      0      0        0        0      1  \n",
       "4          0      0      0        0        0      1  "
      ]
     },
     "execution_count": 61,
     "metadata": {},
     "output_type": "execute_result"
    }
   ],
   "source": [
    "session.head()"
   ]
  },
  {
   "cell_type": "markdown",
   "id": "d43d0757-884d-4084-87b1-e5a9062629ed",
   "metadata": {},
   "source": [
    "##### Ready to merge data, looking how data would merge together depending on the typology used"
   ]
  },
  {
   "cell_type": "code",
   "execution_count": 62,
   "id": "bb246149-8557-425f-8e10-efc67c1aca75",
   "metadata": {},
   "outputs": [
    {
     "data": {
      "text/plain": [
       "20985"
      ]
     },
     "execution_count": 62,
     "metadata": {},
     "output_type": "execute_result"
    }
   ],
   "source": [
    "len (donors.merge(session, on='id', how='left'))"
   ]
  },
  {
   "cell_type": "code",
   "execution_count": 63,
   "id": "8e1d59ec-d779-4449-89c3-aa1fe0154a67",
   "metadata": {},
   "outputs": [
    {
     "data": {
      "text/plain": [
       "55000"
      ]
     },
     "execution_count": 63,
     "metadata": {},
     "output_type": "execute_result"
    }
   ],
   "source": [
    "len (donors.merge(session, on='id', how='right'))"
   ]
  },
  {
   "cell_type": "code",
   "execution_count": 64,
   "id": "8d9e9535-aee5-46dc-a9cc-f5da56abb948",
   "metadata": {},
   "outputs": [
    {
     "data": {
      "text/plain": [
       "20985"
      ]
     },
     "execution_count": 64,
     "metadata": {},
     "output_type": "execute_result"
    }
   ],
   "source": [
    "len (donors.merge(session, on='id', how='inner'))"
   ]
  },
  {
   "cell_type": "code",
   "execution_count": 65,
   "id": "847d176b-e87a-45bf-88ac-6b4280f26d96",
   "metadata": {},
   "outputs": [
    {
     "data": {
      "text/plain": [
       "55000"
      ]
     },
     "execution_count": 65,
     "metadata": {},
     "output_type": "execute_result"
    }
   ],
   "source": [
    "len (donors.merge(session, on='id', how='outer'))"
   ]
  },
  {
   "cell_type": "markdown",
   "id": "4639d47f-9b71-4e5e-8c4c-b7fc003c497f",
   "metadata": {},
   "source": [
    "##### Choosing the right merge since I want to keep all the user's sessions and add on it the cases of registered donations (which include all my data) in order to have either donors and non donors"
   ]
  },
  {
   "cell_type": "code",
   "execution_count": 66,
   "id": "d51f3ed5-afdd-44ae-8c6b-b455a5ba7867",
   "metadata": {},
   "outputs": [],
   "source": [
    "final_df = donors.merge(session, on='id', how='right')"
   ]
  },
  {
   "cell_type": "markdown",
   "id": "bb22cb7d-aa84-44d6-a8c5-8445c3684d04",
   "metadata": {},
   "source": [
    "##### The key variables are the following. The campaigns (IVs), which will be used in form of binary variables to build the model. Donated and donated value remain my DVs and age, referral (also used in form of binary variables in to build the model) device OS (also in form of binary variables) are the control variables"
   ]
  },
  {
   "cell_type": "code",
   "execution_count": 67,
   "id": "e2279cee-8d5a-489b-acfa-6e68d8d88657",
   "metadata": {},
   "outputs": [
    {
     "data": {
      "text/html": [
       "<div>\n",
       "<style scoped>\n",
       "    .dataframe tbody tr th:only-of-type {\n",
       "        vertical-align: middle;\n",
       "    }\n",
       "\n",
       "    .dataframe tbody tr th {\n",
       "        vertical-align: top;\n",
       "    }\n",
       "\n",
       "    .dataframe thead th {\n",
       "        text-align: right;\n",
       "    }\n",
       "</style>\n",
       "<table border=\"1\" class=\"dataframe\">\n",
       "  <thead>\n",
       "    <tr style=\"text-align: right;\">\n",
       "      <th></th>\n",
       "      <th>donated</th>\n",
       "      <th>donated_value</th>\n",
       "      <th>id</th>\n",
       "      <th>campaign</th>\n",
       "      <th>age</th>\n",
       "      <th>referral</th>\n",
       "      <th>device_OS</th>\n",
       "      <th>influencer</th>\n",
       "      <th>celebrity</th>\n",
       "      <th>no endorser</th>\n",
       "      <th>other campaigns</th>\n",
       "      <th>Facebook</th>\n",
       "      <th>Google</th>\n",
       "      <th>Youtube</th>\n",
       "      <th>Instagram</th>\n",
       "      <th>Other</th>\n",
       "      <th>Apple</th>\n",
       "      <th>Windows</th>\n",
       "      <th>Android</th>\n",
       "      <th>Linux</th>\n",
       "    </tr>\n",
       "  </thead>\n",
       "  <tbody>\n",
       "    <tr>\n",
       "      <th>0</th>\n",
       "      <td>NaN</td>\n",
       "      <td>NaN</td>\n",
       "      <td>33978</td>\n",
       "      <td>celebrity</td>\n",
       "      <td>62</td>\n",
       "      <td>other</td>\n",
       "      <td>Mozilla/5.0 (iPod; U; CPU iPhone OS 4_0 like M...</td>\n",
       "      <td>0</td>\n",
       "      <td>1</td>\n",
       "      <td>0</td>\n",
       "      <td>0</td>\n",
       "      <td>0</td>\n",
       "      <td>0</td>\n",
       "      <td>0</td>\n",
       "      <td>0</td>\n",
       "      <td>1</td>\n",
       "      <td>1</td>\n",
       "      <td>0</td>\n",
       "      <td>0</td>\n",
       "      <td>0</td>\n",
       "    </tr>\n",
       "    <tr>\n",
       "      <th>1</th>\n",
       "      <td>NaN</td>\n",
       "      <td>NaN</td>\n",
       "      <td>33979</td>\n",
       "      <td>celebrity</td>\n",
       "      <td>63</td>\n",
       "      <td>other</td>\n",
       "      <td>Opera/9.69.(Windows CE; eo-US) Presto/2.9.178 ...</td>\n",
       "      <td>0</td>\n",
       "      <td>1</td>\n",
       "      <td>0</td>\n",
       "      <td>0</td>\n",
       "      <td>0</td>\n",
       "      <td>0</td>\n",
       "      <td>0</td>\n",
       "      <td>0</td>\n",
       "      <td>1</td>\n",
       "      <td>0</td>\n",
       "      <td>1</td>\n",
       "      <td>0</td>\n",
       "      <td>0</td>\n",
       "    </tr>\n",
       "    <tr>\n",
       "      <th>2</th>\n",
       "      <td>NaN</td>\n",
       "      <td>NaN</td>\n",
       "      <td>33980</td>\n",
       "      <td>other campaigns</td>\n",
       "      <td>20</td>\n",
       "      <td>Instagram</td>\n",
       "      <td>Mozilla/5.0 (Windows; U; Windows NT 5.2) Apple...</td>\n",
       "      <td>0</td>\n",
       "      <td>0</td>\n",
       "      <td>0</td>\n",
       "      <td>1</td>\n",
       "      <td>0</td>\n",
       "      <td>0</td>\n",
       "      <td>0</td>\n",
       "      <td>1</td>\n",
       "      <td>0</td>\n",
       "      <td>0</td>\n",
       "      <td>1</td>\n",
       "      <td>0</td>\n",
       "      <td>0</td>\n",
       "    </tr>\n",
       "    <tr>\n",
       "      <th>3</th>\n",
       "      <td>1.000</td>\n",
       "      <td>51.000</td>\n",
       "      <td>33981</td>\n",
       "      <td>celebrity</td>\n",
       "      <td>48</td>\n",
       "      <td>Instagram</td>\n",
       "      <td>Opera/8.99.(X11; Linux x86_64; om-KE) Presto/2...</td>\n",
       "      <td>0</td>\n",
       "      <td>1</td>\n",
       "      <td>0</td>\n",
       "      <td>0</td>\n",
       "      <td>0</td>\n",
       "      <td>0</td>\n",
       "      <td>0</td>\n",
       "      <td>1</td>\n",
       "      <td>0</td>\n",
       "      <td>0</td>\n",
       "      <td>0</td>\n",
       "      <td>0</td>\n",
       "      <td>1</td>\n",
       "    </tr>\n",
       "    <tr>\n",
       "      <th>4</th>\n",
       "      <td>NaN</td>\n",
       "      <td>NaN</td>\n",
       "      <td>33982</td>\n",
       "      <td>influencer</td>\n",
       "      <td>74</td>\n",
       "      <td>Facebook</td>\n",
       "      <td>Mozilla/5.0 (X11; Linux x86_64; rv:1.9.5.20) G...</td>\n",
       "      <td>1</td>\n",
       "      <td>0</td>\n",
       "      <td>0</td>\n",
       "      <td>0</td>\n",
       "      <td>1</td>\n",
       "      <td>0</td>\n",
       "      <td>0</td>\n",
       "      <td>0</td>\n",
       "      <td>0</td>\n",
       "      <td>0</td>\n",
       "      <td>0</td>\n",
       "      <td>0</td>\n",
       "      <td>1</td>\n",
       "    </tr>\n",
       "  </tbody>\n",
       "</table>\n",
       "</div>"
      ],
      "text/plain": [
       "   donated  donated_value     id         campaign  age   referral  \\\n",
       "0      NaN            NaN  33978        celebrity   62      other   \n",
       "1      NaN            NaN  33979        celebrity   63      other   \n",
       "2      NaN            NaN  33980  other campaigns   20  Instagram   \n",
       "3    1.000         51.000  33981        celebrity   48  Instagram   \n",
       "4      NaN            NaN  33982       influencer   74   Facebook   \n",
       "\n",
       "                                           device_OS  influencer  celebrity  \\\n",
       "0  Mozilla/5.0 (iPod; U; CPU iPhone OS 4_0 like M...           0          1   \n",
       "1  Opera/9.69.(Windows CE; eo-US) Presto/2.9.178 ...           0          1   \n",
       "2  Mozilla/5.0 (Windows; U; Windows NT 5.2) Apple...           0          0   \n",
       "3  Opera/8.99.(X11; Linux x86_64; om-KE) Presto/2...           0          1   \n",
       "4  Mozilla/5.0 (X11; Linux x86_64; rv:1.9.5.20) G...           1          0   \n",
       "\n",
       "   no endorser  other campaigns  Facebook  Google  Youtube  Instagram  Other  \\\n",
       "0            0                0         0       0        0          0      1   \n",
       "1            0                0         0       0        0          0      1   \n",
       "2            0                1         0       0        0          1      0   \n",
       "3            0                0         0       0        0          1      0   \n",
       "4            0                0         1       0        0          0      0   \n",
       "\n",
       "   Apple  Windows  Android  Linux  \n",
       "0      1        0        0      0  \n",
       "1      0        1        0      0  \n",
       "2      0        1        0      0  \n",
       "3      0        0        0      1  \n",
       "4      0        0        0      1  "
      ]
     },
     "execution_count": 67,
     "metadata": {},
     "output_type": "execute_result"
    }
   ],
   "source": [
    "final_df.head()"
   ]
  },
  {
   "cell_type": "markdown",
   "id": "f338421d-face-42fa-89e0-e7d721e7305d",
   "metadata": {},
   "source": [
    "##### Looking for missing values in my new dataset. As expected it presents missing values from the column donated and donated value "
   ]
  },
  {
   "cell_type": "code",
   "execution_count": 68,
   "id": "e778762d-b12a-4cce-b2e2-689250b6b2d5",
   "metadata": {},
   "outputs": [
    {
     "data": {
      "text/plain": [
       "donated            34015\n",
       "donated_value      34015\n",
       "id                     0\n",
       "campaign               0\n",
       "age                    0\n",
       "referral               0\n",
       "device_OS              0\n",
       "influencer             0\n",
       "celebrity              0\n",
       "no endorser            0\n",
       "other campaigns        0\n",
       "Facebook               0\n",
       "Google                 0\n",
       "Youtube                0\n",
       "Instagram              0\n",
       "Other                  0\n",
       "Apple                  0\n",
       "Windows                0\n",
       "Android                0\n",
       "Linux                  0\n",
       "dtype: int64"
      ]
     },
     "execution_count": 68,
     "metadata": {},
     "output_type": "execute_result"
    }
   ],
   "source": [
    "final_df.isna().sum()"
   ]
  },
  {
   "cell_type": "markdown",
   "id": "3bf8ea7c-cff3-44fd-a5b7-dd88fa29631f",
   "metadata": {},
   "source": [
    "##### Filling missing values for donated and donated_value with a 0 and consequently classify them as non donors with a donated value of 0€. The new variables will be named donation (donated) and revenue (donated value), the 2 DVs"
   ]
  },
  {
   "cell_type": "code",
   "execution_count": 69,
   "id": "844386b4-8c50-466b-87a0-9cd6487e5bab",
   "metadata": {},
   "outputs": [],
   "source": [
    "final_df['donation'] = final_df['donated'].fillna(0)"
   ]
  },
  {
   "cell_type": "code",
   "execution_count": 70,
   "id": "0700c70a-77f1-411f-8f7e-8aa06c85cca3",
   "metadata": {},
   "outputs": [],
   "source": [
    "final_df['revenue'] = final_df['donated_value'].fillna(0)"
   ]
  },
  {
   "cell_type": "markdown",
   "id": "4ee4c0e1-8f83-46fc-8ba5-cbb7d2241cd9",
   "metadata": {},
   "source": [
    "##### Looking at the columns of my dataset"
   ]
  },
  {
   "cell_type": "code",
   "execution_count": 71,
   "id": "78e64664-8433-438f-bc22-ff1bd004a782",
   "metadata": {},
   "outputs": [
    {
     "data": {
      "text/plain": [
       "Index(['donated', 'donated_value', 'id', 'campaign', 'age', 'referral',\n",
       "       'device_OS', 'influencer', 'celebrity', 'no endorser',\n",
       "       'other campaigns', 'Facebook', 'Google', 'Youtube', 'Instagram',\n",
       "       'Other', 'Apple', 'Windows', 'Android', 'Linux', 'donation', 'revenue'],\n",
       "      dtype='object')"
      ]
     },
     "execution_count": 71,
     "metadata": {},
     "output_type": "execute_result"
    }
   ],
   "source": [
    "final_df.columns"
   ]
  },
  {
   "cell_type": "markdown",
   "id": "195b717b-7a02-49b6-aad5-64f0705bd291",
   "metadata": {},
   "source": [
    "##### Choosing the column of interest to keep in the dataframe and ordering the variables in an easy readable way"
   ]
  },
  {
   "cell_type": "code",
   "execution_count": 72,
   "id": "33734f00-69d6-4dce-9697-09fba207e7d9",
   "metadata": {},
   "outputs": [],
   "source": [
    "final_df = final_df[['id','age','campaign','donation','revenue','referral','influencer', 'celebrity', 'no endorser',\n",
    "       'other campaigns', 'Apple', 'Windows', 'Android', 'Linux','Facebook', 'Google', 'Youtube', 'Instagram','Other']]"
   ]
  },
  {
   "cell_type": "code",
   "execution_count": 73,
   "id": "d2064a9c-8f49-4501-806f-d191a892c829",
   "metadata": {},
   "outputs": [
    {
     "data": {
      "text/html": [
       "<div>\n",
       "<style scoped>\n",
       "    .dataframe tbody tr th:only-of-type {\n",
       "        vertical-align: middle;\n",
       "    }\n",
       "\n",
       "    .dataframe tbody tr th {\n",
       "        vertical-align: top;\n",
       "    }\n",
       "\n",
       "    .dataframe thead th {\n",
       "        text-align: right;\n",
       "    }\n",
       "</style>\n",
       "<table border=\"1\" class=\"dataframe\">\n",
       "  <thead>\n",
       "    <tr style=\"text-align: right;\">\n",
       "      <th></th>\n",
       "      <th>id</th>\n",
       "      <th>age</th>\n",
       "      <th>campaign</th>\n",
       "      <th>donation</th>\n",
       "      <th>revenue</th>\n",
       "      <th>referral</th>\n",
       "      <th>influencer</th>\n",
       "      <th>celebrity</th>\n",
       "      <th>no endorser</th>\n",
       "      <th>other campaigns</th>\n",
       "      <th>Apple</th>\n",
       "      <th>Windows</th>\n",
       "      <th>Android</th>\n",
       "      <th>Linux</th>\n",
       "      <th>Facebook</th>\n",
       "      <th>Google</th>\n",
       "      <th>Youtube</th>\n",
       "      <th>Instagram</th>\n",
       "      <th>Other</th>\n",
       "    </tr>\n",
       "  </thead>\n",
       "  <tbody>\n",
       "    <tr>\n",
       "      <th>0</th>\n",
       "      <td>33978</td>\n",
       "      <td>62</td>\n",
       "      <td>celebrity</td>\n",
       "      <td>0.000</td>\n",
       "      <td>0.000</td>\n",
       "      <td>other</td>\n",
       "      <td>0</td>\n",
       "      <td>1</td>\n",
       "      <td>0</td>\n",
       "      <td>0</td>\n",
       "      <td>1</td>\n",
       "      <td>0</td>\n",
       "      <td>0</td>\n",
       "      <td>0</td>\n",
       "      <td>0</td>\n",
       "      <td>0</td>\n",
       "      <td>0</td>\n",
       "      <td>0</td>\n",
       "      <td>1</td>\n",
       "    </tr>\n",
       "    <tr>\n",
       "      <th>1</th>\n",
       "      <td>33979</td>\n",
       "      <td>63</td>\n",
       "      <td>celebrity</td>\n",
       "      <td>0.000</td>\n",
       "      <td>0.000</td>\n",
       "      <td>other</td>\n",
       "      <td>0</td>\n",
       "      <td>1</td>\n",
       "      <td>0</td>\n",
       "      <td>0</td>\n",
       "      <td>0</td>\n",
       "      <td>1</td>\n",
       "      <td>0</td>\n",
       "      <td>0</td>\n",
       "      <td>0</td>\n",
       "      <td>0</td>\n",
       "      <td>0</td>\n",
       "      <td>0</td>\n",
       "      <td>1</td>\n",
       "    </tr>\n",
       "    <tr>\n",
       "      <th>2</th>\n",
       "      <td>33980</td>\n",
       "      <td>20</td>\n",
       "      <td>other campaigns</td>\n",
       "      <td>0.000</td>\n",
       "      <td>0.000</td>\n",
       "      <td>Instagram</td>\n",
       "      <td>0</td>\n",
       "      <td>0</td>\n",
       "      <td>0</td>\n",
       "      <td>1</td>\n",
       "      <td>0</td>\n",
       "      <td>1</td>\n",
       "      <td>0</td>\n",
       "      <td>0</td>\n",
       "      <td>0</td>\n",
       "      <td>0</td>\n",
       "      <td>0</td>\n",
       "      <td>1</td>\n",
       "      <td>0</td>\n",
       "    </tr>\n",
       "    <tr>\n",
       "      <th>3</th>\n",
       "      <td>33981</td>\n",
       "      <td>48</td>\n",
       "      <td>celebrity</td>\n",
       "      <td>1.000</td>\n",
       "      <td>51.000</td>\n",
       "      <td>Instagram</td>\n",
       "      <td>0</td>\n",
       "      <td>1</td>\n",
       "      <td>0</td>\n",
       "      <td>0</td>\n",
       "      <td>0</td>\n",
       "      <td>0</td>\n",
       "      <td>0</td>\n",
       "      <td>1</td>\n",
       "      <td>0</td>\n",
       "      <td>0</td>\n",
       "      <td>0</td>\n",
       "      <td>1</td>\n",
       "      <td>0</td>\n",
       "    </tr>\n",
       "    <tr>\n",
       "      <th>4</th>\n",
       "      <td>33982</td>\n",
       "      <td>74</td>\n",
       "      <td>influencer</td>\n",
       "      <td>0.000</td>\n",
       "      <td>0.000</td>\n",
       "      <td>Facebook</td>\n",
       "      <td>1</td>\n",
       "      <td>0</td>\n",
       "      <td>0</td>\n",
       "      <td>0</td>\n",
       "      <td>0</td>\n",
       "      <td>0</td>\n",
       "      <td>0</td>\n",
       "      <td>1</td>\n",
       "      <td>1</td>\n",
       "      <td>0</td>\n",
       "      <td>0</td>\n",
       "      <td>0</td>\n",
       "      <td>0</td>\n",
       "    </tr>\n",
       "  </tbody>\n",
       "</table>\n",
       "</div>"
      ],
      "text/plain": [
       "      id  age         campaign  donation  revenue   referral  influencer  \\\n",
       "0  33978   62        celebrity     0.000    0.000      other           0   \n",
       "1  33979   63        celebrity     0.000    0.000      other           0   \n",
       "2  33980   20  other campaigns     0.000    0.000  Instagram           0   \n",
       "3  33981   48        celebrity     1.000   51.000  Instagram           0   \n",
       "4  33982   74       influencer     0.000    0.000   Facebook           1   \n",
       "\n",
       "   celebrity  no endorser  other campaigns  Apple  Windows  Android  Linux  \\\n",
       "0          1            0                0      1        0        0      0   \n",
       "1          1            0                0      0        1        0      0   \n",
       "2          0            0                1      0        1        0      0   \n",
       "3          1            0                0      0        0        0      1   \n",
       "4          0            0                0      0        0        0      1   \n",
       "\n",
       "   Facebook  Google  Youtube  Instagram  Other  \n",
       "0         0       0        0          0      1  \n",
       "1         0       0        0          0      1  \n",
       "2         0       0        0          1      0  \n",
       "3         0       0        0          1      0  \n",
       "4         1       0        0          0      0  "
      ]
     },
     "execution_count": 73,
     "metadata": {},
     "output_type": "execute_result"
    }
   ],
   "source": [
    "final_df.head()"
   ]
  },
  {
   "cell_type": "markdown",
   "id": "59fafd58-096c-450b-b6a7-5c0ec209355a",
   "metadata": {},
   "source": [
    "##### Always rechecking my missing values because I am paranoid "
   ]
  },
  {
   "cell_type": "code",
   "execution_count": 74,
   "id": "169985af-0925-4496-84f3-a033c5b992c4",
   "metadata": {},
   "outputs": [
    {
     "data": {
      "text/plain": [
       "id                 0\n",
       "age                0\n",
       "campaign           0\n",
       "donation           0\n",
       "revenue            0\n",
       "referral           0\n",
       "influencer         0\n",
       "celebrity          0\n",
       "no endorser        0\n",
       "other campaigns    0\n",
       "Apple              0\n",
       "Windows            0\n",
       "Android            0\n",
       "Linux              0\n",
       "Facebook           0\n",
       "Google             0\n",
       "Youtube            0\n",
       "Instagram          0\n",
       "Other              0\n",
       "dtype: int64"
      ]
     },
     "execution_count": 74,
     "metadata": {},
     "output_type": "execute_result"
    }
   ],
   "source": [
    "final_df.isna().sum()"
   ]
  },
  {
   "cell_type": "markdown",
   "id": "6e3a178c-b996-4f44-9079-b44756719bed",
   "metadata": {},
   "source": [
    "##### Final dataset fully cleaned! Inspecting it now: among the users, there are 20.985 donations registered (we knew that already)"
   ]
  },
  {
   "cell_type": "code",
   "execution_count": 75,
   "id": "eb228515-c642-4ef3-a5a1-9b3929ee369d",
   "metadata": {},
   "outputs": [
    {
     "data": {
      "text/plain": [
       "0.000    34015\n",
       "1.000    20985\n",
       "Name: donation, dtype: int64"
      ]
     },
     "execution_count": 75,
     "metadata": {},
     "output_type": "execute_result"
    }
   ],
   "source": [
    "final_df['donation'] .value_counts()"
   ]
  },
  {
   "cell_type": "markdown",
   "id": "c1b5940c-e2ac-464f-bcfb-667daa409387",
   "metadata": {},
   "source": [
    "##### The donations are present in the 38% of our observations "
   ]
  },
  {
   "cell_type": "code",
   "execution_count": 76,
   "id": "5d313772-3cc4-4461-8839-5c2b58498196",
   "metadata": {},
   "outputs": [
    {
     "data": {
      "text/plain": [
       "0.000   0.618\n",
       "1.000   0.382\n",
       "Name: donation, dtype: float64"
      ]
     },
     "execution_count": 76,
     "metadata": {},
     "output_type": "execute_result"
    }
   ],
   "source": [
    "final_df['donation'] .value_counts(normalize=True)"
   ]
  },
  {
   "cell_type": "markdown",
   "id": "2c3f55d2-2720-408e-9ee3-202432748091",
   "metadata": {},
   "source": [
    "##### As mentioned before, the mean age is 45yo, 38% of the observations present a donor. Including users who did not donate the average donation dropped to 24€ and the campaigns distribution (influencer, celebrity, no endorser and other campaigns) is about 25% among users. 29% of users were using an Apple device, 45% with a Windows, 7% with and Android and 2% with a Linux. Referral distribution is about 16% users for each of the main referrals except for the category other which was present in 33% of the observations"
   ]
  },
  {
   "cell_type": "code",
   "execution_count": 77,
   "id": "28bec2cc-21e2-4c63-86f6-d4831b5d40f1",
   "metadata": {},
   "outputs": [
    {
     "data": {
      "text/html": [
       "<div>\n",
       "<style scoped>\n",
       "    .dataframe tbody tr th:only-of-type {\n",
       "        vertical-align: middle;\n",
       "    }\n",
       "\n",
       "    .dataframe tbody tr th {\n",
       "        vertical-align: top;\n",
       "    }\n",
       "\n",
       "    .dataframe thead th {\n",
       "        text-align: right;\n",
       "    }\n",
       "</style>\n",
       "<table border=\"1\" class=\"dataframe\">\n",
       "  <thead>\n",
       "    <tr style=\"text-align: right;\">\n",
       "      <th></th>\n",
       "      <th>count</th>\n",
       "      <th>mean</th>\n",
       "      <th>std</th>\n",
       "      <th>min</th>\n",
       "      <th>25%</th>\n",
       "      <th>50%</th>\n",
       "      <th>75%</th>\n",
       "      <th>max</th>\n",
       "    </tr>\n",
       "  </thead>\n",
       "  <tbody>\n",
       "    <tr>\n",
       "      <th>age</th>\n",
       "      <td>55000.000</td>\n",
       "      <td>45.932</td>\n",
       "      <td>16.471</td>\n",
       "      <td>18.000</td>\n",
       "      <td>32.000</td>\n",
       "      <td>46.000</td>\n",
       "      <td>60.000</td>\n",
       "      <td>74.000</td>\n",
       "    </tr>\n",
       "    <tr>\n",
       "      <th>donation</th>\n",
       "      <td>55000.000</td>\n",
       "      <td>0.382</td>\n",
       "      <td>0.486</td>\n",
       "      <td>0.000</td>\n",
       "      <td>0.000</td>\n",
       "      <td>0.000</td>\n",
       "      <td>1.000</td>\n",
       "      <td>1.000</td>\n",
       "    </tr>\n",
       "    <tr>\n",
       "      <th>revenue</th>\n",
       "      <td>55000.000</td>\n",
       "      <td>24.621</td>\n",
       "      <td>32.618</td>\n",
       "      <td>0.000</td>\n",
       "      <td>0.000</td>\n",
       "      <td>0.000</td>\n",
       "      <td>56.000</td>\n",
       "      <td>100.000</td>\n",
       "    </tr>\n",
       "    <tr>\n",
       "      <th>influencer</th>\n",
       "      <td>55000.000</td>\n",
       "      <td>0.249</td>\n",
       "      <td>0.433</td>\n",
       "      <td>0.000</td>\n",
       "      <td>0.000</td>\n",
       "      <td>0.000</td>\n",
       "      <td>0.000</td>\n",
       "      <td>1.000</td>\n",
       "    </tr>\n",
       "    <tr>\n",
       "      <th>celebrity</th>\n",
       "      <td>55000.000</td>\n",
       "      <td>0.253</td>\n",
       "      <td>0.435</td>\n",
       "      <td>0.000</td>\n",
       "      <td>0.000</td>\n",
       "      <td>0.000</td>\n",
       "      <td>1.000</td>\n",
       "      <td>1.000</td>\n",
       "    </tr>\n",
       "    <tr>\n",
       "      <th>no endorser</th>\n",
       "      <td>55000.000</td>\n",
       "      <td>0.249</td>\n",
       "      <td>0.433</td>\n",
       "      <td>0.000</td>\n",
       "      <td>0.000</td>\n",
       "      <td>0.000</td>\n",
       "      <td>0.000</td>\n",
       "      <td>1.000</td>\n",
       "    </tr>\n",
       "    <tr>\n",
       "      <th>other campaigns</th>\n",
       "      <td>55000.000</td>\n",
       "      <td>0.248</td>\n",
       "      <td>0.432</td>\n",
       "      <td>0.000</td>\n",
       "      <td>0.000</td>\n",
       "      <td>0.000</td>\n",
       "      <td>0.000</td>\n",
       "      <td>1.000</td>\n",
       "    </tr>\n",
       "    <tr>\n",
       "      <th>Apple</th>\n",
       "      <td>55000.000</td>\n",
       "      <td>0.292</td>\n",
       "      <td>0.455</td>\n",
       "      <td>0.000</td>\n",
       "      <td>0.000</td>\n",
       "      <td>0.000</td>\n",
       "      <td>1.000</td>\n",
       "      <td>1.000</td>\n",
       "    </tr>\n",
       "    <tr>\n",
       "      <th>Windows</th>\n",
       "      <td>55000.000</td>\n",
       "      <td>0.449</td>\n",
       "      <td>0.497</td>\n",
       "      <td>0.000</td>\n",
       "      <td>0.000</td>\n",
       "      <td>0.000</td>\n",
       "      <td>1.000</td>\n",
       "      <td>1.000</td>\n",
       "    </tr>\n",
       "    <tr>\n",
       "      <th>Android</th>\n",
       "      <td>55000.000</td>\n",
       "      <td>0.078</td>\n",
       "      <td>0.269</td>\n",
       "      <td>0.000</td>\n",
       "      <td>0.000</td>\n",
       "      <td>0.000</td>\n",
       "      <td>0.000</td>\n",
       "      <td>1.000</td>\n",
       "    </tr>\n",
       "    <tr>\n",
       "      <th>Linux</th>\n",
       "      <td>55000.000</td>\n",
       "      <td>0.219</td>\n",
       "      <td>0.414</td>\n",
       "      <td>0.000</td>\n",
       "      <td>0.000</td>\n",
       "      <td>0.000</td>\n",
       "      <td>0.000</td>\n",
       "      <td>1.000</td>\n",
       "    </tr>\n",
       "    <tr>\n",
       "      <th>Facebook</th>\n",
       "      <td>55000.000</td>\n",
       "      <td>0.168</td>\n",
       "      <td>0.374</td>\n",
       "      <td>0.000</td>\n",
       "      <td>0.000</td>\n",
       "      <td>0.000</td>\n",
       "      <td>0.000</td>\n",
       "      <td>1.000</td>\n",
       "    </tr>\n",
       "    <tr>\n",
       "      <th>Google</th>\n",
       "      <td>55000.000</td>\n",
       "      <td>0.168</td>\n",
       "      <td>0.374</td>\n",
       "      <td>0.000</td>\n",
       "      <td>0.000</td>\n",
       "      <td>0.000</td>\n",
       "      <td>0.000</td>\n",
       "      <td>1.000</td>\n",
       "    </tr>\n",
       "    <tr>\n",
       "      <th>Youtube</th>\n",
       "      <td>55000.000</td>\n",
       "      <td>0.167</td>\n",
       "      <td>0.373</td>\n",
       "      <td>0.000</td>\n",
       "      <td>0.000</td>\n",
       "      <td>0.000</td>\n",
       "      <td>0.000</td>\n",
       "      <td>1.000</td>\n",
       "    </tr>\n",
       "    <tr>\n",
       "      <th>Instagram</th>\n",
       "      <td>55000.000</td>\n",
       "      <td>0.166</td>\n",
       "      <td>0.372</td>\n",
       "      <td>0.000</td>\n",
       "      <td>0.000</td>\n",
       "      <td>0.000</td>\n",
       "      <td>0.000</td>\n",
       "      <td>1.000</td>\n",
       "    </tr>\n",
       "    <tr>\n",
       "      <th>Other</th>\n",
       "      <td>55000.000</td>\n",
       "      <td>0.331</td>\n",
       "      <td>0.471</td>\n",
       "      <td>0.000</td>\n",
       "      <td>0.000</td>\n",
       "      <td>0.000</td>\n",
       "      <td>1.000</td>\n",
       "      <td>1.000</td>\n",
       "    </tr>\n",
       "  </tbody>\n",
       "</table>\n",
       "</div>"
      ],
      "text/plain": [
       "                    count   mean    std    min    25%    50%    75%     max\n",
       "age             55000.000 45.932 16.471 18.000 32.000 46.000 60.000  74.000\n",
       "donation        55000.000  0.382  0.486  0.000  0.000  0.000  1.000   1.000\n",
       "revenue         55000.000 24.621 32.618  0.000  0.000  0.000 56.000 100.000\n",
       "influencer      55000.000  0.249  0.433  0.000  0.000  0.000  0.000   1.000\n",
       "celebrity       55000.000  0.253  0.435  0.000  0.000  0.000  1.000   1.000\n",
       "no endorser     55000.000  0.249  0.433  0.000  0.000  0.000  0.000   1.000\n",
       "other campaigns 55000.000  0.248  0.432  0.000  0.000  0.000  0.000   1.000\n",
       "Apple           55000.000  0.292  0.455  0.000  0.000  0.000  1.000   1.000\n",
       "Windows         55000.000  0.449  0.497  0.000  0.000  0.000  1.000   1.000\n",
       "Android         55000.000  0.078  0.269  0.000  0.000  0.000  0.000   1.000\n",
       "Linux           55000.000  0.219  0.414  0.000  0.000  0.000  0.000   1.000\n",
       "Facebook        55000.000  0.168  0.374  0.000  0.000  0.000  0.000   1.000\n",
       "Google          55000.000  0.168  0.374  0.000  0.000  0.000  0.000   1.000\n",
       "Youtube         55000.000  0.167  0.373  0.000  0.000  0.000  0.000   1.000\n",
       "Instagram       55000.000  0.166  0.372  0.000  0.000  0.000  0.000   1.000\n",
       "Other           55000.000  0.331  0.471  0.000  0.000  0.000  1.000   1.000"
      ]
     },
     "execution_count": 77,
     "metadata": {},
     "output_type": "execute_result"
    }
   ],
   "source": [
    "final_df[['age','donation','revenue','influencer','celebrity','no endorser','other campaigns','Apple','Windows','Android','Linux','Facebook', 'Google', 'Youtube', 'Instagram','Other']].describe().transpose()"
   ]
  },
  {
   "cell_type": "markdown",
   "id": "aa312b8e-107d-45c9-aebb-4e745261784f",
   "metadata": {},
   "source": [
    "##### Among different campaigns the result show that only 22% of the users which have seen either the celebrity or the influencer's campaigns (approximately 14.000 users each) made a donation. The campaign with no endorser stimulated a 76% of donations (among 13.000 users) and other campaigns the 31% (among 13.000 users). Furthermpore,the average donation stimulated by endorsers'campaign (influencer or celebrity) is 13€ while other campaign average donation is 19€ and campaign with no endorsers 53€. We do not know if such differences are significant but at the moment the campaign with no endorsers seem to be most succesfull in terms of donations and revenue so far"
   ]
  },
  {
   "cell_type": "code",
   "execution_count": 78,
   "id": "7e3e4d27-f673-424c-ab26-27119e661c2f",
   "metadata": {},
   "outputs": [
    {
     "data": {
      "text/html": [
       "<div>\n",
       "<style scoped>\n",
       "    .dataframe tbody tr th:only-of-type {\n",
       "        vertical-align: middle;\n",
       "    }\n",
       "\n",
       "    .dataframe tbody tr th {\n",
       "        vertical-align: top;\n",
       "    }\n",
       "\n",
       "    .dataframe thead th {\n",
       "        text-align: right;\n",
       "    }\n",
       "</style>\n",
       "<table border=\"1\" class=\"dataframe\">\n",
       "  <thead>\n",
       "    <tr style=\"text-align: right;\">\n",
       "      <th></th>\n",
       "      <th>campaign</th>\n",
       "      <th>celebrity</th>\n",
       "      <th>influencer</th>\n",
       "      <th>no endorser</th>\n",
       "      <th>other campaigns</th>\n",
       "    </tr>\n",
       "  </thead>\n",
       "  <tbody>\n",
       "    <tr>\n",
       "      <th rowspan=\"8\" valign=\"top\">donation</th>\n",
       "      <th>count</th>\n",
       "      <td>13940.000</td>\n",
       "      <td>13714.000</td>\n",
       "      <td>13710.000</td>\n",
       "      <td>13636.000</td>\n",
       "    </tr>\n",
       "    <tr>\n",
       "      <th>mean</th>\n",
       "      <td>0.223</td>\n",
       "      <td>0.223</td>\n",
       "      <td>0.766</td>\n",
       "      <td>0.316</td>\n",
       "    </tr>\n",
       "    <tr>\n",
       "      <th>std</th>\n",
       "      <td>0.416</td>\n",
       "      <td>0.416</td>\n",
       "      <td>0.423</td>\n",
       "      <td>0.465</td>\n",
       "    </tr>\n",
       "    <tr>\n",
       "      <th>min</th>\n",
       "      <td>0.000</td>\n",
       "      <td>0.000</td>\n",
       "      <td>0.000</td>\n",
       "      <td>0.000</td>\n",
       "    </tr>\n",
       "    <tr>\n",
       "      <th>25%</th>\n",
       "      <td>0.000</td>\n",
       "      <td>0.000</td>\n",
       "      <td>1.000</td>\n",
       "      <td>0.000</td>\n",
       "    </tr>\n",
       "    <tr>\n",
       "      <th>50%</th>\n",
       "      <td>0.000</td>\n",
       "      <td>0.000</td>\n",
       "      <td>1.000</td>\n",
       "      <td>0.000</td>\n",
       "    </tr>\n",
       "    <tr>\n",
       "      <th>75%</th>\n",
       "      <td>0.000</td>\n",
       "      <td>0.000</td>\n",
       "      <td>1.000</td>\n",
       "      <td>1.000</td>\n",
       "    </tr>\n",
       "    <tr>\n",
       "      <th>max</th>\n",
       "      <td>1.000</td>\n",
       "      <td>1.000</td>\n",
       "      <td>1.000</td>\n",
       "      <td>1.000</td>\n",
       "    </tr>\n",
       "    <tr>\n",
       "      <th rowspan=\"8\" valign=\"top\">revenue</th>\n",
       "      <th>count</th>\n",
       "      <td>13940.000</td>\n",
       "      <td>13714.000</td>\n",
       "      <td>13710.000</td>\n",
       "      <td>13636.000</td>\n",
       "    </tr>\n",
       "    <tr>\n",
       "      <th>mean</th>\n",
       "      <td>13.005</td>\n",
       "      <td>13.007</td>\n",
       "      <td>53.630</td>\n",
       "      <td>19.011</td>\n",
       "    </tr>\n",
       "    <tr>\n",
       "      <th>std</th>\n",
       "      <td>24.738</td>\n",
       "      <td>24.769</td>\n",
       "      <td>32.694</td>\n",
       "      <td>28.687</td>\n",
       "    </tr>\n",
       "    <tr>\n",
       "      <th>min</th>\n",
       "      <td>0.000</td>\n",
       "      <td>0.000</td>\n",
       "      <td>0.000</td>\n",
       "      <td>0.000</td>\n",
       "    </tr>\n",
       "    <tr>\n",
       "      <th>25%</th>\n",
       "      <td>0.000</td>\n",
       "      <td>0.000</td>\n",
       "      <td>46.000</td>\n",
       "      <td>0.000</td>\n",
       "    </tr>\n",
       "    <tr>\n",
       "      <th>50%</th>\n",
       "      <td>0.000</td>\n",
       "      <td>0.000</td>\n",
       "      <td>62.000</td>\n",
       "      <td>0.000</td>\n",
       "    </tr>\n",
       "    <tr>\n",
       "      <th>75%</th>\n",
       "      <td>0.000</td>\n",
       "      <td>0.000</td>\n",
       "      <td>75.000</td>\n",
       "      <td>49.000</td>\n",
       "    </tr>\n",
       "    <tr>\n",
       "      <th>max</th>\n",
       "      <td>98.000</td>\n",
       "      <td>100.000</td>\n",
       "      <td>100.000</td>\n",
       "      <td>100.000</td>\n",
       "    </tr>\n",
       "  </tbody>\n",
       "</table>\n",
       "</div>"
      ],
      "text/plain": [
       "campaign        celebrity  influencer  no endorser  other campaigns\n",
       "donation count  13940.000   13714.000    13710.000        13636.000\n",
       "         mean       0.223       0.223        0.766            0.316\n",
       "         std        0.416       0.416        0.423            0.465\n",
       "         min        0.000       0.000        0.000            0.000\n",
       "         25%        0.000       0.000        1.000            0.000\n",
       "         50%        0.000       0.000        1.000            0.000\n",
       "         75%        0.000       0.000        1.000            1.000\n",
       "         max        1.000       1.000        1.000            1.000\n",
       "revenue  count  13940.000   13714.000    13710.000        13636.000\n",
       "         mean      13.005      13.007       53.630           19.011\n",
       "         std       24.738      24.769       32.694           28.687\n",
       "         min        0.000       0.000        0.000            0.000\n",
       "         25%        0.000       0.000       46.000            0.000\n",
       "         50%        0.000       0.000       62.000            0.000\n",
       "         75%        0.000       0.000       75.000           49.000\n",
       "         max       98.000     100.000      100.000          100.000"
      ]
     },
     "execution_count": 78,
     "metadata": {},
     "output_type": "execute_result"
    }
   ],
   "source": [
    "final_df.groupby('campaign')[['donation','revenue']].describe().transpose()"
   ]
  },
  {
   "cell_type": "markdown",
   "id": "1d990734-0a04-4af5-b2ae-5b226c931617",
   "metadata": {},
   "source": [
    "##### Facebook and other referral registered a 21% donation rate, Google the 47%, Instagram and Youtube are the most succesfull with a donation rate of 59% each. Average donation differs among platforms, from FB and other is only 13€ while Google registerded 30€ average donation and Instagram and Youtube reconfirmed again as the most succesfull with an average donation of 39€ each"
   ]
  },
  {
   "cell_type": "code",
   "execution_count": 79,
   "id": "a8c84c8a-824e-4c4f-8068-9b9a21f65efb",
   "metadata": {},
   "outputs": [
    {
     "data": {
      "text/html": [
       "<div>\n",
       "<style scoped>\n",
       "    .dataframe tbody tr th:only-of-type {\n",
       "        vertical-align: middle;\n",
       "    }\n",
       "\n",
       "    .dataframe tbody tr th {\n",
       "        vertical-align: top;\n",
       "    }\n",
       "\n",
       "    .dataframe thead th {\n",
       "        text-align: right;\n",
       "    }\n",
       "</style>\n",
       "<table border=\"1\" class=\"dataframe\">\n",
       "  <thead>\n",
       "    <tr style=\"text-align: right;\">\n",
       "      <th></th>\n",
       "      <th>referral</th>\n",
       "      <th>Facebook</th>\n",
       "      <th>Google</th>\n",
       "      <th>Instagram</th>\n",
       "      <th>Youtube</th>\n",
       "      <th>other</th>\n",
       "    </tr>\n",
       "  </thead>\n",
       "  <tbody>\n",
       "    <tr>\n",
       "      <th rowspan=\"8\" valign=\"top\">donation</th>\n",
       "      <th>count</th>\n",
       "      <td>9239.000</td>\n",
       "      <td>9232.000</td>\n",
       "      <td>9115.000</td>\n",
       "      <td>9207.000</td>\n",
       "      <td>18207.000</td>\n",
       "    </tr>\n",
       "    <tr>\n",
       "      <th>mean</th>\n",
       "      <td>0.212</td>\n",
       "      <td>0.479</td>\n",
       "      <td>0.582</td>\n",
       "      <td>0.590</td>\n",
       "      <td>0.212</td>\n",
       "    </tr>\n",
       "    <tr>\n",
       "      <th>std</th>\n",
       "      <td>0.409</td>\n",
       "      <td>0.500</td>\n",
       "      <td>0.493</td>\n",
       "      <td>0.492</td>\n",
       "      <td>0.409</td>\n",
       "    </tr>\n",
       "    <tr>\n",
       "      <th>min</th>\n",
       "      <td>0.000</td>\n",
       "      <td>0.000</td>\n",
       "      <td>0.000</td>\n",
       "      <td>0.000</td>\n",
       "      <td>0.000</td>\n",
       "    </tr>\n",
       "    <tr>\n",
       "      <th>25%</th>\n",
       "      <td>0.000</td>\n",
       "      <td>0.000</td>\n",
       "      <td>0.000</td>\n",
       "      <td>0.000</td>\n",
       "      <td>0.000</td>\n",
       "    </tr>\n",
       "    <tr>\n",
       "      <th>50%</th>\n",
       "      <td>0.000</td>\n",
       "      <td>0.000</td>\n",
       "      <td>1.000</td>\n",
       "      <td>1.000</td>\n",
       "      <td>0.000</td>\n",
       "    </tr>\n",
       "    <tr>\n",
       "      <th>75%</th>\n",
       "      <td>0.000</td>\n",
       "      <td>1.000</td>\n",
       "      <td>1.000</td>\n",
       "      <td>1.000</td>\n",
       "      <td>0.000</td>\n",
       "    </tr>\n",
       "    <tr>\n",
       "      <th>max</th>\n",
       "      <td>1.000</td>\n",
       "      <td>1.000</td>\n",
       "      <td>1.000</td>\n",
       "      <td>1.000</td>\n",
       "      <td>1.000</td>\n",
       "    </tr>\n",
       "    <tr>\n",
       "      <th rowspan=\"8\" valign=\"top\">revenue</th>\n",
       "      <th>count</th>\n",
       "      <td>9239.000</td>\n",
       "      <td>9232.000</td>\n",
       "      <td>9115.000</td>\n",
       "      <td>9207.000</td>\n",
       "      <td>18207.000</td>\n",
       "    </tr>\n",
       "    <tr>\n",
       "      <th>mean</th>\n",
       "      <td>12.992</td>\n",
       "      <td>30.583</td>\n",
       "      <td>38.702</td>\n",
       "      <td>39.284</td>\n",
       "      <td>13.036</td>\n",
       "    </tr>\n",
       "    <tr>\n",
       "      <th>std</th>\n",
       "      <td>25.643</td>\n",
       "      <td>33.437</td>\n",
       "      <td>34.875</td>\n",
       "      <td>34.859</td>\n",
       "      <td>25.715</td>\n",
       "    </tr>\n",
       "    <tr>\n",
       "      <th>min</th>\n",
       "      <td>0.000</td>\n",
       "      <td>0.000</td>\n",
       "      <td>0.000</td>\n",
       "      <td>0.000</td>\n",
       "      <td>0.000</td>\n",
       "    </tr>\n",
       "    <tr>\n",
       "      <th>25%</th>\n",
       "      <td>0.000</td>\n",
       "      <td>0.000</td>\n",
       "      <td>0.000</td>\n",
       "      <td>0.000</td>\n",
       "      <td>0.000</td>\n",
       "    </tr>\n",
       "    <tr>\n",
       "      <th>50%</th>\n",
       "      <td>0.000</td>\n",
       "      <td>0.000</td>\n",
       "      <td>51.000</td>\n",
       "      <td>51.000</td>\n",
       "      <td>0.000</td>\n",
       "    </tr>\n",
       "    <tr>\n",
       "      <th>75%</th>\n",
       "      <td>0.000</td>\n",
       "      <td>58.000</td>\n",
       "      <td>65.000</td>\n",
       "      <td>65.000</td>\n",
       "      <td>0.000</td>\n",
       "    </tr>\n",
       "    <tr>\n",
       "      <th>max</th>\n",
       "      <td>100.000</td>\n",
       "      <td>100.000</td>\n",
       "      <td>100.000</td>\n",
       "      <td>100.000</td>\n",
       "      <td>100.000</td>\n",
       "    </tr>\n",
       "  </tbody>\n",
       "</table>\n",
       "</div>"
      ],
      "text/plain": [
       "referral        Facebook   Google  Instagram  Youtube     other\n",
       "donation count  9239.000 9232.000   9115.000 9207.000 18207.000\n",
       "         mean      0.212    0.479      0.582    0.590     0.212\n",
       "         std       0.409    0.500      0.493    0.492     0.409\n",
       "         min       0.000    0.000      0.000    0.000     0.000\n",
       "         25%       0.000    0.000      0.000    0.000     0.000\n",
       "         50%       0.000    0.000      1.000    1.000     0.000\n",
       "         75%       0.000    1.000      1.000    1.000     0.000\n",
       "         max       1.000    1.000      1.000    1.000     1.000\n",
       "revenue  count  9239.000 9232.000   9115.000 9207.000 18207.000\n",
       "         mean     12.992   30.583     38.702   39.284    13.036\n",
       "         std      25.643   33.437     34.875   34.859    25.715\n",
       "         min       0.000    0.000      0.000    0.000     0.000\n",
       "         25%       0.000    0.000      0.000    0.000     0.000\n",
       "         50%       0.000    0.000     51.000   51.000     0.000\n",
       "         75%       0.000   58.000     65.000   65.000     0.000\n",
       "         max     100.000  100.000    100.000  100.000   100.000"
      ]
     },
     "execution_count": 79,
     "metadata": {},
     "output_type": "execute_result"
    }
   ],
   "source": [
    "final_df.groupby('referral')[['donation','revenue']].describe().transpose()"
   ]
  },
  {
   "cell_type": "markdown",
   "id": "643e880c-dda6-4ed1-a833-2546b06e7008",
   "metadata": {},
   "source": [
    "##### Below we see how none of the devices (Apple, Windows, Android, Linux) used to enter in the website made any difference in the likelihood of making a donation or not (approximately 38% in all cases) and the average donation revenue (which was 24€ for any of the devices used). We may consider such control variable useless for the model"
   ]
  },
  {
   "cell_type": "code",
   "execution_count": 80,
   "id": "3d6b388c-328b-478c-aabb-08a23f5d91f0",
   "metadata": {},
   "outputs": [
    {
     "data": {
      "text/html": [
       "<div>\n",
       "<style scoped>\n",
       "    .dataframe tbody tr th:only-of-type {\n",
       "        vertical-align: middle;\n",
       "    }\n",
       "\n",
       "    .dataframe tbody tr th {\n",
       "        vertical-align: top;\n",
       "    }\n",
       "\n",
       "    .dataframe thead th {\n",
       "        text-align: right;\n",
       "    }\n",
       "</style>\n",
       "<table border=\"1\" class=\"dataframe\">\n",
       "  <thead>\n",
       "    <tr style=\"text-align: right;\">\n",
       "      <th></th>\n",
       "      <th>Apple</th>\n",
       "      <th>0</th>\n",
       "      <th>1</th>\n",
       "    </tr>\n",
       "  </thead>\n",
       "  <tbody>\n",
       "    <tr>\n",
       "      <th rowspan=\"8\" valign=\"top\">donation</th>\n",
       "      <th>count</th>\n",
       "      <td>38932.000</td>\n",
       "      <td>16068.000</td>\n",
       "    </tr>\n",
       "    <tr>\n",
       "      <th>mean</th>\n",
       "      <td>0.383</td>\n",
       "      <td>0.378</td>\n",
       "    </tr>\n",
       "    <tr>\n",
       "      <th>std</th>\n",
       "      <td>0.486</td>\n",
       "      <td>0.485</td>\n",
       "    </tr>\n",
       "    <tr>\n",
       "      <th>min</th>\n",
       "      <td>0.000</td>\n",
       "      <td>0.000</td>\n",
       "    </tr>\n",
       "    <tr>\n",
       "      <th>25%</th>\n",
       "      <td>0.000</td>\n",
       "      <td>0.000</td>\n",
       "    </tr>\n",
       "    <tr>\n",
       "      <th>50%</th>\n",
       "      <td>0.000</td>\n",
       "      <td>0.000</td>\n",
       "    </tr>\n",
       "    <tr>\n",
       "      <th>75%</th>\n",
       "      <td>1.000</td>\n",
       "      <td>1.000</td>\n",
       "    </tr>\n",
       "    <tr>\n",
       "      <th>max</th>\n",
       "      <td>1.000</td>\n",
       "      <td>1.000</td>\n",
       "    </tr>\n",
       "    <tr>\n",
       "      <th rowspan=\"8\" valign=\"top\">revenue</th>\n",
       "      <th>count</th>\n",
       "      <td>38932.000</td>\n",
       "      <td>16068.000</td>\n",
       "    </tr>\n",
       "    <tr>\n",
       "      <th>mean</th>\n",
       "      <td>24.710</td>\n",
       "      <td>24.406</td>\n",
       "    </tr>\n",
       "    <tr>\n",
       "      <th>std</th>\n",
       "      <td>32.635</td>\n",
       "      <td>32.577</td>\n",
       "    </tr>\n",
       "    <tr>\n",
       "      <th>min</th>\n",
       "      <td>0.000</td>\n",
       "      <td>0.000</td>\n",
       "    </tr>\n",
       "    <tr>\n",
       "      <th>25%</th>\n",
       "      <td>0.000</td>\n",
       "      <td>0.000</td>\n",
       "    </tr>\n",
       "    <tr>\n",
       "      <th>50%</th>\n",
       "      <td>0.000</td>\n",
       "      <td>0.000</td>\n",
       "    </tr>\n",
       "    <tr>\n",
       "      <th>75%</th>\n",
       "      <td>56.000</td>\n",
       "      <td>55.000</td>\n",
       "    </tr>\n",
       "    <tr>\n",
       "      <th>max</th>\n",
       "      <td>100.000</td>\n",
       "      <td>100.000</td>\n",
       "    </tr>\n",
       "  </tbody>\n",
       "</table>\n",
       "</div>"
      ],
      "text/plain": [
       "Apple                  0         1\n",
       "donation count 38932.000 16068.000\n",
       "         mean      0.383     0.378\n",
       "         std       0.486     0.485\n",
       "         min       0.000     0.000\n",
       "         25%       0.000     0.000\n",
       "         50%       0.000     0.000\n",
       "         75%       1.000     1.000\n",
       "         max       1.000     1.000\n",
       "revenue  count 38932.000 16068.000\n",
       "         mean     24.710    24.406\n",
       "         std      32.635    32.577\n",
       "         min       0.000     0.000\n",
       "         25%       0.000     0.000\n",
       "         50%       0.000     0.000\n",
       "         75%      56.000    55.000\n",
       "         max     100.000   100.000"
      ]
     },
     "execution_count": 80,
     "metadata": {},
     "output_type": "execute_result"
    }
   ],
   "source": [
    "final_df.groupby('Apple')[['donation','revenue']].describe().transpose()"
   ]
  },
  {
   "cell_type": "code",
   "execution_count": 81,
   "id": "e096fb72-61bf-46f3-8b34-9409aae6fc1a",
   "metadata": {},
   "outputs": [
    {
     "data": {
      "text/html": [
       "<div>\n",
       "<style scoped>\n",
       "    .dataframe tbody tr th:only-of-type {\n",
       "        vertical-align: middle;\n",
       "    }\n",
       "\n",
       "    .dataframe tbody tr th {\n",
       "        vertical-align: top;\n",
       "    }\n",
       "\n",
       "    .dataframe thead th {\n",
       "        text-align: right;\n",
       "    }\n",
       "</style>\n",
       "<table border=\"1\" class=\"dataframe\">\n",
       "  <thead>\n",
       "    <tr style=\"text-align: right;\">\n",
       "      <th></th>\n",
       "      <th>Windows</th>\n",
       "      <th>0</th>\n",
       "      <th>1</th>\n",
       "    </tr>\n",
       "  </thead>\n",
       "  <tbody>\n",
       "    <tr>\n",
       "      <th rowspan=\"8\" valign=\"top\">donation</th>\n",
       "      <th>count</th>\n",
       "      <td>30295.000</td>\n",
       "      <td>24705.000</td>\n",
       "    </tr>\n",
       "    <tr>\n",
       "      <th>mean</th>\n",
       "      <td>0.381</td>\n",
       "      <td>0.382</td>\n",
       "    </tr>\n",
       "    <tr>\n",
       "      <th>std</th>\n",
       "      <td>0.486</td>\n",
       "      <td>0.486</td>\n",
       "    </tr>\n",
       "    <tr>\n",
       "      <th>min</th>\n",
       "      <td>0.000</td>\n",
       "      <td>0.000</td>\n",
       "    </tr>\n",
       "    <tr>\n",
       "      <th>25%</th>\n",
       "      <td>0.000</td>\n",
       "      <td>0.000</td>\n",
       "    </tr>\n",
       "    <tr>\n",
       "      <th>50%</th>\n",
       "      <td>0.000</td>\n",
       "      <td>0.000</td>\n",
       "    </tr>\n",
       "    <tr>\n",
       "      <th>75%</th>\n",
       "      <td>1.000</td>\n",
       "      <td>1.000</td>\n",
       "    </tr>\n",
       "    <tr>\n",
       "      <th>max</th>\n",
       "      <td>1.000</td>\n",
       "      <td>1.000</td>\n",
       "    </tr>\n",
       "    <tr>\n",
       "      <th rowspan=\"8\" valign=\"top\">revenue</th>\n",
       "      <th>count</th>\n",
       "      <td>30295.000</td>\n",
       "      <td>24705.000</td>\n",
       "    </tr>\n",
       "    <tr>\n",
       "      <th>mean</th>\n",
       "      <td>24.609</td>\n",
       "      <td>24.637</td>\n",
       "    </tr>\n",
       "    <tr>\n",
       "      <th>std</th>\n",
       "      <td>32.630</td>\n",
       "      <td>32.603</td>\n",
       "    </tr>\n",
       "    <tr>\n",
       "      <th>min</th>\n",
       "      <td>0.000</td>\n",
       "      <td>0.000</td>\n",
       "    </tr>\n",
       "    <tr>\n",
       "      <th>25%</th>\n",
       "      <td>0.000</td>\n",
       "      <td>0.000</td>\n",
       "    </tr>\n",
       "    <tr>\n",
       "      <th>50%</th>\n",
       "      <td>0.000</td>\n",
       "      <td>0.000</td>\n",
       "    </tr>\n",
       "    <tr>\n",
       "      <th>75%</th>\n",
       "      <td>56.000</td>\n",
       "      <td>56.000</td>\n",
       "    </tr>\n",
       "    <tr>\n",
       "      <th>max</th>\n",
       "      <td>100.000</td>\n",
       "      <td>100.000</td>\n",
       "    </tr>\n",
       "  </tbody>\n",
       "</table>\n",
       "</div>"
      ],
      "text/plain": [
       "Windows                0         1\n",
       "donation count 30295.000 24705.000\n",
       "         mean      0.381     0.382\n",
       "         std       0.486     0.486\n",
       "         min       0.000     0.000\n",
       "         25%       0.000     0.000\n",
       "         50%       0.000     0.000\n",
       "         75%       1.000     1.000\n",
       "         max       1.000     1.000\n",
       "revenue  count 30295.000 24705.000\n",
       "         mean     24.609    24.637\n",
       "         std      32.630    32.603\n",
       "         min       0.000     0.000\n",
       "         25%       0.000     0.000\n",
       "         50%       0.000     0.000\n",
       "         75%      56.000    56.000\n",
       "         max     100.000   100.000"
      ]
     },
     "execution_count": 81,
     "metadata": {},
     "output_type": "execute_result"
    }
   ],
   "source": [
    "final_df.groupby('Windows')[['donation','revenue']].describe().transpose()"
   ]
  },
  {
   "cell_type": "code",
   "execution_count": 82,
   "id": "c136b1da-14db-4a24-9b65-371fc3c10c40",
   "metadata": {},
   "outputs": [
    {
     "data": {
      "text/html": [
       "<div>\n",
       "<style scoped>\n",
       "    .dataframe tbody tr th:only-of-type {\n",
       "        vertical-align: middle;\n",
       "    }\n",
       "\n",
       "    .dataframe tbody tr th {\n",
       "        vertical-align: top;\n",
       "    }\n",
       "\n",
       "    .dataframe thead th {\n",
       "        text-align: right;\n",
       "    }\n",
       "</style>\n",
       "<table border=\"1\" class=\"dataframe\">\n",
       "  <thead>\n",
       "    <tr style=\"text-align: right;\">\n",
       "      <th></th>\n",
       "      <th>Android</th>\n",
       "      <th>0</th>\n",
       "      <th>1</th>\n",
       "    </tr>\n",
       "  </thead>\n",
       "  <tbody>\n",
       "    <tr>\n",
       "      <th rowspan=\"8\" valign=\"top\">donation</th>\n",
       "      <th>count</th>\n",
       "      <td>50698.000</td>\n",
       "      <td>4302.000</td>\n",
       "    </tr>\n",
       "    <tr>\n",
       "      <th>mean</th>\n",
       "      <td>0.381</td>\n",
       "      <td>0.384</td>\n",
       "    </tr>\n",
       "    <tr>\n",
       "      <th>std</th>\n",
       "      <td>0.486</td>\n",
       "      <td>0.486</td>\n",
       "    </tr>\n",
       "    <tr>\n",
       "      <th>min</th>\n",
       "      <td>0.000</td>\n",
       "      <td>0.000</td>\n",
       "    </tr>\n",
       "    <tr>\n",
       "      <th>25%</th>\n",
       "      <td>0.000</td>\n",
       "      <td>0.000</td>\n",
       "    </tr>\n",
       "    <tr>\n",
       "      <th>50%</th>\n",
       "      <td>0.000</td>\n",
       "      <td>0.000</td>\n",
       "    </tr>\n",
       "    <tr>\n",
       "      <th>75%</th>\n",
       "      <td>1.000</td>\n",
       "      <td>1.000</td>\n",
       "    </tr>\n",
       "    <tr>\n",
       "      <th>max</th>\n",
       "      <td>1.000</td>\n",
       "      <td>1.000</td>\n",
       "    </tr>\n",
       "    <tr>\n",
       "      <th rowspan=\"8\" valign=\"top\">revenue</th>\n",
       "      <th>count</th>\n",
       "      <td>50698.000</td>\n",
       "      <td>4302.000</td>\n",
       "    </tr>\n",
       "    <tr>\n",
       "      <th>mean</th>\n",
       "      <td>24.599</td>\n",
       "      <td>24.889</td>\n",
       "    </tr>\n",
       "    <tr>\n",
       "      <th>std</th>\n",
       "      <td>32.605</td>\n",
       "      <td>32.776</td>\n",
       "    </tr>\n",
       "    <tr>\n",
       "      <th>min</th>\n",
       "      <td>0.000</td>\n",
       "      <td>0.000</td>\n",
       "    </tr>\n",
       "    <tr>\n",
       "      <th>25%</th>\n",
       "      <td>0.000</td>\n",
       "      <td>0.000</td>\n",
       "    </tr>\n",
       "    <tr>\n",
       "      <th>50%</th>\n",
       "      <td>0.000</td>\n",
       "      <td>0.000</td>\n",
       "    </tr>\n",
       "    <tr>\n",
       "      <th>75%</th>\n",
       "      <td>56.000</td>\n",
       "      <td>57.000</td>\n",
       "    </tr>\n",
       "    <tr>\n",
       "      <th>max</th>\n",
       "      <td>100.000</td>\n",
       "      <td>100.000</td>\n",
       "    </tr>\n",
       "  </tbody>\n",
       "</table>\n",
       "</div>"
      ],
      "text/plain": [
       "Android                0        1\n",
       "donation count 50698.000 4302.000\n",
       "         mean      0.381    0.384\n",
       "         std       0.486    0.486\n",
       "         min       0.000    0.000\n",
       "         25%       0.000    0.000\n",
       "         50%       0.000    0.000\n",
       "         75%       1.000    1.000\n",
       "         max       1.000    1.000\n",
       "revenue  count 50698.000 4302.000\n",
       "         mean     24.599   24.889\n",
       "         std      32.605   32.776\n",
       "         min       0.000    0.000\n",
       "         25%       0.000    0.000\n",
       "         50%       0.000    0.000\n",
       "         75%      56.000   57.000\n",
       "         max     100.000  100.000"
      ]
     },
     "execution_count": 82,
     "metadata": {},
     "output_type": "execute_result"
    }
   ],
   "source": [
    "final_df.groupby('Android')[['donation','revenue']].describe().transpose()"
   ]
  },
  {
   "cell_type": "code",
   "execution_count": 83,
   "id": "79b435fd-5ad7-4bab-93b4-0de37c76d6ef",
   "metadata": {},
   "outputs": [
    {
     "data": {
      "text/html": [
       "<div>\n",
       "<style scoped>\n",
       "    .dataframe tbody tr th:only-of-type {\n",
       "        vertical-align: middle;\n",
       "    }\n",
       "\n",
       "    .dataframe tbody tr th {\n",
       "        vertical-align: top;\n",
       "    }\n",
       "\n",
       "    .dataframe thead th {\n",
       "        text-align: right;\n",
       "    }\n",
       "</style>\n",
       "<table border=\"1\" class=\"dataframe\">\n",
       "  <thead>\n",
       "    <tr style=\"text-align: right;\">\n",
       "      <th></th>\n",
       "      <th>Linux</th>\n",
       "      <th>0</th>\n",
       "      <th>1</th>\n",
       "    </tr>\n",
       "  </thead>\n",
       "  <tbody>\n",
       "    <tr>\n",
       "      <th rowspan=\"8\" valign=\"top\">donation</th>\n",
       "      <th>count</th>\n",
       "      <td>42952.000</td>\n",
       "      <td>12048.000</td>\n",
       "    </tr>\n",
       "    <tr>\n",
       "      <th>mean</th>\n",
       "      <td>0.381</td>\n",
       "      <td>0.384</td>\n",
       "    </tr>\n",
       "    <tr>\n",
       "      <th>std</th>\n",
       "      <td>0.486</td>\n",
       "      <td>0.486</td>\n",
       "    </tr>\n",
       "    <tr>\n",
       "      <th>min</th>\n",
       "      <td>0.000</td>\n",
       "      <td>0.000</td>\n",
       "    </tr>\n",
       "    <tr>\n",
       "      <th>25%</th>\n",
       "      <td>0.000</td>\n",
       "      <td>0.000</td>\n",
       "    </tr>\n",
       "    <tr>\n",
       "      <th>50%</th>\n",
       "      <td>0.000</td>\n",
       "      <td>0.000</td>\n",
       "    </tr>\n",
       "    <tr>\n",
       "      <th>75%</th>\n",
       "      <td>1.000</td>\n",
       "      <td>1.000</td>\n",
       "    </tr>\n",
       "    <tr>\n",
       "      <th>max</th>\n",
       "      <td>1.000</td>\n",
       "      <td>1.000</td>\n",
       "    </tr>\n",
       "    <tr>\n",
       "      <th rowspan=\"8\" valign=\"top\">revenue</th>\n",
       "      <th>count</th>\n",
       "      <td>42952.000</td>\n",
       "      <td>12048.000</td>\n",
       "    </tr>\n",
       "    <tr>\n",
       "      <th>mean</th>\n",
       "      <td>24.570</td>\n",
       "      <td>24.804</td>\n",
       "    </tr>\n",
       "    <tr>\n",
       "      <th>std</th>\n",
       "      <td>32.601</td>\n",
       "      <td>32.676</td>\n",
       "    </tr>\n",
       "    <tr>\n",
       "      <th>min</th>\n",
       "      <td>0.000</td>\n",
       "      <td>0.000</td>\n",
       "    </tr>\n",
       "    <tr>\n",
       "      <th>25%</th>\n",
       "      <td>0.000</td>\n",
       "      <td>0.000</td>\n",
       "    </tr>\n",
       "    <tr>\n",
       "      <th>50%</th>\n",
       "      <td>0.000</td>\n",
       "      <td>0.000</td>\n",
       "    </tr>\n",
       "    <tr>\n",
       "      <th>75%</th>\n",
       "      <td>56.000</td>\n",
       "      <td>57.000</td>\n",
       "    </tr>\n",
       "    <tr>\n",
       "      <th>max</th>\n",
       "      <td>100.000</td>\n",
       "      <td>100.000</td>\n",
       "    </tr>\n",
       "  </tbody>\n",
       "</table>\n",
       "</div>"
      ],
      "text/plain": [
       "Linux                  0         1\n",
       "donation count 42952.000 12048.000\n",
       "         mean      0.381     0.384\n",
       "         std       0.486     0.486\n",
       "         min       0.000     0.000\n",
       "         25%       0.000     0.000\n",
       "         50%       0.000     0.000\n",
       "         75%       1.000     1.000\n",
       "         max       1.000     1.000\n",
       "revenue  count 42952.000 12048.000\n",
       "         mean     24.570    24.804\n",
       "         std      32.601    32.676\n",
       "         min       0.000     0.000\n",
       "         25%       0.000     0.000\n",
       "         50%       0.000     0.000\n",
       "         75%      56.000    57.000\n",
       "         max     100.000   100.000"
      ]
     },
     "execution_count": 83,
     "metadata": {},
     "output_type": "execute_result"
    }
   ],
   "source": [
    "final_df.groupby('Linux')[['donation','revenue']].describe().transpose()"
   ]
  },
  {
   "cell_type": "markdown",
   "id": "9dd57df2-a460-42c9-a7cf-10043b163aaa",
   "metadata": {},
   "source": [
    "##### Visualizing my data"
   ]
  },
  {
   "cell_type": "markdown",
   "id": "7288ef9f-b961-44dc-b96d-f1c29249a351",
   "metadata": {},
   "source": [
    "##### Graph 1. Donors (in orange) compared to non donors (in blue)"
   ]
  },
  {
   "cell_type": "code",
   "execution_count": 84,
   "id": "44f3e24a-1e95-4ffe-a9a1-a9d2fa0caa20",
   "metadata": {},
   "outputs": [
    {
     "data": {
      "text/plain": [
       "<AxesSubplot:xlabel='donation', ylabel='count'>"
      ]
     },
     "execution_count": 84,
     "metadata": {},
     "output_type": "execute_result"
    },
    {
     "data": {
      "image/png": "[encoded data removed]",
      "text/plain": [
       "<Figure size 432x288 with 1 Axes>"
      ]
     },
     "metadata": {
      "needs_background": "light"
     },
     "output_type": "display_data"
    }
   ],
   "source": [
    "sns.countplot(x='donation', data=final_df)"
   ]
  },
  {
   "cell_type": "markdown",
   "id": "275b417c-b2a4-4922-a671-d26617d97ce6",
   "metadata": {},
   "source": [
    "##### Graph 2. Donations'revenue distribution.Most are 0 since most of the users donate 0€. "
   ]
  },
  {
   "cell_type": "code",
   "execution_count": 85,
   "id": "e1261e7e-40d4-41f1-af93-fd6f2e83ae18",
   "metadata": {},
   "outputs": [
    {
     "data": {
      "text/plain": [
       "<seaborn.axisgrid.FacetGrid at 0x7f8e204e88e0>"
      ]
     },
     "execution_count": 85,
     "metadata": {},
     "output_type": "execute_result"
    },
    {
     "data": {
      "image/png": "[encoded data removed]",
      "text/plain": [
       "<Figure size 360x360 with 1 Axes>"
      ]
     },
     "metadata": {
      "needs_background": "light"
     },
     "output_type": "display_data"
    }
   ],
   "source": [
    "sns.displot(final_df['revenue']) "
   ]
  },
  {
   "cell_type": "markdown",
   "id": "8758a6b6-286e-4790-8fe9-5855e5a2485a",
   "metadata": {},
   "source": [
    "##### Graph 3. Campaigns distribution among observations"
   ]
  },
  {
   "cell_type": "code",
   "execution_count": 86,
   "id": "bfa3e02b-fe19-4870-ab6a-4b59aad3459f",
   "metadata": {},
   "outputs": [
    {
     "data": {
      "text/plain": [
       "<AxesSubplot:xlabel='campaign', ylabel='count'>"
      ]
     },
     "execution_count": 86,
     "metadata": {},
     "output_type": "execute_result"
    },
    {
     "data": {
      "image/png": "[encoded data removed]",
      "text/plain": [
       "<Figure size 432x288 with 1 Axes>"
      ]
     },
     "metadata": {
      "needs_background": "light"
     },
     "output_type": "display_data"
    }
   ],
   "source": [
    "sns.countplot(x='campaign', data=final_df)"
   ]
  },
  {
   "cell_type": "markdown",
   "id": "c1f7355d-8c46-46ca-88a7-2fc48cadab3a",
   "metadata": {},
   "source": [
    "##### Graph 4. Referral distribution among observations"
   ]
  },
  {
   "cell_type": "code",
   "execution_count": 87,
   "id": "bb213b77-8903-4ee2-bdad-6fc79fcad60b",
   "metadata": {},
   "outputs": [
    {
     "data": {
      "text/plain": [
       "<AxesSubplot:xlabel='referral', ylabel='count'>"
      ]
     },
     "execution_count": 87,
     "metadata": {},
     "output_type": "execute_result"
    },
    {
     "data": {
      "image/png": "[encoded data removed]",
      "text/plain": [
       "<Figure size 432x288 with 1 Axes>"
      ]
     },
     "metadata": {
      "needs_background": "light"
     },
     "output_type": "display_data"
    }
   ],
   "source": [
    "sns.countplot(x='referral', data=final_df)"
   ]
  },
  {
   "cell_type": "markdown",
   "id": "3eee0fbd-3d16-4c19-8b74-fe2b1e5a6f54",
   "metadata": {},
   "source": [
    "##### Graph 5. Donation distribution among referrals.The difference between Youtube and Istagram, compared to other referrals, is significant. Difference between Instagram and Youtube do not seem to be significant."
   ]
  },
  {
   "cell_type": "code",
   "execution_count": 88,
   "id": "adf649f4-035b-430a-8959-ba00f1ef5aaf",
   "metadata": {},
   "outputs": [
    {
     "data": {
      "text/plain": [
       "<AxesSubplot:xlabel='referral', ylabel='donation'>"
      ]
     },
     "execution_count": 88,
     "metadata": {},
     "output_type": "execute_result"
    },
    {
     "data": {
      "image/png": "[encoded data removed]",
      "text/plain": [
       "<Figure size 432x288 with 1 Axes>"
      ]
     },
     "metadata": {
      "needs_background": "light"
     },
     "output_type": "display_data"
    }
   ],
   "source": [
    "sns.barplot(x='referral', y='donation', data=final_df)"
   ]
  },
  {
   "cell_type": "markdown",
   "id": "25658129-4e2c-4258-8220-9e79c95b5664",
   "metadata": {},
   "source": [
    "##### Graph 6. Revenue distribution among referrals. The difference between Youtube and Istagram, compared to other referrals, is significant. Difference between Instagram and Youtube do not seem to be significant."
   ]
  },
  {
   "cell_type": "code",
   "execution_count": 89,
   "id": "1a8085e2-c388-41fb-9733-786dd1885609",
   "metadata": {},
   "outputs": [
    {
     "data": {
      "text/plain": [
       "<AxesSubplot:xlabel='referral', ylabel='revenue'>"
      ]
     },
     "execution_count": 89,
     "metadata": {},
     "output_type": "execute_result"
    },
    {
     "data": {
      "image/png": "[encoded data removed]",
      "text/plain": [
       "<Figure size 432x288 with 1 Axes>"
      ]
     },
     "metadata": {
      "needs_background": "light"
     },
     "output_type": "display_data"
    }
   ],
   "source": [
    "sns.barplot(x='referral', y='revenue', data=final_df)"
   ]
  },
  {
   "cell_type": "markdown",
   "id": "9c7e6a65-9ad8-468c-9301-501c251fa9fb",
   "metadata": {},
   "source": [
    "##### Graph 7. Donation distribution among different campaigns. No endorser campaigns seem to be the most porofitable and the difference is significant from the other categories. Celebrity and influencer campaigns are the less profitable and the difference between the two do not seem to be significant"
   ]
  },
  {
   "cell_type": "code",
   "execution_count": 90,
   "id": "d14beb0f-fbdb-49ac-bf84-9b2973c5eb0d",
   "metadata": {},
   "outputs": [
    {
     "data": {
      "text/plain": [
       "<AxesSubplot:xlabel='campaign', ylabel='donation'>"
      ]
     },
     "execution_count": 90,
     "metadata": {},
     "output_type": "execute_result"
    },
    {
     "data": {
      "image/png": "[encoded data removed]",
      "text/plain": [
       "<Figure size 432x288 with 1 Axes>"
      ]
     },
     "metadata": {
      "needs_background": "light"
     },
     "output_type": "display_data"
    }
   ],
   "source": [
    "sns.barplot(x='campaign', y='donation', data=final_df)"
   ]
  },
  {
   "cell_type": "markdown",
   "id": "b6e8228c-e999-4ad4-babd-9ffe9fe42ddd",
   "metadata": {},
   "source": [
    "##### Graph 8. Revenue's distribution among different campaigns. No endorser campaigns seem to be the most porofitable and the difference is significant from the other categories. Celebrity and influencer campaigns are the less profitable and the difference between the two do not seem to be significant"
   ]
  },
  {
   "cell_type": "code",
   "execution_count": 91,
   "id": "8fd09ed3-ce89-481d-a3d4-9d383c58fd4f",
   "metadata": {},
   "outputs": [
    {
     "data": {
      "text/plain": [
       "<AxesSubplot:xlabel='campaign', ylabel='revenue'>"
      ]
     },
     "execution_count": 91,
     "metadata": {},
     "output_type": "execute_result"
    },
    {
     "data": {
      "image/png": "[encoded data removed]",
      "text/plain": [
       "<Figure size 432x288 with 1 Axes>"
      ]
     },
     "metadata": {
      "needs_background": "light"
     },
     "output_type": "display_data"
    }
   ],
   "source": [
    "sns.barplot(x='campaign', y='revenue', data=final_df)"
   ]
  },
  {
   "cell_type": "markdown",
   "id": "26202cf6-226e-42b8-85ff-4a785ed705ab",
   "metadata": {},
   "source": [
    "##### Graph 9. Donation's distribution among different campaigns with or without an Apple device. As expected, the difference between having an Apple device or not do not seem to be significant."
   ]
  },
  {
   "cell_type": "code",
   "execution_count": 92,
   "id": "1f726da9-7b90-4c76-9bb6-584a0759e1a3",
   "metadata": {},
   "outputs": [
    {
     "data": {
      "text/plain": [
       "<AxesSubplot:xlabel='campaign', ylabel='donation'>"
      ]
     },
     "execution_count": 92,
     "metadata": {},
     "output_type": "execute_result"
    },
    {
     "data": {
      "image/png": "[encoded data removed]",
      "text/plain": [
       "<Figure size 432x288 with 1 Axes>"
      ]
     },
     "metadata": {
      "needs_background": "light"
     },
     "output_type": "display_data"
    }
   ],
   "source": [
    "sns.barplot(x='campaign', hue='Apple', y='donation', data=final_df)"
   ]
  },
  {
   "cell_type": "markdown",
   "id": "8d774f40-651b-49cb-b68d-d244e602a827",
   "metadata": {},
   "source": [
    "##### Graph 10. Donation's distribution among different campaigns with or without a Windows device.  As expected, also the difference between having a Windows device or not do not seem to be significant."
   ]
  },
  {
   "cell_type": "code",
   "execution_count": 93,
   "id": "a254e7be-4b76-4d32-b2e5-b4faa9ddf7a4",
   "metadata": {},
   "outputs": [
    {
     "data": {
      "text/plain": [
       "<AxesSubplot:xlabel='campaign', ylabel='revenue'>"
      ]
     },
     "execution_count": 93,
     "metadata": {},
     "output_type": "execute_result"
    },
    {
     "data": {
      "image/png": "[encoded data removed]",
      "text/plain": [
       "<Figure size 432x288 with 1 Axes>"
      ]
     },
     "metadata": {
      "needs_background": "light"
     },
     "output_type": "display_data"
    }
   ],
   "source": [
    "sns.barplot(x='campaign', hue='Windows', y='revenue', data=final_df)"
   ]
  },
  {
   "cell_type": "markdown",
   "id": "1da596fc-3ab8-47dc-87d7-31553b7cb443",
   "metadata": {},
   "source": [
    "##### Graph 11. Donation's distribution among different campaigns with or without an Android device.  As expected, also the difference between having a Windows device or not do not seem to be significant."
   ]
  },
  {
   "cell_type": "code",
   "execution_count": 94,
   "id": "9667cb86-9a60-4f38-a1ab-85745e65a066",
   "metadata": {},
   "outputs": [
    {
     "data": {
      "text/plain": [
       "<AxesSubplot:xlabel='campaign', ylabel='revenue'>"
      ]
     },
     "execution_count": 94,
     "metadata": {},
     "output_type": "execute_result"
    },
    {
     "data": {
      "image/png": "[encoded data removed]",
      "text/plain": [
       "<Figure size 432x288 with 1 Axes>"
      ]
     },
     "metadata": {
      "needs_background": "light"
     },
     "output_type": "display_data"
    }
   ],
   "source": [
    "sns.barplot(x='campaign', hue='Android', y='revenue', data=final_df)"
   ]
  },
  {
   "cell_type": "markdown",
   "id": "07942964-f172-49fe-91d8-a2e70c991c4c",
   "metadata": {},
   "source": [
    "##### Graph 12. Donation's distribution among different campaigns with or without a Linux device.  As expected, also the difference between having a Windows device or not do not seem to be significant."
   ]
  },
  {
   "cell_type": "code",
   "execution_count": 95,
   "id": "ce5b1401-71f0-4e7c-abea-7b72d9698c22",
   "metadata": {},
   "outputs": [
    {
     "data": {
      "text/plain": [
       "<AxesSubplot:xlabel='campaign', ylabel='revenue'>"
      ]
     },
     "execution_count": 95,
     "metadata": {},
     "output_type": "execute_result"
    },
    {
     "data": {
      "image/png": "[encoded data removed]",
      "text/plain": [
       "<Figure size 432x288 with 1 Axes>"
      ]
     },
     "metadata": {
      "needs_background": "light"
     },
     "output_type": "display_data"
    }
   ],
   "source": [
    "sns.barplot(x='campaign', hue='Linux', y='revenue', data=final_df)"
   ]
  },
  {
   "cell_type": "markdown",
   "id": "a35be0c6-dc82-4bb0-8c0d-d153d118531b",
   "metadata": {},
   "source": [
    "##### Creating my model, a first model will be created with no control variables and a second one with: the two models will be then compared"
   ]
  },
  {
   "cell_type": "code",
   "execution_count": 96,
   "id": "5db224de-7c1d-48a2-a227-a6ebe025d8d1",
   "metadata": {},
   "outputs": [],
   "source": [
    "from sklearn.model_selection import train_test_split"
   ]
  },
  {
   "cell_type": "markdown",
   "id": "11ce1f77-d889-453c-9306-36a8a064f7d7",
   "metadata": {},
   "source": [
    "##### No Overfitting 1. Splitting my data in 2 to train my model and avoiding cases of overfitting. Since we will make predictions on single dataset's users it is important that the model do not memorise the dataset results! If the model learn the results, and then we ask for predictions, it may remember the dataset and make very accurate predictions. Nevertheless, predictions will be accurate only for this specific dataset and thus results will not be able to be generalised. This is why a training dataset is being provided to the algorithm as an input to let it learn the influence of the IVs (features) on the DV (target). Instead, the test dataset will be not provided to the algorithim and will be used only to test the model (compare it with the results made from the training dataset) after it will be trained. The test df size will be 20% of my observations and consequently the training df will be 80%"
   ]
  },
  {
   "cell_type": "code",
   "execution_count": 97,
   "id": "55305822-8d7f-4948-8adf-c4193fbfb4e5",
   "metadata": {},
   "outputs": [],
   "source": [
    "train, test = train_test_split(final_df, test_size=0.2, random_state=42)"
   ]
  },
  {
   "cell_type": "code",
   "execution_count": 98,
   "id": "6bea10f7-0e20-4651-ab82-6308cd862271",
   "metadata": {},
   "outputs": [
    {
     "data": {
      "text/plain": [
       "44000"
      ]
     },
     "execution_count": 98,
     "metadata": {},
     "output_type": "execute_result"
    }
   ],
   "source": [
    "len(train)"
   ]
  },
  {
   "cell_type": "code",
   "execution_count": 99,
   "id": "76d52611-6a3e-4576-81a2-df76125ce4fa",
   "metadata": {},
   "outputs": [
    {
     "data": {
      "text/plain": [
       "11000"
      ]
     },
     "execution_count": 99,
     "metadata": {},
     "output_type": "execute_result"
    }
   ],
   "source": [
    "len(test)"
   ]
  },
  {
   "cell_type": "markdown",
   "id": "49d7df48-b52c-4400-a8d6-4022ec747ba9",
   "metadata": {},
   "source": [
    "##### Defyining the Dv (target) and the IVs (features) of my model A in which I am not goign to include my control variables"
   ]
  },
  {
   "cell_type": "code",
   "execution_count": 100,
   "id": "5b031a70-1957-43a4-a18a-cef62aad874a",
   "metadata": {},
   "outputs": [],
   "source": [
    "target = \"donation\"\n",
    "features = ['celebrity']"
   ]
  },
  {
   "cell_type": "code",
   "execution_count": 101,
   "id": "c1d1a653-9c09-467a-ab3c-ef218eccd427",
   "metadata": {},
   "outputs": [],
   "source": [
    "logit_stats = sm.Logit(train[target], sm.add_constant(train[features]))"
   ]
  },
  {
   "cell_type": "code",
   "execution_count": 102,
   "id": "e18826e4-529e-4770-b6b6-9c506479cc25",
   "metadata": {},
   "outputs": [
    {
     "name": "stdout",
     "output_type": "stream",
     "text": [
      "Optimization terminated successfully.\n",
      "         Current function value: 0.646100\n",
      "         Iterations 5\n"
     ]
    }
   ],
   "source": [
    "result_logit = logit_stats.fit()"
   ]
  },
  {
   "cell_type": "markdown",
   "id": "d4464c29-8a5d-45dc-bb4d-d7c0f277eddb",
   "metadata": {},
   "source": [
    "##### Model A. The result coefficients show that, compared to the the campaign with no endrser or influencer, a campaign with a celebrity (-0.98) negatively and significantly influence donation. Thus the model indicate the H1 has not been supported: a campaign with influencer is not better then a campaign with a celebrity or no endorser in order to stimulate donations. The pseudo R2 is very low (0.02) so the model do not seem to fit well. Nevertheless, this model will not be chosen"
   ]
  },
  {
   "cell_type": "code",
   "execution_count": 103,
   "id": "9e6d32f3-9ff3-4bc1-89b1-21badc8d2f28",
   "metadata": {},
   "outputs": [
    {
     "name": "stdout",
     "output_type": "stream",
     "text": [
      "                           Logit Regression Results                           \n",
      "==============================================================================\n",
      "Dep. Variable:               donation   No. Observations:                44000\n",
      "Model:                          Logit   Df Residuals:                    43998\n",
      "Method:                           MLE   Df Model:                            1\n",
      "Date:                Mon, 18 Sep 2023   Pseudo R-squ.:                 0.02854\n",
      "Time:                        22:48:43   Log-Likelihood:                -28428.\n",
      "converged:                       True   LL-Null:                       -29263.\n",
      "Covariance Type:            nonrobust   LLR p-value:                     0.000\n",
      "==============================================================================\n",
      "                 coef    std err          z      P>|z|      [0.025      0.975]\n",
      "------------------------------------------------------------------------------\n",
      "const         -0.2587      0.011    -23.255      0.000      -0.280      -0.237\n",
      "celebrity     -0.9852      0.025    -38.910      0.000      -1.035      -0.936\n",
      "==============================================================================\n"
     ]
    }
   ],
   "source": [
    "print(result_logit.summary())"
   ]
  },
  {
   "cell_type": "code",
   "execution_count": 104,
   "id": "d70ec575-a4f1-460a-b73a-04356b562f46",
   "metadata": {},
   "outputs": [],
   "source": [
    "features_controls = ['celebrity','age','Google','Apple']"
   ]
  },
  {
   "cell_type": "code",
   "execution_count": 105,
   "id": "ded18bbb-3ccc-476f-8ec6-c63c5701612e",
   "metadata": {},
   "outputs": [],
   "source": [
    "logit_stats_user = sm.Logit(train[target], sm.add_constant(train[features_controls]))"
   ]
  },
  {
   "cell_type": "code",
   "execution_count": 106,
   "id": "76c9b5b6-9330-4106-b54b-30da26b70ecc",
   "metadata": {},
   "outputs": [
    {
     "name": "stdout",
     "output_type": "stream",
     "text": [
      "Optimization terminated successfully.\n",
      "         Current function value: 0.641760\n",
      "         Iterations 5\n"
     ]
    }
   ],
   "source": [
    "result_logit_user = logit_stats_user.fit()"
   ]
  },
  {
   "cell_type": "code",
   "execution_count": 107,
   "id": "28064b17-1ff0-472b-a5f2-3a97ba703755",
   "metadata": {},
   "outputs": [
    {
     "name": "stdout",
     "output_type": "stream",
     "text": [
      "                           Logit Regression Results                           \n",
      "==============================================================================\n",
      "Dep. Variable:               donation   No. Observations:                44000\n",
      "Model:                          Logit   Df Residuals:                    43995\n",
      "Method:                           MLE   Df Model:                            4\n",
      "Date:                Mon, 18 Sep 2023   Pseudo R-squ.:                 0.03506\n",
      "Time:                        22:48:43   Log-Likelihood:                -28237.\n",
      "converged:                       True   LL-Null:                       -29263.\n",
      "Covariance Type:            nonrobust   LLR p-value:                     0.000\n",
      "==============================================================================\n",
      "                 coef    std err          z      P>|z|      [0.025      0.975]\n",
      "------------------------------------------------------------------------------\n",
      "const         -0.3597      0.031    -11.562      0.000      -0.421      -0.299\n",
      "celebrity     -0.9916      0.025    -38.990      0.000      -1.041      -0.942\n",
      "age            0.0003      0.001      0.557      0.578      -0.001       0.002\n",
      "Google         0.5128      0.026     19.578      0.000       0.461       0.564\n",
      "Apple         -0.0104      0.022     -0.470      0.638      -0.054       0.033\n",
      "==============================================================================\n"
     ]
    }
   ],
   "source": [
    "print(result_logit_user.summary())"
   ]
  },
  {
   "cell_type": "code",
   "execution_count": 108,
   "id": "a610f5ed-9f3c-46b2-99ad-03cc78b18770",
   "metadata": {},
   "outputs": [],
   "source": [
    "target = \"donation\"\n",
    "features = ['influencer']"
   ]
  },
  {
   "cell_type": "code",
   "execution_count": 109,
   "id": "b98c0800-5201-4667-9cdb-6a4706f1f5ac",
   "metadata": {},
   "outputs": [],
   "source": [
    "logit_stats = sm.Logit(train[target], sm.add_constant(train[features]))"
   ]
  },
  {
   "cell_type": "code",
   "execution_count": 110,
   "id": "2a90832d-56ee-4b87-93d2-8708064882d1",
   "metadata": {},
   "outputs": [
    {
     "name": "stdout",
     "output_type": "stream",
     "text": [
      "Optimization terminated successfully.\n",
      "         Current function value: 0.646042\n",
      "         Iterations 5\n"
     ]
    }
   ],
   "source": [
    "result_logit = logit_stats.fit()"
   ]
  },
  {
   "cell_type": "code",
   "execution_count": 111,
   "id": "088cd97f-6359-44df-992d-6189e01791ba",
   "metadata": {},
   "outputs": [
    {
     "name": "stdout",
     "output_type": "stream",
     "text": [
      "                           Logit Regression Results                           \n",
      "==============================================================================\n",
      "Dep. Variable:               donation   No. Observations:                44000\n",
      "Model:                          Logit   Df Residuals:                    43998\n",
      "Method:                           MLE   Df Model:                            1\n",
      "Date:                Mon, 18 Sep 2023   Pseudo R-squ.:                 0.02862\n",
      "Time:                        22:48:43   Log-Likelihood:                -28426.\n",
      "converged:                       True   LL-Null:                       -29263.\n",
      "Covariance Type:            nonrobust   LLR p-value:                     0.000\n",
      "==============================================================================\n",
      "                 coef    std err          z      P>|z|      [0.025      0.975]\n",
      "------------------------------------------------------------------------------\n",
      "const         -0.2609      0.011    -23.522      0.000      -0.283      -0.239\n",
      "influencer    -0.9941      0.026    -38.916      0.000      -1.044      -0.944\n",
      "==============================================================================\n"
     ]
    }
   ],
   "source": [
    "print(result_logit.summary())"
   ]
  },
  {
   "cell_type": "code",
   "execution_count": 112,
   "id": "3e7f8804-98b4-45e6-9305-3e304a0bad3d",
   "metadata": {},
   "outputs": [],
   "source": [
    "features_controls = ['influencer','age','Google','Apple']"
   ]
  },
  {
   "cell_type": "code",
   "execution_count": 113,
   "id": "d1cf8dfc-46bb-490a-a3f6-0667d992b3ae",
   "metadata": {},
   "outputs": [],
   "source": [
    "logit_stats_user = sm.Logit(train[target], sm.add_constant(train[features_controls]))"
   ]
  },
  {
   "cell_type": "code",
   "execution_count": 114,
   "id": "5b6b2b68-1992-4205-99d1-8951e36492eb",
   "metadata": {},
   "outputs": [
    {
     "name": "stdout",
     "output_type": "stream",
     "text": [
      "Optimization terminated successfully.\n",
      "         Current function value: 0.641641\n",
      "         Iterations 5\n"
     ]
    }
   ],
   "source": [
    "result_logit_user = logit_stats_user.fit()"
   ]
  },
  {
   "cell_type": "code",
   "execution_count": 115,
   "id": "294d64c3-90f6-494b-95f7-9c2faa9bbfe6",
   "metadata": {},
   "outputs": [
    {
     "name": "stdout",
     "output_type": "stream",
     "text": [
      "                           Logit Regression Results                           \n",
      "==============================================================================\n",
      "Dep. Variable:               donation   No. Observations:                44000\n",
      "Model:                          Logit   Df Residuals:                    43995\n",
      "Method:                           MLE   Df Model:                            4\n",
      "Date:                Mon, 18 Sep 2023   Pseudo R-squ.:                 0.03524\n",
      "Time:                        22:48:43   Log-Likelihood:                -28232.\n",
      "converged:                       True   LL-Null:                       -29263.\n",
      "Covariance Type:            nonrobust   LLR p-value:                     0.000\n",
      "==============================================================================\n",
      "                 coef    std err          z      P>|z|      [0.025      0.975]\n",
      "------------------------------------------------------------------------------\n",
      "const         -0.3453      0.031    -11.079      0.000      -0.406      -0.284\n",
      "influencer    -1.0022      0.026    -39.052      0.000      -1.053      -0.952\n",
      "age        -9.376e-06      0.001     -0.015      0.988      -0.001       0.001\n",
      "Google         0.5166      0.026     19.717      0.000       0.465       0.568\n",
      "Apple         -0.0138      0.022     -0.626      0.532      -0.057       0.030\n",
      "==============================================================================\n"
     ]
    }
   ],
   "source": [
    "print(result_logit_user.summary())"
   ]
  },
  {
   "cell_type": "code",
   "execution_count": 116,
   "id": "e6601e0e-1e86-4eec-b605-16fa3499499e",
   "metadata": {},
   "outputs": [],
   "source": [
    "target = \"donation\"\n",
    "features = ['no endorser']"
   ]
  },
  {
   "cell_type": "code",
   "execution_count": 117,
   "id": "8c319eab-d796-495e-8e4e-c5e85cbb730b",
   "metadata": {},
   "outputs": [],
   "source": [
    "logit_stats = sm.Logit(train[target], sm.add_constant(train[features]))"
   ]
  },
  {
   "cell_type": "code",
   "execution_count": 118,
   "id": "1b4a027e-2042-44bc-85e3-46dcef40a72f",
   "metadata": {},
   "outputs": [
    {
     "name": "stdout",
     "output_type": "stream",
     "text": [
      "Optimization terminated successfully.\n",
      "         Current function value: 0.560678\n",
      "         Iterations 5\n"
     ]
    }
   ],
   "source": [
    "result_logit = logit_stats.fit()"
   ]
  },
  {
   "cell_type": "code",
   "execution_count": 119,
   "id": "42ba3ab3-30a2-41d7-b8b6-7a5c661ba59d",
   "metadata": {},
   "outputs": [
    {
     "name": "stdout",
     "output_type": "stream",
     "text": [
      "                           Logit Regression Results                           \n",
      "==============================================================================\n",
      "Dep. Variable:               donation   No. Observations:                44000\n",
      "Model:                          Logit   Df Residuals:                    43998\n",
      "Method:                           MLE   Df Model:                            1\n",
      "Date:                Mon, 18 Sep 2023   Pseudo R-squ.:                  0.1570\n",
      "Time:                        22:48:43   Log-Likelihood:                -24670.\n",
      "converged:                       True   LL-Null:                       -29263.\n",
      "Covariance Type:            nonrobust   LLR p-value:                     0.000\n",
      "===============================================================================\n",
      "                  coef    std err          z      P>|z|      [0.025      0.975]\n",
      "-------------------------------------------------------------------------------\n",
      "const          -1.0758      0.013    -85.175      0.000      -1.101      -1.051\n",
      "no endorser     2.2736      0.026     87.663      0.000       2.223       2.324\n",
      "===============================================================================\n"
     ]
    }
   ],
   "source": [
    "print(result_logit.summary())"
   ]
  },
  {
   "cell_type": "code",
   "execution_count": 120,
   "id": "ead3a8c7-2189-49b2-83d6-39b0738fcbfe",
   "metadata": {},
   "outputs": [],
   "source": [
    "features_controls = ['no endorser','age','Google','Apple']"
   ]
  },
  {
   "cell_type": "code",
   "execution_count": 121,
   "id": "a5025ef4-4ae9-4d15-8c49-a2961deb39b3",
   "metadata": {},
   "outputs": [],
   "source": [
    "logit_stats_user = sm.Logit(train[target], sm.add_constant(train[features_controls]))"
   ]
  },
  {
   "cell_type": "code",
   "execution_count": 122,
   "id": "112c27b7-398f-474e-bb9d-fb110022ee0f",
   "metadata": {},
   "outputs": [
    {
     "name": "stdout",
     "output_type": "stream",
     "text": [
      "Optimization terminated successfully.\n",
      "         Current function value: 0.555697\n",
      "         Iterations 5\n"
     ]
    }
   ],
   "source": [
    "result_logit_user = logit_stats_user.fit()"
   ]
  },
  {
   "cell_type": "code",
   "execution_count": 123,
   "id": "a8d5e20e-3563-46b8-8d36-57e8eca27250",
   "metadata": {},
   "outputs": [
    {
     "name": "stdout",
     "output_type": "stream",
     "text": [
      "                           Logit Regression Results                           \n",
      "==============================================================================\n",
      "Dep. Variable:               donation   No. Observations:                44000\n",
      "Model:                          Logit   Df Residuals:                    43995\n",
      "Method:                           MLE   Df Model:                            4\n",
      "Date:                Mon, 18 Sep 2023   Pseudo R-squ.:                  0.1645\n",
      "Time:                        22:48:43   Log-Likelihood:                -24451.\n",
      "converged:                       True   LL-Null:                       -29263.\n",
      "Covariance Type:            nonrobust   LLR p-value:                     0.000\n",
      "===============================================================================\n",
      "                  coef    std err          z      P>|z|      [0.025      0.975]\n",
      "-------------------------------------------------------------------------------\n",
      "const          -1.1882      0.035    -34.300      0.000      -1.256      -1.120\n",
      "no endorser     2.2956      0.026     87.826      0.000       2.244       2.347\n",
      "age             0.0001      0.001      0.184      0.854      -0.001       0.001\n",
      "Google          0.6017      0.029     21.060      0.000       0.546       0.658\n",
      "Apple          -0.0196      0.024     -0.802      0.423      -0.068       0.028\n",
      "===============================================================================\n"
     ]
    }
   ],
   "source": [
    "print(result_logit_user.summary())"
   ]
  },
  {
   "cell_type": "code",
   "execution_count": 124,
   "id": "6f077cbb-866d-41c4-aef5-d92e7153be79",
   "metadata": {},
   "outputs": [],
   "source": [
    "logit_clf = LogisticRegression(max_iter=1000, fit_intercept = True)"
   ]
  },
  {
   "cell_type": "code",
   "execution_count": 125,
   "id": "0eae3c57-3303-45c9-af3b-adb8c2054963",
   "metadata": {},
   "outputs": [
    {
     "data": {
      "text/plain": [
       "LogisticRegression(max_iter=1000)"
      ]
     },
     "execution_count": 125,
     "metadata": {},
     "output_type": "execute_result"
    }
   ],
   "source": [
    "logit_clf.fit(train[features], train[target])"
   ]
  },
  {
   "cell_type": "markdown",
   "id": "41a7c141-e2f2-4e7c-83e3-2dc6560e2ae6",
   "metadata": {},
   "source": [
    "##### Asking the model to make predictions on total number of users based on the features to further compare it with the model B"
   ]
  },
  {
   "cell_type": "code",
   "execution_count": 126,
   "id": "322e5830-6b3c-4562-81b1-c870c1384308",
   "metadata": {},
   "outputs": [
    {
     "name": "stderr",
     "output_type": "stream",
     "text": [
      "<ipython-input-126-36fad9257bfa>:1: SettingWithCopyWarning: \n",
      "A value is trying to be set on a copy of a slice from a DataFrame.\n",
      "Try using .loc[row_indexer,col_indexer] = value instead\n",
      "\n",
      "See the caveats in the documentation: https://pandas.pydata.org/pandas-docs/stable/user_guide/indexing.html#returning-a-view-versus-a-copy\n",
      "  test['predicted_donation_logit'] = logit_clf.predict(test[features])\n"
     ]
    }
   ],
   "source": [
    "test['predicted_donation_logit'] = logit_clf.predict(test[features])"
   ]
  },
  {
   "cell_type": "markdown",
   "id": "db4f1cf2-eaba-48a6-8656-d5021a79e53c",
   "metadata": {},
   "source": [
    "##### 2.768 donors predicted among our test dataset. Consequent 8.232 non donors (among 11.000 observations)"
   ]
  },
  {
   "cell_type": "code",
   "execution_count": 127,
   "id": "211b4c69-1e15-4385-adb2-b3d4d83290d1",
   "metadata": {},
   "outputs": [
    {
     "data": {
      "text/plain": [
       "0.000    8232\n",
       "1.000    2768\n",
       "Name: predicted_donation_logit, dtype: int64"
      ]
     },
     "execution_count": 127,
     "metadata": {},
     "output_type": "execute_result"
    }
   ],
   "source": [
    "test['predicted_donation_logit'].value_counts()"
   ]
  },
  {
   "cell_type": "markdown",
   "id": "399341dd-7e94-463e-a630-f8342aa9f07d",
   "metadata": {},
   "source": [
    "##### Comparing real donors and non donors (lesft column) to the prediction made by the model (right column)"
   ]
  },
  {
   "cell_type": "code",
   "execution_count": 128,
   "id": "9e0a2ea4-264f-4595-b277-31da0ed7b95f",
   "metadata": {},
   "outputs": [
    {
     "data": {
      "text/html": [
       "<div>\n",
       "<style scoped>\n",
       "    .dataframe tbody tr th:only-of-type {\n",
       "        vertical-align: middle;\n",
       "    }\n",
       "\n",
       "    .dataframe tbody tr th {\n",
       "        vertical-align: top;\n",
       "    }\n",
       "\n",
       "    .dataframe thead th {\n",
       "        text-align: right;\n",
       "    }\n",
       "</style>\n",
       "<table border=\"1\" class=\"dataframe\">\n",
       "  <thead>\n",
       "    <tr style=\"text-align: right;\">\n",
       "      <th></th>\n",
       "      <th>donation</th>\n",
       "      <th>predicted_donation_logit</th>\n",
       "    </tr>\n",
       "  </thead>\n",
       "  <tbody>\n",
       "    <tr>\n",
       "      <th>34191</th>\n",
       "      <td>0.000</td>\n",
       "      <td>1.000</td>\n",
       "    </tr>\n",
       "    <tr>\n",
       "      <th>23679</th>\n",
       "      <td>0.000</td>\n",
       "      <td>0.000</td>\n",
       "    </tr>\n",
       "    <tr>\n",
       "      <th>44684</th>\n",
       "      <td>1.000</td>\n",
       "      <td>0.000</td>\n",
       "    </tr>\n",
       "    <tr>\n",
       "      <th>11335</th>\n",
       "      <td>1.000</td>\n",
       "      <td>0.000</td>\n",
       "    </tr>\n",
       "    <tr>\n",
       "      <th>22691</th>\n",
       "      <td>0.000</td>\n",
       "      <td>0.000</td>\n",
       "    </tr>\n",
       "  </tbody>\n",
       "</table>\n",
       "</div>"
      ],
      "text/plain": [
       "       donation  predicted_donation_logit\n",
       "34191     0.000                     1.000\n",
       "23679     0.000                     0.000\n",
       "44684     1.000                     0.000\n",
       "11335     1.000                     0.000\n",
       "22691     0.000                     0.000"
      ]
     },
     "execution_count": 128,
     "metadata": {},
     "output_type": "execute_result"
    }
   ],
   "source": [
    "test[['donation', 'predicted_donation_logit']].head()"
   ]
  },
  {
   "cell_type": "markdown",
   "id": "e39317e9-4364-4d33-a06e-a35269cb4f19",
   "metadata": {},
   "source": [
    "##### Adding now the control variables to the DV and IVs (feature controls) to create the second model, model B"
   ]
  },
  {
   "cell_type": "code",
   "execution_count": 129,
   "id": "b94c406b-61ea-49fb-ac23-7fcdc8158b8d",
   "metadata": {},
   "outputs": [],
   "source": [
    "features_controls = ['no endorser','age','Google','Apple']"
   ]
  },
  {
   "cell_type": "code",
   "execution_count": 130,
   "id": "e1c431e0-7963-4399-80a8-a31699973448",
   "metadata": {},
   "outputs": [],
   "source": [
    "logit_stats_user = sm.Logit(train[target], sm.add_constant(train[features_controls]))"
   ]
  },
  {
   "cell_type": "code",
   "execution_count": 131,
   "id": "e60f2ff9-91b9-462f-906f-6e7c9b235b9a",
   "metadata": {},
   "outputs": [
    {
     "name": "stdout",
     "output_type": "stream",
     "text": [
      "Optimization terminated successfully.\n",
      "         Current function value: 0.555697\n",
      "         Iterations 5\n"
     ]
    }
   ],
   "source": [
    "result_logit_user = logit_stats_user.fit()"
   ]
  },
  {
   "cell_type": "markdown",
   "id": "ac9c5313-2196-477a-a802-346d6ec9e257",
   "metadata": {},
   "source": [
    "##### Fit of the model imporved! This is the model which will be chosen to test H1. Neverteless the pseudo R2 is still quite low (0.16) and thus not considered a good model (from 0.8). However, compared to other campaigns, the coefficient results shows that celebrities  and influencers campaigns significantly and negatively influence donations and do not differ from each other (actually a campaign with celebrities seem to be slightly better but the difference is not significant as seen in Graph 7). Instead, a campaign with no endorsers shows that, compared to other campaigns, it signifiantly and positively influence donations. The models results proved that H1 is not being supported since influencer's campaign did not result better than celebrity or no endorser campaigns. Instead, a campaign with no endorsers resulted to be the most  successful."
   ]
  },
  {
   "cell_type": "code",
   "execution_count": 132,
   "id": "e14ba9f8-f392-4e7d-bd10-0c7ff25da788",
   "metadata": {},
   "outputs": [
    {
     "name": "stdout",
     "output_type": "stream",
     "text": [
      "                           Logit Regression Results                           \n",
      "==============================================================================\n",
      "Dep. Variable:               donation   No. Observations:                44000\n",
      "Model:                          Logit   Df Residuals:                    43995\n",
      "Method:                           MLE   Df Model:                            4\n",
      "Date:                Mon, 18 Sep 2023   Pseudo R-squ.:                  0.1645\n",
      "Time:                        22:48:44   Log-Likelihood:                -24451.\n",
      "converged:                       True   LL-Null:                       -29263.\n",
      "Covariance Type:            nonrobust   LLR p-value:                     0.000\n",
      "===============================================================================\n",
      "                  coef    std err          z      P>|z|      [0.025      0.975]\n",
      "-------------------------------------------------------------------------------\n",
      "const          -1.1882      0.035    -34.300      0.000      -1.256      -1.120\n",
      "no endorser     2.2956      0.026     87.826      0.000       2.244       2.347\n",
      "age             0.0001      0.001      0.184      0.854      -0.001       0.001\n",
      "Google          0.6017      0.029     21.060      0.000       0.546       0.658\n",
      "Apple          -0.0196      0.024     -0.802      0.423      -0.068       0.028\n",
      "===============================================================================\n"
     ]
    }
   ],
   "source": [
    "print(result_logit_user.summary())"
   ]
  },
  {
   "cell_type": "markdown",
   "id": "53bbca30-fc00-4bef-b2f3-94a46e37c90f",
   "metadata": {},
   "source": [
    "##### Making predictions"
   ]
  },
  {
   "cell_type": "code",
   "execution_count": 133,
   "id": "e5eb6fad-c6e8-410a-96ee-351c6c20f211",
   "metadata": {},
   "outputs": [],
   "source": [
    "logit_clf_user = LogisticRegression(max_iter=1000, fit_intercept = True)"
   ]
  },
  {
   "cell_type": "code",
   "execution_count": 134,
   "id": "44dc51c5-af35-4357-8f14-c0ec32c4a6ba",
   "metadata": {},
   "outputs": [
    {
     "data": {
      "text/plain": [
       "['no endorser', 'age', 'Google', 'Apple']"
      ]
     },
     "execution_count": 134,
     "metadata": {},
     "output_type": "execute_result"
    }
   ],
   "source": [
    "features_controls"
   ]
  },
  {
   "cell_type": "code",
   "execution_count": 135,
   "id": "7c691072-10b2-4b33-ad4a-1f7bf0e55ac1",
   "metadata": {},
   "outputs": [
    {
     "data": {
      "text/plain": [
       "LogisticRegression(max_iter=1000)"
      ]
     },
     "execution_count": 135,
     "metadata": {},
     "output_type": "execute_result"
    }
   ],
   "source": [
    "logit_clf_user.fit(train[features_controls], train[target])"
   ]
  },
  {
   "cell_type": "markdown",
   "id": "f307c25a-beb7-49b3-a038-f5f2bce510a5",
   "metadata": {},
   "source": [
    "##### Prediction A: with all the other variables kept constant, a campaign with no endorsers  has a 75% chance on being succesfull on stimulating a user's donation"
   ]
  },
  {
   "cell_type": "code",
   "execution_count": 136,
   "id": "32198b69-eb33-4751-93b5-c19ab57aeaff",
   "metadata": {},
   "outputs": [
    {
     "data": {
      "text/plain": [
       "array([[0.24856059, 0.75143941]])"
      ]
     },
     "execution_count": 136,
     "metadata": {},
     "output_type": "execute_result"
    }
   ],
   "source": [
    "logit_clf_user.predict_proba([[1,0,0,0]])"
   ]
  },
  {
   "cell_type": "code",
   "execution_count": 137,
   "id": "37c6246f-6865-4274-baf8-33ce7c94142e",
   "metadata": {},
   "outputs": [
    {
     "data": {
      "text/plain": [
       "array([[0.24853752, 0.75146248]])"
      ]
     },
     "execution_count": 137,
     "metadata": {},
     "output_type": "execute_result"
    }
   ],
   "source": [
    "logit_clf_user.predict_proba([[1,1,0,0]])"
   ]
  },
  {
   "cell_type": "code",
   "execution_count": 138,
   "id": "10e14cf2-18da-4f11-877c-c34d97d51972",
   "metadata": {},
   "outputs": [
    {
     "data": {
      "text/plain": [
       "array([[0.15348197, 0.84651803]])"
      ]
     },
     "execution_count": 138,
     "metadata": {},
     "output_type": "execute_result"
    }
   ],
   "source": [
    "logit_clf_user.predict_proba([[1,1,1,0]])"
   ]
  },
  {
   "cell_type": "code",
   "execution_count": 139,
   "id": "3bd18858-fe13-45d4-b1b9-b4247db240b5",
   "metadata": {},
   "outputs": [
    {
     "data": {
      "text/plain": [
       "array([[0.15604661, 0.84395339]])"
      ]
     },
     "execution_count": 139,
     "metadata": {},
     "output_type": "execute_result"
    }
   ],
   "source": [
    "logit_clf_user.predict_proba([[1,1,1,1]])"
   ]
  },
  {
   "cell_type": "markdown",
   "id": "0f8eba66-4d5a-4b3d-a37d-6d5547822b2d",
   "metadata": {},
   "source": [
    "##### Asking the model to make predictions on total number of users based on features control"
   ]
  },
  {
   "cell_type": "code",
   "execution_count": 140,
   "id": "58d08383-62c4-4e5e-bf38-4c08f9d5b096",
   "metadata": {},
   "outputs": [
    {
     "name": "stderr",
     "output_type": "stream",
     "text": [
      "<ipython-input-140-fda27459bdf3>:1: SettingWithCopyWarning: \n",
      "A value is trying to be set on a copy of a slice from a DataFrame.\n",
      "Try using .loc[row_indexer,col_indexer] = value instead\n",
      "\n",
      "See the caveats in the documentation: https://pandas.pydata.org/pandas-docs/stable/user_guide/indexing.html#returning-a-view-versus-a-copy\n",
      "  test['predicted_donation_logit_user'] = logit_clf_user.predict(test[features_controls])\n"
     ]
    }
   ],
   "source": [
    "test['predicted_donation_logit_user'] = logit_clf_user.predict(test[features_controls])"
   ]
  },
  {
   "cell_type": "markdown",
   "id": "cab79809-d378-4b77-810c-2fc693c15ee5",
   "metadata": {},
   "source": [
    "##### 2.768 donors predicted among our test dataset vst 8.232 non donors (11.000 observations). Quite different from the predictions made by the previous model"
   ]
  },
  {
   "cell_type": "code",
   "execution_count": 141,
   "id": "36f463a8-9428-4de6-8c40-3818b45a1d95",
   "metadata": {},
   "outputs": [
    {
     "data": {
      "text/plain": [
       "0.000    8232\n",
       "1.000    2768\n",
       "Name: predicted_donation_logit_user, dtype: int64"
      ]
     },
     "execution_count": 141,
     "metadata": {},
     "output_type": "execute_result"
    }
   ],
   "source": [
    "test['predicted_donation_logit_user'].value_counts()"
   ]
  },
  {
   "cell_type": "markdown",
   "id": "0135492c-15f7-43d1-9055-13077832e0ed",
   "metadata": {},
   "source": [
    "##### Let's have a look at the difference: the fourth row's predictions has changed and while for model A was predicted as a non donors (was instead a donor), model B predicted differently and corrected the mistake!"
   ]
  },
  {
   "cell_type": "code",
   "execution_count": 142,
   "id": "5d8c9d7a-b4e4-4bce-acb3-9aef20a80514",
   "metadata": {},
   "outputs": [
    {
     "data": {
      "text/html": [
       "<div>\n",
       "<style scoped>\n",
       "    .dataframe tbody tr th:only-of-type {\n",
       "        vertical-align: middle;\n",
       "    }\n",
       "\n",
       "    .dataframe tbody tr th {\n",
       "        vertical-align: top;\n",
       "    }\n",
       "\n",
       "    .dataframe thead th {\n",
       "        text-align: right;\n",
       "    }\n",
       "</style>\n",
       "<table border=\"1\" class=\"dataframe\">\n",
       "  <thead>\n",
       "    <tr style=\"text-align: right;\">\n",
       "      <th></th>\n",
       "      <th>donation</th>\n",
       "      <th>predicted_donation_logit</th>\n",
       "      <th>predicted_donation_logit_user</th>\n",
       "    </tr>\n",
       "  </thead>\n",
       "  <tbody>\n",
       "    <tr>\n",
       "      <th>34191</th>\n",
       "      <td>0.000</td>\n",
       "      <td>1.000</td>\n",
       "      <td>1.000</td>\n",
       "    </tr>\n",
       "    <tr>\n",
       "      <th>23679</th>\n",
       "      <td>0.000</td>\n",
       "      <td>0.000</td>\n",
       "      <td>0.000</td>\n",
       "    </tr>\n",
       "    <tr>\n",
       "      <th>44684</th>\n",
       "      <td>1.000</td>\n",
       "      <td>0.000</td>\n",
       "      <td>0.000</td>\n",
       "    </tr>\n",
       "    <tr>\n",
       "      <th>11335</th>\n",
       "      <td>1.000</td>\n",
       "      <td>0.000</td>\n",
       "      <td>0.000</td>\n",
       "    </tr>\n",
       "    <tr>\n",
       "      <th>22691</th>\n",
       "      <td>0.000</td>\n",
       "      <td>0.000</td>\n",
       "      <td>0.000</td>\n",
       "    </tr>\n",
       "  </tbody>\n",
       "</table>\n",
       "</div>"
      ],
      "text/plain": [
       "       donation  predicted_donation_logit  predicted_donation_logit_user\n",
       "34191     0.000                     1.000                          1.000\n",
       "23679     0.000                     0.000                          0.000\n",
       "44684     1.000                     0.000                          0.000\n",
       "11335     1.000                     0.000                          0.000\n",
       "22691     0.000                     0.000                          0.000"
      ]
     },
     "execution_count": 142,
     "metadata": {},
     "output_type": "execute_result"
    }
   ],
   "source": [
    "test[['donation', 'predicted_donation_logit', 'predicted_donation_logit_user']].head()"
   ]
  },
  {
   "cell_type": "code",
   "execution_count": 143,
   "id": "fa2638c8-3a6c-4323-95f6-33ae9b344310",
   "metadata": {},
   "outputs": [],
   "source": [
    "from sklearn.metrics import confusion_matrix"
   ]
  },
  {
   "cell_type": "markdown",
   "id": "5f2470ce-eb54-4ea2-996e-1dcbb239a2c2",
   "metadata": {},
   "source": [
    "##### Confusion matrix 1 (model A). Predictions on non donors seems quite accurate but predictions on donors are very inaccurate. 665 users were tagged as false positive and 2070 as false negative. 6162 users were indeed non donors and the model predictit them as such and 2103 were indeed donors and the model predicted them as such."
   ]
  },
  {
   "cell_type": "code",
   "execution_count": 144,
   "id": "43506efc-a5f0-4333-9cee-889d6a23fa79",
   "metadata": {},
   "outputs": [
    {
     "name": "stdout",
     "output_type": "stream",
     "text": [
      "[[6162  665]\n",
      " [2070 2103]]\n"
     ]
    }
   ],
   "source": [
    "print(confusion_matrix(test['donation'], test['predicted_donation_logit']))"
   ]
  },
  {
   "cell_type": "markdown",
   "id": "33be8c88-e816-4a77-84b7-2e79ca0d480e",
   "metadata": {},
   "source": [
    "##### Confusion matrix 2 (model B). Predictions on non donors seems less accurate than model A but still acceptable. Instead, predictions on donors are a little more accurate than model A but still quite imprecise. 665 users were tagged as false positives and 2070 as false negatives. 6162 users were indeed non donors and the model predictit them as such and 2103 were indeed donors and the model predicted them as such. Since we are mainly interested in finding donors, the confusion matrix comparison shows that model B performs better for the task"
   ]
  },
  {
   "cell_type": "code",
   "execution_count": 145,
   "id": "0bdb0683-9952-4c0a-9470-4c532182dd95",
   "metadata": {},
   "outputs": [
    {
     "name": "stdout",
     "output_type": "stream",
     "text": [
      "[[6162  665]\n",
      " [2070 2103]]\n"
     ]
    }
   ],
   "source": [
    "print(confusion_matrix(test['donation'], test['predicted_donation_logit_user']))"
   ]
  },
  {
   "cell_type": "markdown",
   "id": "8fd4e867-755d-4c0d-a4a1-7255cabc7e34",
   "metadata": {},
   "source": [
    "##### Looking at the performances of my 2 models"
   ]
  },
  {
   "cell_type": "code",
   "execution_count": 146,
   "id": "705a5ec1-5cbb-4b16-8e71-cc615773bb64",
   "metadata": {},
   "outputs": [],
   "source": [
    "from sklearn.metrics import classification_report"
   ]
  },
  {
   "cell_type": "markdown",
   "id": "5374e33a-b8ee-4d4e-b894-5731af6840c3",
   "metadata": {},
   "source": [
    "##### Classification report 1. Compared to model B, model A seems to be more precise in finding either non donors (0.75) and donors (0.76) even if seems to have more recall for non donors (0.90) but less recall for donors (0.50) in which I am more interested since my priority in the model is to find total number of donors to be able to generalise the results for future predictions. So is not the single donors which the model is able to find what interests me but a solid amount of donors which the model is able to find in order to prove causality. Generally, the average F1 score (0.74) is also lower so model B performances seem to be better."
   ]
  },
  {
   "cell_type": "code",
   "execution_count": 147,
   "id": "53edb438-f57c-4430-af98-d26cecf6bea6",
   "metadata": {},
   "outputs": [
    {
     "name": "stdout",
     "output_type": "stream",
     "text": [
      "              precision    recall  f1-score   support\n",
      "\n",
      "         0.0       0.75      0.90      0.82      6827\n",
      "         1.0       0.76      0.50      0.61      4173\n",
      "\n",
      "    accuracy                           0.75     11000\n",
      "   macro avg       0.75      0.70      0.71     11000\n",
      "weighted avg       0.75      0.75      0.74     11000\n",
      "\n"
     ]
    }
   ],
   "source": [
    "print(classification_report(test['donation'], test['predicted_donation_logit']))"
   ]
  },
  {
   "cell_type": "markdown",
   "id": "1a666cb7-6b21-457b-ab0a-0ececc9778e7",
   "metadata": {},
   "source": [
    "##### Classification report 2. Compared to model A, model B seems to be more precise in finding non donors (0.78) but less precise in finding donors (0.71). Nevertheless, model B presents less recall for non donors (0.85) but quite higher value for the donors (0.61), value in in which I am more interested since my priority in the model is to find total number of donors to be able to generalise the results for future predictions. So is not the single donors which the model is able to find what interests me but a solid amount of donors which the model is able to find in order to prove causality.  The general performances of the model (F1 average score, 0.75) and specifically general performancce in finding donors (F1 on donors, 0.66) seem both to be better, which is what we are mainly interested."
   ]
  },
  {
   "cell_type": "code",
   "execution_count": 148,
   "id": "05b5e08e-fb66-427c-9d1b-a3a634f8b995",
   "metadata": {},
   "outputs": [
    {
     "name": "stdout",
     "output_type": "stream",
     "text": [
      "              precision    recall  f1-score   support\n",
      "\n",
      "         0.0       0.75      0.90      0.82      6827\n",
      "         1.0       0.76      0.50      0.61      4173\n",
      "\n",
      "    accuracy                           0.75     11000\n",
      "   macro avg       0.75      0.70      0.71     11000\n",
      "weighted avg       0.75      0.75      0.74     11000\n",
      "\n"
     ]
    }
   ],
   "source": [
    "print(classification_report(test['donation'], test['predicted_donation_logit_user']))"
   ]
  },
  {
   "cell_type": "markdown",
   "id": "18fbb877-1ad4-401a-93c6-d4fc27801b73",
   "metadata": {},
   "source": [
    "##### Visualization of the algorithm through a decision tree"
   ]
  },
  {
   "cell_type": "code",
   "execution_count": 149,
   "id": "620f0d2f-5a06-4542-be2d-b5675ce0d319",
   "metadata": {},
   "outputs": [],
   "source": [
    "import matplotlib.pylab as plt\n",
    "from sklearn.tree import DecisionTreeClassifier\n",
    "from sklearn.tree._export import plot_tree"
   ]
  },
  {
   "cell_type": "code",
   "execution_count": 150,
   "id": "aac96b3c-abcb-426a-b0c2-3761a6a4a562",
   "metadata": {},
   "outputs": [],
   "source": [
    "tree = DecisionTreeClassifier()"
   ]
  },
  {
   "cell_type": "markdown",
   "id": "b710002b-a7fb-43ea-9741-34bcdeb6e4e3",
   "metadata": {},
   "source": [
    "##### Creating the decision tree from model B's variables"
   ]
  },
  {
   "cell_type": "code",
   "execution_count": 151,
   "id": "c220c9fa-b0d8-4fd7-b221-d62ec83c167b",
   "metadata": {},
   "outputs": [
    {
     "data": {
      "text/plain": [
       "DecisionTreeClassifier()"
      ]
     },
     "execution_count": 151,
     "metadata": {},
     "output_type": "execute_result"
    }
   ],
   "source": [
    "tree.fit(train[features_controls], train[target])"
   ]
  },
  {
   "cell_type": "markdown",
   "id": "0cecb9c1-39df-4f84-9e03-9d8e7f7cf88f",
   "metadata": {},
   "source": [
    "##### We can see as most of the donations are on the right side. The decision tree start analasying the user depending if he's from a no endorser campaign: if the user is from a no endorser campaign will be classifiend on the right side where will be consequently differentiated from users coming from Youtube or Instagram or Google or other. In case the user is not from a no endorser campaign will pass on the next campaign and elaborate again all the possible scenarios"
   ]
  },
  {
   "cell_type": "code",
   "execution_count": 152,
   "id": "5eec1ded-906c-4bef-b69b-23e4bb1592f7",
   "metadata": {},
   "outputs": [
    {
     "data": {
      "image/png": "[encoded data removed]",
      "text/plain": [
       "<Figure size 360x360 with 1 Axes>"
      ]
     },
     "metadata": {
      "needs_background": "light"
     },
     "output_type": "display_data"
    }
   ],
   "source": [
    "plt.figure(figsize=(5,5))\n",
    "plot_tree(tree, proportion=True, label='root', \n",
    "          feature_names=['celebrity','influencer','no endorser','age','Google','Apple'], \n",
    "          class_names=['no donation','donation'], filled=True, fontsize=8)\n",
    "plt.show()"
   ]
  },
  {
   "cell_type": "markdown",
   "id": "a3b8c1d5-9629-4c6b-acf3-cccad2bba7bc",
   "metadata": {},
   "source": [
    "##### Decision tree from model A's variables"
   ]
  },
  {
   "cell_type": "code",
   "execution_count": 153,
   "id": "1f19a6b9-6c08-4701-a431-516c75bfbba6",
   "metadata": {},
   "outputs": [
    {
     "data": {
      "text/plain": [
       "DecisionTreeClassifier()"
      ]
     },
     "execution_count": 153,
     "metadata": {},
     "output_type": "execute_result"
    }
   ],
   "source": [
    "tree.fit(train[features], train[target])"
   ]
  },
  {
   "cell_type": "markdown",
   "id": "976ebce5-d8da-46c8-bb78-6f6645030542",
   "metadata": {},
   "source": [
    "##### The understanding of a much smaller decision tree is graphically easier: if the campaign is from an influencer is predicted as a no donor. If the user do not come from such campaign it may come from a celebrity campaign: if it is, user is predicted as a non donor. If it is not coming from such campaign the user may come from a no endorser campaign: if it is, user is tagget as donor, if it is not is tagged as a non donor."
   ]
  },
  {
   "cell_type": "code",
   "execution_count": 154,
   "id": "83951241-4c9e-4b70-827e-1c86d3d0dbcd",
   "metadata": {},
   "outputs": [
    {
     "data": {
      "image/png": "[encoded data removed]",
      "text/plain": [
       "<Figure size 360x360 with 1 Axes>"
      ]
     },
     "metadata": {
      "needs_background": "light"
     },
     "output_type": "display_data"
    }
   ],
   "source": [
    "plt.figure(figsize=(5,5))\n",
    "plot_tree(tree, proportion=True, label='root', \n",
    "          feature_names=['celebrity','influencer','no endorser'], \n",
    "          class_names=['no donation','donation'], filled=True, fontsize=8)\n",
    "plt.show()"
   ]
  },
  {
   "cell_type": "markdown",
   "id": "9000beb9-7b9c-473b-8a92-46b83ca289b6",
   "metadata": {},
   "source": [
    "##### Using linear regrassion to make a model with revenue as DV (which is a continuous and not binary variable, this is why a linear regression model has been chosen) and test my sub question RQ2. Creating first a model with no control variables."
   ]
  },
  {
   "cell_type": "code",
   "execution_count": 155,
   "id": "3fb75861-9ad0-406f-bea3-86688ae7dd28",
   "metadata": {},
   "outputs": [],
   "source": [
    "ols_stat = sm.OLS(final_df['revenue'], sm.add_constant(final_df[['celebrity','influencer','no endorser']]))"
   ]
  },
  {
   "cell_type": "code",
   "execution_count": 156,
   "id": "093bd896-d6e7-4767-aaa3-14842b6b594d",
   "metadata": {},
   "outputs": [],
   "source": [
    "result_ols = ols_stat.fit()"
   ]
  },
  {
   "cell_type": "markdown",
   "id": "21685951-50ed-42b0-af3a-aedb49a46325",
   "metadata": {},
   "source": [
    "##### Model C will not be chosen (and commented) since model D better fits our data"
   ]
  },
  {
   "cell_type": "code",
   "execution_count": 157,
   "id": "61070872-7602-4b09-b921-f877a1c85d91",
   "metadata": {},
   "outputs": [
    {
     "name": "stdout",
     "output_type": "stream",
     "text": [
      "                            OLS Regression Results                            \n",
      "==============================================================================\n",
      "Dep. Variable:                revenue   R-squared:                       0.268\n",
      "Model:                            OLS   Adj. R-squared:                  0.268\n",
      "Method:                 Least Squares   F-statistic:                     6721.\n",
      "Date:                Mon, 18 Sep 2023   Prob (F-statistic):               0.00\n",
      "Time:                        22:48:58   Log-Likelihood:            -2.6112e+05\n",
      "No. Observations:               55000   AIC:                         5.222e+05\n",
      "Df Residuals:                   54996   BIC:                         5.223e+05\n",
      "Df Model:                           3                                         \n",
      "Covariance Type:            nonrobust                                         \n",
      "===============================================================================\n",
      "                  coef    std err          t      P>|t|      [0.025      0.975]\n",
      "-------------------------------------------------------------------------------\n",
      "const          19.0109      0.239     79.562      0.000      18.543      19.479\n",
      "celebrity      -6.0059      0.336    -17.871      0.000      -6.665      -5.347\n",
      "influencer     -6.0036      0.337    -17.792      0.000      -6.665      -5.342\n",
      "no endorser    34.6193      0.337    102.587      0.000      33.958      35.281\n",
      "==============================================================================\n",
      "Omnibus:                     2452.793   Durbin-Watson:                   2.003\n",
      "Prob(Omnibus):                  0.000   Jarque-Bera (JB):             2655.588\n",
      "Skew:                           0.519   Prob(JB):                         0.00\n",
      "Kurtosis:                       2.712   Cond. No.                         4.81\n",
      "==============================================================================\n",
      "\n",
      "Notes:\n",
      "[1] Standard Errors assume that the covariance matrix of the errors is correctly specified.\n"
     ]
    }
   ],
   "source": [
    "print(result_ols.summary())"
   ]
  },
  {
   "cell_type": "markdown",
   "id": "c51ebf00-8a7f-46eb-b69d-d25550042837",
   "metadata": {},
   "source": [
    "##### Adding the control variables to create model D"
   ]
  },
  {
   "cell_type": "code",
   "execution_count": 158,
   "id": "f33a0360-a8ae-45f5-8220-7ccfb0c1b095",
   "metadata": {},
   "outputs": [],
   "source": [
    "ols_stat = sm.OLS(final_df['revenue'], sm.add_constant(final_df[['celebrity','influencer','no endorser','age','Google','Apple']]))"
   ]
  },
  {
   "cell_type": "code",
   "execution_count": 159,
   "id": "f2630371-6793-4b1d-ade5-5cbbb32ee09f",
   "metadata": {},
   "outputs": [],
   "source": [
    "result_ols = ols_stat.fit()"
   ]
  },
  {
   "cell_type": "markdown",
   "id": "ff5e1ee6-a247-4902-9d6c-085d17f1b2e2",
   "metadata": {},
   "source": [
    "##### Model D. The coefficient results shows that, compared to other campaigns, celebrity (-6.16€ per each donation) and influencer (-6.26€ per each donation) campaigns negatively and significantly enhance the likelyhood of donating an higher amount of € and a campaign with no endorsers (+34€ per each donation) positively and significantly enhance the likelyhood of donating an higher amount of €."
   ]
  },
  {
   "cell_type": "code",
   "execution_count": 160,
   "id": "b54a0598-2986-4fe0-abe4-9d7eaf3b2bc9",
   "metadata": {},
   "outputs": [
    {
     "name": "stdout",
     "output_type": "stream",
     "text": [
      "                            OLS Regression Results                            \n",
      "==============================================================================\n",
      "Dep. Variable:                revenue   R-squared:                       0.275\n",
      "Model:                            OLS   Adj. R-squared:                  0.275\n",
      "Method:                 Least Squares   F-statistic:                     3475.\n",
      "Date:                Mon, 18 Sep 2023   Prob (F-statistic):               0.00\n",
      "Time:                        22:48:58   Log-Likelihood:            -2.6087e+05\n",
      "No. Observations:               55000   AIC:                         5.218e+05\n",
      "Df Residuals:                   54993   BIC:                         5.218e+05\n",
      "Df Model:                           6                                         \n",
      "Covariance Type:            nonrobust                                         \n",
      "===============================================================================\n",
      "                  coef    std err          t      P>|t|      [0.025      0.975]\n",
      "-------------------------------------------------------------------------------\n",
      "const          18.0272      0.418     43.126      0.000      17.208      18.846\n",
      "celebrity      -5.9960      0.335    -17.922      0.000      -6.652      -5.340\n",
      "influencer     -6.0297      0.336    -17.949      0.000      -6.688      -5.371\n",
      "no endorser    34.6038      0.336    103.004      0.000      33.945      35.262\n",
      "age            -0.0016      0.007     -0.218      0.828      -0.016       0.013\n",
      "Google          7.0805      0.317     22.342      0.000       6.459       7.702\n",
      "Apple          -0.4278      0.260     -1.642      0.101      -0.938       0.083\n",
      "==============================================================================\n",
      "Omnibus:                     2436.447   Durbin-Watson:                   2.004\n",
      "Prob(Omnibus):                  0.000   Jarque-Bera (JB):             2671.301\n",
      "Skew:                           0.524   Prob(JB):                         0.00\n",
      "Kurtosis:                       2.741   Cond. No.                         227.\n",
      "==============================================================================\n",
      "\n",
      "Notes:\n",
      "[1] Standard Errors assume that the covariance matrix of the errors is correctly specified.\n"
     ]
    }
   ],
   "source": [
    "print(result_ols.summary())"
   ]
  },
  {
   "cell_type": "markdown",
   "id": "04a30543-23e3-4646-91b3-196e2499eef0",
   "metadata": {},
   "source": [
    "##### Making predictions with linear regression"
   ]
  },
  {
   "cell_type": "code",
   "execution_count": 161,
   "id": "49e0fcc8-6487-4116-9575-1ac7e881841f",
   "metadata": {},
   "outputs": [],
   "source": [
    "ols_clf = LinearRegression(fit_intercept = True)"
   ]
  },
  {
   "cell_type": "code",
   "execution_count": 162,
   "id": "3cce2d59-2509-46ec-b698-7452d20d4bd3",
   "metadata": {},
   "outputs": [
    {
     "data": {
      "text/plain": [
       "LinearRegression()"
      ]
     },
     "execution_count": 162,
     "metadata": {},
     "output_type": "execute_result"
    }
   ],
   "source": [
    "ols_clf.fit(final_df[['celebrity','influencer','no endorser','age','Google','Apple']], final_df['donation'])"
   ]
  },
  {
   "cell_type": "markdown",
   "id": "6f22910f-2c53-4aa7-895b-d0b85d2ee4b3",
   "metadata": {},
   "source": [
    "##### Prediction D. With all the other variables kept constant, a campaign with a celebrity has a predicted user's average donation revenue of 6€"
   ]
  },
  {
   "cell_type": "code",
   "execution_count": 163,
   "id": "471118aa-4208-4831-8f1b-31e3b0c5ff00",
   "metadata": {},
   "outputs": [
    {
     "data": {
      "text/plain": [
       "array([0.31667816])"
      ]
     },
     "execution_count": 163,
     "metadata": {},
     "output_type": "execute_result"
    }
   ],
   "source": [
    "ols_clf.predict([[1,0,0,1,1,1]])"
   ]
  },
  {
   "cell_type": "markdown",
   "id": "078ab9b5-7ca9-4e13-8469-07eabddc9197",
   "metadata": {},
   "source": [
    "##### Prediction E. With all the other variables kept constant, a campaign with an influencer has a predicted user's average donation revenue of 6€"
   ]
  },
  {
   "cell_type": "code",
   "execution_count": 164,
   "id": "f0122bd6-4f4f-4fc4-abba-576d049271bb",
   "metadata": {},
   "outputs": [
    {
     "data": {
      "text/plain": [
       "array([0.3159694])"
      ]
     },
     "execution_count": 164,
     "metadata": {},
     "output_type": "execute_result"
    }
   ],
   "source": [
    "ols_clf.predict([[0,1,0,1,1,1]])"
   ]
  },
  {
   "cell_type": "markdown",
   "id": "d1e9dcd9-8f19-49e3-a39a-231fd0906529",
   "metadata": {},
   "source": [
    "##### Prediction F. With all the other variables kept constant, a campaign with no endorsers has a predicted user's average donation revenue of 60€. Once again a campaign with no endorsers has been reconfirmed as the most succesfull"
   ]
  },
  {
   "cell_type": "code",
   "execution_count": 165,
   "id": "ff33b64f-64a1-4bee-a460-5225123a5b15",
   "metadata": {},
   "outputs": [
    {
     "data": {
      "text/plain": [
       "array([0.85982269])"
      ]
     },
     "execution_count": 165,
     "metadata": {},
     "output_type": "execute_result"
    }
   ],
   "source": [
    "ols_clf.predict([[0,0,1,1,1,1]])"
   ]
  }
 ],
 "metadata": {
  "kernelspec": {
   "display_name": "Python 3",
   "language": "python",
   "name": "python3"
  },
  "language_info": {
   "codemirror_mode": {
    "name": "ipython",
    "version": 3
   },
   "file_extension": ".py",
   "mimetype": "text/x-python",
   "name": "python",
   "nbconvert_exporter": "python",
   "pygments_lexer": "ipython3",
   "version": "3.8.8"
  }
 },
 "nbformat": 4,
 "nbformat_minor": 5
}
