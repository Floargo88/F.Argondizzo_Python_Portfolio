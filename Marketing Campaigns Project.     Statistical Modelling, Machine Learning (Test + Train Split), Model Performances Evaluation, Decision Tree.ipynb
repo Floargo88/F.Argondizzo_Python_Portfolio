{
 "cells": [
  {
   "cell_type": "markdown",
   "metadata": {},
   "source": [
    "## Challenge 1\n",
    "\n",
    "\n",
    "### Programming challenge\n",
    "\n",
    "For this challange, I will focus on modelling and evaluating the performances of the machine learning models. \n",
    "\n",
    "The dataset is named  ```da6_fulldata.csv.gz```. It contains the following information:\n",
    "\n",
    "* sessions. Columns ```session_id```, ```session_timestamp```, ```user_agent```, ```referral```, ```type_campaign```.\n",
    "I will need to provide the details of the browser that visited the site (user_agent), when the visit started, what the referral was, and what campaign the referral came from.\n",
    "\n",
    "* orders. Columns ```order_euros``` and ```purchase``` include information if a user made a purchase and how much they spent.\n",
    "\n",
    "* users. Columns ```user_id```, ```reg_name```, ```registration_date```, ```initial_referrer```, ```preferential_client``` and ```age```.\n",
    "I will need to provide the details of the registered users such as their name, when they created their profile, their age, the referral that they followed when creating their profile, and whether they are part of an exclusive club of preferential clients\n",
    "\n",
    "For this project, I will need to:\n",
    "* Propose which control variables are relevant to be included in the model.\n",
    "* Create the necessary features for different campaigns based on the column ```type_campaign``` (this column includes information about what kind of camapign someone has seen. I can use this information to create the necessary variables for identifying users coming from the CPC or infleuncer campaign) and for my control variables.\n",
    "* Create models for statistical testing (with **statsmodels**). One only with the campaign information (cpc and infleuncer), and a second model with at least one additional independent or control variable. It can be one of my variables about the session or user. Sales, as a binary variable will be my Dependent Variables.\n",
    "\n",
    "\n",
    "**Technical** interpretation:\n",
    "\n",
    "The control variables chosen are the referral used (Google, Facebook, Instagram, Twitter etc.) and the device used for ther purchase (Apple, Android, Windows, Linux etc.).\n",
    "\n",
    "After summarizing information about the models and the decision tree created, it seems reasonable to consider model 2 better since is the one that shows better performances (a combination of precision and recall). The performance of a model stands for accuracy of the predictions made.\n",
    "\n",
    "The CPC marketing campaign seem to be the best campaign among all the others. The predictions made shown that the chances of making a purchase are 51.5% if a user has seen the CPC campaign. Instead, if a user has seen the influencerA marketing campaign, the chances of making a purchase are 28.2%. Also, if a user has seen the influencerB marketing campaign the chances of making a purchase are 32%. Additionally, the amount of the purchase in € looks better stimulated by the CPC campaign as well: 95€ is the average purchase made from a user who interacted with CPC  vs 60€ from the influencerB campaign and 28€ from influencerA campaign\n",
    "\n",
    "\n",
    "**Step-by-step interpretation:**"
   ]
  },
  {
   "cell_type": "markdown",
   "metadata": {},
   "source": [
    "**Importing libraries**"
   ]
  },
  {
   "cell_type": "code",
   "execution_count": 1,
   "metadata": {},
   "outputs": [],
   "source": [
    "import pandas as pd\n",
    "import seaborn as sns\n",
    "%matplotlib inline"
   ]
  },
  {
   "cell_type": "code",
   "execution_count": 2,
   "metadata": {},
   "outputs": [],
   "source": [
    "from sklearn.linear_model import LogisticRegression, LinearRegression\n",
    "import statsmodels.api as sm\n",
    "import numpy as np"
   ]
  },
  {
   "cell_type": "code",
   "execution_count": 3,
   "metadata": {},
   "outputs": [],
   "source": [
    "import lime\n",
    "from lime import lime_tabular"
   ]
  },
  {
   "cell_type": "code",
   "execution_count": 4,
   "metadata": {},
   "outputs": [],
   "source": [
    "visitors = pd.read_csv('da6_fulldata.csv.gz')"
   ]
  },
  {
   "cell_type": "markdown",
   "metadata": {},
   "source": [
    "**Exploring the dataset**"
   ]
  },
  {
   "cell_type": "code",
   "execution_count": 5,
   "metadata": {},
   "outputs": [
    {
     "data": {
      "text/html": [
       "<div>\n",
       "<style scoped>\n",
       "    .dataframe tbody tr th:only-of-type {\n",
       "        vertical-align: middle;\n",
       "    }\n",
       "\n",
       "    .dataframe tbody tr th {\n",
       "        vertical-align: top;\n",
       "    }\n",
       "\n",
       "    .dataframe thead th {\n",
       "        text-align: right;\n",
       "    }\n",
       "</style>\n",
       "<table border=\"1\" class=\"dataframe\">\n",
       "  <thead>\n",
       "    <tr style=\"text-align: right;\">\n",
       "      <th></th>\n",
       "      <th>session_id</th>\n",
       "      <th>order_euros</th>\n",
       "      <th>purchase</th>\n",
       "      <th>session_timestamp</th>\n",
       "      <th>user_agent</th>\n",
       "      <th>referral</th>\n",
       "      <th>type_campaign</th>\n",
       "      <th>user_id</th>\n",
       "      <th>reg_name</th>\n",
       "      <th>age</th>\n",
       "      <th>registration_date</th>\n",
       "      <th>initial_referrer</th>\n",
       "      <th>preferential_client</th>\n",
       "    </tr>\n",
       "  </thead>\n",
       "  <tbody>\n",
       "    <tr>\n",
       "      <th>0</th>\n",
       "      <td>5555694754</td>\n",
       "      <td>153.5</td>\n",
       "      <td>1.0</td>\n",
       "      <td>2021-10-06 16:10:27</td>\n",
       "      <td>Mozilla/5.0 (iPhone; CPU iPhone OS 4_2_1 like ...</td>\n",
       "      <td>facebook.com</td>\n",
       "      <td>CPC</td>\n",
       "      <td>NaN</td>\n",
       "      <td>NaN</td>\n",
       "      <td>NaN</td>\n",
       "      <td>NaN</td>\n",
       "      <td>NaN</td>\n",
       "      <td>NaN</td>\n",
       "    </tr>\n",
       "    <tr>\n",
       "      <th>1</th>\n",
       "      <td>5555694755</td>\n",
       "      <td>NaN</td>\n",
       "      <td>NaN</td>\n",
       "      <td>2021-09-30 08:36:38</td>\n",
       "      <td>Opera/8.28.(Windows NT 5.1; lo-LA) Presto/2.9....</td>\n",
       "      <td>facebook.com</td>\n",
       "      <td>NaN</td>\n",
       "      <td>NaN</td>\n",
       "      <td>NaN</td>\n",
       "      <td>NaN</td>\n",
       "      <td>NaN</td>\n",
       "      <td>NaN</td>\n",
       "      <td>NaN</td>\n",
       "    </tr>\n",
       "    <tr>\n",
       "      <th>2</th>\n",
       "      <td>5555694756</td>\n",
       "      <td>NaN</td>\n",
       "      <td>NaN</td>\n",
       "      <td>2021-09-29 15:19:24</td>\n",
       "      <td>Opera/9.44.(Windows NT 6.2; ks-IN) Presto/2.9....</td>\n",
       "      <td>facebook.com</td>\n",
       "      <td>CPC</td>\n",
       "      <td>NaN</td>\n",
       "      <td>NaN</td>\n",
       "      <td>NaN</td>\n",
       "      <td>NaN</td>\n",
       "      <td>NaN</td>\n",
       "      <td>NaN</td>\n",
       "    </tr>\n",
       "    <tr>\n",
       "      <th>3</th>\n",
       "      <td>5555694757</td>\n",
       "      <td>NaN</td>\n",
       "      <td>NaN</td>\n",
       "      <td>2021-10-08 02:20:09</td>\n",
       "      <td>Opera/8.34.(Windows NT 10.0; yi-US) Presto/2.9...</td>\n",
       "      <td>facebook.com</td>\n",
       "      <td>influencerA</td>\n",
       "      <td>NaN</td>\n",
       "      <td>NaN</td>\n",
       "      <td>NaN</td>\n",
       "      <td>NaN</td>\n",
       "      <td>NaN</td>\n",
       "      <td>NaN</td>\n",
       "    </tr>\n",
       "    <tr>\n",
       "      <th>4</th>\n",
       "      <td>5555694758</td>\n",
       "      <td>NaN</td>\n",
       "      <td>NaN</td>\n",
       "      <td>2021-10-06 19:56:22</td>\n",
       "      <td>Mozilla/5.0 (Macintosh; Intel Mac OS X 10_11_8...</td>\n",
       "      <td>google.com</td>\n",
       "      <td>organic</td>\n",
       "      <td>NaN</td>\n",
       "      <td>NaN</td>\n",
       "      <td>NaN</td>\n",
       "      <td>NaN</td>\n",
       "      <td>NaN</td>\n",
       "      <td>NaN</td>\n",
       "    </tr>\n",
       "  </tbody>\n",
       "</table>\n",
       "</div>"
      ],
      "text/plain": [
       "   session_id  order_euros  purchase    session_timestamp  \\\n",
       "0  5555694754        153.5       1.0  2021-10-06 16:10:27   \n",
       "1  5555694755          NaN       NaN  2021-09-30 08:36:38   \n",
       "2  5555694756          NaN       NaN  2021-09-29 15:19:24   \n",
       "3  5555694757          NaN       NaN  2021-10-08 02:20:09   \n",
       "4  5555694758          NaN       NaN  2021-10-06 19:56:22   \n",
       "\n",
       "                                          user_agent      referral  \\\n",
       "0  Mozilla/5.0 (iPhone; CPU iPhone OS 4_2_1 like ...  facebook.com   \n",
       "1  Opera/8.28.(Windows NT 5.1; lo-LA) Presto/2.9....  facebook.com   \n",
       "2  Opera/9.44.(Windows NT 6.2; ks-IN) Presto/2.9....  facebook.com   \n",
       "3  Opera/8.34.(Windows NT 10.0; yi-US) Presto/2.9...  facebook.com   \n",
       "4  Mozilla/5.0 (Macintosh; Intel Mac OS X 10_11_8...    google.com   \n",
       "\n",
       "  type_campaign  user_id reg_name  age registration_date initial_referrer  \\\n",
       "0           CPC      NaN      NaN  NaN               NaN              NaN   \n",
       "1           NaN      NaN      NaN  NaN               NaN              NaN   \n",
       "2           CPC      NaN      NaN  NaN               NaN              NaN   \n",
       "3   influencerA      NaN      NaN  NaN               NaN              NaN   \n",
       "4       organic      NaN      NaN  NaN               NaN              NaN   \n",
       "\n",
       "   preferential_client  \n",
       "0                  NaN  \n",
       "1                  NaN  \n",
       "2                  NaN  \n",
       "3                  NaN  \n",
       "4                  NaN  "
      ]
     },
     "execution_count": 5,
     "metadata": {},
     "output_type": "execute_result"
    }
   ],
   "source": [
    "visitors.head()"
   ]
  },
  {
   "cell_type": "code",
   "execution_count": 6,
   "metadata": {},
   "outputs": [
    {
     "data": {
      "text/plain": [
       "Index(['session_id', 'order_euros', 'purchase', 'session_timestamp',\n",
       "       'user_agent', 'referral', 'type_campaign', 'user_id', 'reg_name', 'age',\n",
       "       'registration_date', 'initial_referrer', 'preferential_client'],\n",
       "      dtype='object')"
      ]
     },
     "execution_count": 6,
     "metadata": {},
     "output_type": "execute_result"
    }
   ],
   "source": [
    "visitors.columns"
   ]
  },
  {
   "cell_type": "code",
   "execution_count": 7,
   "metadata": {},
   "outputs": [
    {
     "data": {
      "text/plain": [
       "session_id                 0\n",
       "order_euros            37499\n",
       "purchase               37499\n",
       "session_timestamp          0\n",
       "user_agent                 0\n",
       "referral                   0\n",
       "type_campaign          23629\n",
       "user_id                34822\n",
       "reg_name               34822\n",
       "age                    34822\n",
       "registration_date      34822\n",
       "initial_referrer       34822\n",
       "preferential_client    47028\n",
       "dtype: int64"
      ]
     },
     "execution_count": 7,
     "metadata": {},
     "output_type": "execute_result"
    }
   ],
   "source": [
    "visitors.isna().sum()"
   ]
  },
  {
   "cell_type": "code",
   "execution_count": 8,
   "metadata": {},
   "outputs": [
    {
     "data": {
      "text/plain": [
       "50000"
      ]
     },
     "execution_count": 8,
     "metadata": {},
     "output_type": "execute_result"
    }
   ],
   "source": [
    "len(visitors)"
   ]
  },
  {
   "cell_type": "code",
   "execution_count": 9,
   "metadata": {},
   "outputs": [
    {
     "data": {
      "text/plain": [
       "session_id               int64\n",
       "order_euros            float64\n",
       "purchase               float64\n",
       "session_timestamp       object\n",
       "user_agent              object\n",
       "referral                object\n",
       "type_campaign           object\n",
       "user_id                float64\n",
       "reg_name                object\n",
       "age                    float64\n",
       "registration_date       object\n",
       "initial_referrer        object\n",
       "preferential_client    float64\n",
       "dtype: object"
      ]
     },
     "execution_count": 9,
     "metadata": {},
     "output_type": "execute_result"
    }
   ],
   "source": [
    "visitors.dtypes"
   ]
  },
  {
   "cell_type": "markdown",
   "metadata": {},
   "source": [
    "**Among the 50k visitors there were 12.501 purchases**"
   ]
  },
  {
   "cell_type": "code",
   "execution_count": 10,
   "metadata": {},
   "outputs": [
    {
     "data": {
      "text/plain": [
       "1.0    12501\n",
       "Name: purchase, dtype: int64"
      ]
     },
     "execution_count": 10,
     "metadata": {},
     "output_type": "execute_result"
    }
   ],
   "source": [
    "visitors['purchase'].value_counts()"
   ]
  },
  {
   "cell_type": "markdown",
   "metadata": {},
   "source": [
    "**There were only 3 main referrals, namely Google, Facebook and Instagram**"
   ]
  },
  {
   "cell_type": "code",
   "execution_count": 11,
   "metadata": {},
   "outputs": [
    {
     "data": {
      "text/plain": [
       "google.com                 11127\n",
       "facebook.com               11109\n",
       "instagram.com              11045\n",
       "smith.com                    151\n",
       "johnson.com                  108\n",
       "                           ...  \n",
       "rojas.org                      1\n",
       "cruz-scott.com                 1\n",
       "buck-rodriguez.com             1\n",
       "rivera-howard.biz              1\n",
       "hunter-fitzpatrick.info        1\n",
       "Name: referral, Length: 8597, dtype: int64"
      ]
     },
     "execution_count": 11,
     "metadata": {},
     "output_type": "execute_result"
    }
   ],
   "source": [
    "visitors['referral'].value_counts()"
   ]
  },
  {
   "cell_type": "markdown",
   "metadata": {},
   "source": [
    "**There are 5 different marketing campaigns**"
   ]
  },
  {
   "cell_type": "code",
   "execution_count": 12,
   "metadata": {},
   "outputs": [
    {
     "data": {
      "text/plain": [
       "influencerA    8405\n",
       "influencerB    6328\n",
       "CPC            5252\n",
       "SEA            3202\n",
       "organic        3184\n",
       "Name: type_campaign, dtype: int64"
      ]
     },
     "execution_count": 12,
     "metadata": {},
     "output_type": "execute_result"
    }
   ],
   "source": [
    "visitors['type_campaign'].value_counts()"
   ]
  },
  {
   "cell_type": "markdown",
   "metadata": {},
   "source": [
    "**There are 2972 visitors which are preferential clients**"
   ]
  },
  {
   "cell_type": "code",
   "execution_count": 13,
   "metadata": {},
   "outputs": [
    {
     "data": {
      "text/plain": [
       "1.0    2972\n",
       "Name: preferential_client, dtype: int64"
      ]
     },
     "execution_count": 13,
     "metadata": {},
     "output_type": "execute_result"
    }
   ],
   "source": [
    "visitors['preferential_client'].value_counts()"
   ]
  },
  {
   "cell_type": "markdown",
   "metadata": {},
   "source": [
    "**Average order in € is 177.50€, the smallest order is 110,00€ and the biggest is 439,00€**"
   ]
  },
  {
   "cell_type": "code",
   "execution_count": 14,
   "metadata": {},
   "outputs": [
    {
     "data": {
      "text/plain": [
       "count    12501.000000\n",
       "mean       177.550356\n",
       "std         53.545786\n",
       "min        110.100000\n",
       "25%        137.600000\n",
       "50%        162.100000\n",
       "75%        203.400000\n",
       "max        439.200000\n",
       "Name: order_euros, dtype: float64"
      ]
     },
     "execution_count": 14,
     "metadata": {},
     "output_type": "execute_result"
    }
   ],
   "source": [
    "visitors['order_euros'].describe()"
   ]
  },
  {
   "cell_type": "markdown",
   "metadata": {},
   "source": [
    "**Fixing missing values with a zero since the missing values are the visitors who did not purchase**"
   ]
  },
  {
   "cell_type": "code",
   "execution_count": 15,
   "metadata": {},
   "outputs": [],
   "source": [
    "visitors['order_euros'] = visitors['order_euros'].fillna(0)\n",
    "visitors['purchase'] = visitors['purchase'].fillna(0)\n",
    "visitors['preferential_client'] = visitors['preferential_client'].fillna(0)"
   ]
  },
  {
   "cell_type": "markdown",
   "metadata": {},
   "source": [
    "**Categorizing campaigns in order to create my binary variables with a word query in the next steps**"
   ]
  },
  {
   "cell_type": "code",
   "execution_count": 16,
   "metadata": {},
   "outputs": [],
   "source": [
    "visitors['type_campaign'] = visitors['type_campaign'].fillna('Other_campaigns')"
   ]
  },
  {
   "cell_type": "code",
   "execution_count": 17,
   "metadata": {},
   "outputs": [],
   "source": [
    "def recategorize(category):\n",
    "    if category == 'influencerA':\n",
    "        return 'influencerA'\n",
    "    if category == 'influencerB':\n",
    "        return 'influencerB'\n",
    "    if category == 'CPC':\n",
    "        return 'CPC'\n",
    "   \n",
    "    else:\n",
    "        return 'Other_campaigns'"
   ]
  },
  {
   "cell_type": "code",
   "execution_count": 18,
   "metadata": {},
   "outputs": [],
   "source": [
    "visitors['type_campaign'] = visitors['type_campaign'].apply(recategorize)"
   ]
  },
  {
   "cell_type": "code",
   "execution_count": 19,
   "metadata": {},
   "outputs": [],
   "source": [
    "def wordlist_any_present(text, query):\n",
    "    import re\n",
    "    text = str(text).lower()\n",
    "    newquery = []\n",
    "    for word in query:\n",
    "        newquery.append(str(word).lower())\n",
    "    tokens = re.findall(r\"[\\w']+|[.,!?;$@#]\", text)\n",
    "    \n",
    "    for word in newquery:\n",
    "        if word in tokens:\n",
    "            return 1\n",
    "    return 0"
   ]
  },
  {
   "cell_type": "code",
   "execution_count": 20,
   "metadata": {},
   "outputs": [],
   "source": [
    "visitors['InfluencerA'] = visitors['type_campaign'].apply(wordlist_any_present, args=(['InfluencerA'],))\n",
    "visitors['InfluencerB'] = visitors['type_campaign'].apply(wordlist_any_present, args=(['InfluencerB'],))\n",
    "visitors['CPC'] = visitors['type_campaign'].apply(wordlist_any_present, args=(['CPC'],))\n",
    "visitors['Other_campaigns'] = visitors['type_campaign'].apply(wordlist_any_present, args=(['other_campaigns'],))"
   ]
  },
  {
   "cell_type": "code",
   "execution_count": 21,
   "metadata": {},
   "outputs": [
    {
     "data": {
      "text/plain": [
       "0    41595\n",
       "1     8405\n",
       "Name: InfluencerA, dtype: int64"
      ]
     },
     "execution_count": 21,
     "metadata": {},
     "output_type": "execute_result"
    }
   ],
   "source": [
    "visitors['InfluencerA'].value_counts()"
   ]
  },
  {
   "cell_type": "code",
   "execution_count": 22,
   "metadata": {},
   "outputs": [
    {
     "data": {
      "text/plain": [
       "0    43672\n",
       "1     6328\n",
       "Name: InfluencerB, dtype: int64"
      ]
     },
     "execution_count": 22,
     "metadata": {},
     "output_type": "execute_result"
    }
   ],
   "source": [
    "visitors['InfluencerB'].value_counts()"
   ]
  },
  {
   "cell_type": "code",
   "execution_count": 23,
   "metadata": {},
   "outputs": [
    {
     "data": {
      "text/plain": [
       "0    44748\n",
       "1     5252\n",
       "Name: CPC, dtype: int64"
      ]
     },
     "execution_count": 23,
     "metadata": {},
     "output_type": "execute_result"
    }
   ],
   "source": [
    "visitors['CPC'].value_counts()"
   ]
  },
  {
   "cell_type": "code",
   "execution_count": 24,
   "metadata": {},
   "outputs": [
    {
     "data": {
      "text/plain": [
       "session_id                 0\n",
       "order_euros                0\n",
       "purchase                   0\n",
       "session_timestamp          0\n",
       "user_agent                 0\n",
       "referral                   0\n",
       "type_campaign              0\n",
       "user_id                34822\n",
       "reg_name               34822\n",
       "age                    34822\n",
       "registration_date      34822\n",
       "initial_referrer       34822\n",
       "preferential_client        0\n",
       "InfluencerA                0\n",
       "InfluencerB                0\n",
       "CPC                        0\n",
       "Other_campaigns            0\n",
       "dtype: int64"
      ]
     },
     "execution_count": 24,
     "metadata": {},
     "output_type": "execute_result"
    }
   ],
   "source": [
    "visitors.isna().sum()"
   ]
  },
  {
   "cell_type": "code",
   "execution_count": 25,
   "metadata": {},
   "outputs": [
    {
     "data": {
      "text/plain": [
       "1    30015\n",
       "0    19985\n",
       "Name: Other_campaigns, dtype: int64"
      ]
     },
     "execution_count": 25,
     "metadata": {},
     "output_type": "execute_result"
    }
   ],
   "source": [
    "visitors['Other_campaigns'].value_counts()"
   ]
  },
  {
   "cell_type": "code",
   "execution_count": 26,
   "metadata": {},
   "outputs": [],
   "source": [
    "visitors['purchase'] = visitors['purchase'].astype(int)"
   ]
  },
  {
   "cell_type": "code",
   "execution_count": 27,
   "metadata": {},
   "outputs": [],
   "source": [
    "visitors['preferential_client'] = visitors['preferential_client'].astype(int)"
   ]
  },
  {
   "cell_type": "code",
   "execution_count": 28,
   "metadata": {},
   "outputs": [
    {
     "data": {
      "text/plain": [
       "google.com                 11127\n",
       "facebook.com               11109\n",
       "instagram.com              11045\n",
       "smith.com                    151\n",
       "johnson.com                  108\n",
       "                           ...  \n",
       "rojas.org                      1\n",
       "cruz-scott.com                 1\n",
       "buck-rodriguez.com             1\n",
       "rivera-howard.biz              1\n",
       "hunter-fitzpatrick.info        1\n",
       "Name: referral, Length: 8597, dtype: int64"
      ]
     },
     "execution_count": 28,
     "metadata": {},
     "output_type": "execute_result"
    }
   ],
   "source": [
    "visitors['referral'].value_counts()"
   ]
  },
  {
   "cell_type": "markdown",
   "metadata": {},
   "source": [
    "**Categorizing referrals and making dummy variables out of it for further analysis**"
   ]
  },
  {
   "cell_type": "code",
   "execution_count": 29,
   "metadata": {},
   "outputs": [],
   "source": [
    "def recategorize(category):\n",
    "    if category == 'google.com':\n",
    "        return 'google.com'\n",
    "    if category == 'facebook.com':\n",
    "        return 'facebook.com'\n",
    "    if category == 'instagram.com':\n",
    "        return 'instagram.com'\n",
    "   \n",
    "    else:\n",
    "        return 'Other_referral'"
   ]
  },
  {
   "cell_type": "code",
   "execution_count": 30,
   "metadata": {},
   "outputs": [],
   "source": [
    "visitors['referral'] = visitors['referral'].apply(recategorize)"
   ]
  },
  {
   "cell_type": "code",
   "execution_count": 31,
   "metadata": {},
   "outputs": [
    {
     "data": {
      "text/plain": [
       "Other_referral    16719\n",
       "google.com        11127\n",
       "facebook.com      11109\n",
       "instagram.com     11045\n",
       "Name: referral, dtype: int64"
      ]
     },
     "execution_count": 31,
     "metadata": {},
     "output_type": "execute_result"
    }
   ],
   "source": [
    "visitors['referral'].value_counts()"
   ]
  },
  {
   "cell_type": "code",
   "execution_count": 32,
   "metadata": {},
   "outputs": [],
   "source": [
    "def wordlist_any_present(text, query):\n",
    "    import re\n",
    "    text = str(text).lower()\n",
    "    newquery = []\n",
    "    for word in query:\n",
    "        newquery.append(str(word).lower())\n",
    "    tokens = re.findall(r\"[\\w']+|[.,!?;$@#]\", text)\n",
    "    \n",
    "    for word in newquery:\n",
    "        if word in tokens:\n",
    "            return 1\n",
    "    return 0"
   ]
  },
  {
   "cell_type": "code",
   "execution_count": 33,
   "metadata": {},
   "outputs": [],
   "source": [
    "visitors['Google'] = visitors['referral'].apply(wordlist_any_present, args=(['google'],))\n",
    "visitors['Facebook'] = visitors['referral'].apply(wordlist_any_present, args=(['facebook'],))\n",
    "visitors['Instagram'] = visitors['referral'].apply(wordlist_any_present, args=(['instagram'],))\n",
    "visitors['Other_referral'] = visitors['referral'].apply(wordlist_any_present, args=(['Other_referral'],))"
   ]
  },
  {
   "cell_type": "code",
   "execution_count": 34,
   "metadata": {},
   "outputs": [],
   "source": [
    "visitors['Apple_device'] = visitors['user_agent'].apply(wordlist_any_present, args=(['Macintosh', 'iOS','ipad', 'apple', 'iphone'],))"
   ]
  },
  {
   "cell_type": "code",
   "execution_count": 35,
   "metadata": {},
   "outputs": [
    {
     "data": {
      "text/plain": [
       "0    35363\n",
       "1    14637\n",
       "Name: Apple_device, dtype: int64"
      ]
     },
     "execution_count": 35,
     "metadata": {},
     "output_type": "execute_result"
    }
   ],
   "source": [
    "visitors['Apple_device'].value_counts()"
   ]
  },
  {
   "cell_type": "code",
   "execution_count": 36,
   "metadata": {},
   "outputs": [],
   "source": [
    "visitors_ = visitors[['session_id','purchase','order_euros','preferential_client','user_agent','referral','Google','Facebook','Instagram','Other_referral','type_campaign','InfluencerA','InfluencerB','CPC','Other_campaigns','Apple_device']]"
   ]
  },
  {
   "cell_type": "code",
   "execution_count": 37,
   "metadata": {},
   "outputs": [
    {
     "data": {
      "text/plain": [
       "0    37499\n",
       "1    12501\n",
       "Name: purchase, dtype: int64"
      ]
     },
     "execution_count": 37,
     "metadata": {},
     "output_type": "execute_result"
    }
   ],
   "source": [
    "visitors_['purchase'].value_counts()"
   ]
  },
  {
   "cell_type": "code",
   "execution_count": 38,
   "metadata": {},
   "outputs": [
    {
     "data": {
      "text/plain": [
       "0    0.74998\n",
       "1    0.25002\n",
       "Name: purchase, dtype: float64"
      ]
     },
     "execution_count": 38,
     "metadata": {},
     "output_type": "execute_result"
    }
   ],
   "source": [
    "visitors_['purchase'].value_counts(normalize=True)"
   ]
  },
  {
   "cell_type": "markdown",
   "metadata": {},
   "source": [
    "**This is the average order in €, the minimum order and the max but including the visitors who did not purchase anything**"
   ]
  },
  {
   "cell_type": "code",
   "execution_count": 39,
   "metadata": {},
   "outputs": [
    {
     "data": {
      "text/plain": [
       "count    50000.00000\n",
       "mean        44.39114\n",
       "std         81.41259\n",
       "min          0.00000\n",
       "25%          0.00000\n",
       "50%          0.00000\n",
       "75%        110.10000\n",
       "max        439.20000\n",
       "Name: order_euros, dtype: float64"
      ]
     },
     "execution_count": 39,
     "metadata": {},
     "output_type": "execute_result"
    }
   ],
   "source": [
    "visitors_['order_euros'].describe()"
   ]
  },
  {
   "cell_type": "code",
   "execution_count": 40,
   "metadata": {},
   "outputs": [
    {
     "data": {
      "text/plain": [
       "Other_campaigns    30015\n",
       "influencerA         8405\n",
       "influencerB         6328\n",
       "CPC                 5252\n",
       "Name: type_campaign, dtype: int64"
      ]
     },
     "execution_count": 40,
     "metadata": {},
     "output_type": "execute_result"
    }
   ],
   "source": [
    "visitors_['type_campaign'].value_counts()"
   ]
  },
  {
   "cell_type": "code",
   "execution_count": 41,
   "metadata": {},
   "outputs": [
    {
     "data": {
      "text/plain": [
       "Other_campaigns    0.60030\n",
       "influencerA        0.16810\n",
       "influencerB        0.12656\n",
       "CPC                0.10504\n",
       "Name: type_campaign, dtype: float64"
      ]
     },
     "execution_count": 41,
     "metadata": {},
     "output_type": "execute_result"
    }
   ],
   "source": [
    "visitors_['type_campaign'].value_counts(normalize=True)"
   ]
  },
  {
   "cell_type": "markdown",
   "metadata": {},
   "source": [
    "**a 25% of our sample did purchase something**"
   ]
  },
  {
   "cell_type": "code",
   "execution_count": 42,
   "metadata": {},
   "outputs": [
    {
     "data": {
      "text/html": [
       "<div>\n",
       "<style scoped>\n",
       "    .dataframe tbody tr th:only-of-type {\n",
       "        vertical-align: middle;\n",
       "    }\n",
       "\n",
       "    .dataframe tbody tr th {\n",
       "        vertical-align: top;\n",
       "    }\n",
       "\n",
       "    .dataframe thead th {\n",
       "        text-align: right;\n",
       "    }\n",
       "</style>\n",
       "<table border=\"1\" class=\"dataframe\">\n",
       "  <thead>\n",
       "    <tr style=\"text-align: right;\">\n",
       "      <th></th>\n",
       "      <th>order_euros</th>\n",
       "      <th>purchase</th>\n",
       "    </tr>\n",
       "  </thead>\n",
       "  <tbody>\n",
       "    <tr>\n",
       "      <th>count</th>\n",
       "      <td>50000.00000</td>\n",
       "      <td>50000.000000</td>\n",
       "    </tr>\n",
       "    <tr>\n",
       "      <th>mean</th>\n",
       "      <td>44.39114</td>\n",
       "      <td>0.250020</td>\n",
       "    </tr>\n",
       "    <tr>\n",
       "      <th>std</th>\n",
       "      <td>81.41259</td>\n",
       "      <td>0.433029</td>\n",
       "    </tr>\n",
       "    <tr>\n",
       "      <th>min</th>\n",
       "      <td>0.00000</td>\n",
       "      <td>0.000000</td>\n",
       "    </tr>\n",
       "    <tr>\n",
       "      <th>25%</th>\n",
       "      <td>0.00000</td>\n",
       "      <td>0.000000</td>\n",
       "    </tr>\n",
       "    <tr>\n",
       "      <th>50%</th>\n",
       "      <td>0.00000</td>\n",
       "      <td>0.000000</td>\n",
       "    </tr>\n",
       "    <tr>\n",
       "      <th>75%</th>\n",
       "      <td>110.10000</td>\n",
       "      <td>1.000000</td>\n",
       "    </tr>\n",
       "    <tr>\n",
       "      <th>max</th>\n",
       "      <td>439.20000</td>\n",
       "      <td>1.000000</td>\n",
       "    </tr>\n",
       "  </tbody>\n",
       "</table>\n",
       "</div>"
      ],
      "text/plain": [
       "       order_euros      purchase\n",
       "count  50000.00000  50000.000000\n",
       "mean      44.39114      0.250020\n",
       "std       81.41259      0.433029\n",
       "min        0.00000      0.000000\n",
       "25%        0.00000      0.000000\n",
       "50%        0.00000      0.000000\n",
       "75%      110.10000      1.000000\n",
       "max      439.20000      1.000000"
      ]
     },
     "execution_count": 42,
     "metadata": {},
     "output_type": "execute_result"
    }
   ],
   "source": [
    "visitors_[['order_euros','purchase']].describe()"
   ]
  },
  {
   "cell_type": "markdown",
   "metadata": {},
   "source": [
    "**As we can see from the statistics, the CPC campaign was the most profitable. With the CPC campaign the chances of making a purchase are 51.5% vs 32% with influencerB campaign vs 28% influencerA campaign vs 17% from other campaigns. The CPC campaign is the one which stimulated the highest amount of order in €: 95€ is the average purchase made with it vs 60€ from the influencerB campaign and 28€ with influencerA campaign**"
   ]
  },
  {
   "cell_type": "code",
   "execution_count": 43,
   "metadata": {},
   "outputs": [
    {
     "data": {
      "text/html": [
       "<div>\n",
       "<style scoped>\n",
       "    .dataframe tbody tr th:only-of-type {\n",
       "        vertical-align: middle;\n",
       "    }\n",
       "\n",
       "    .dataframe tbody tr th {\n",
       "        vertical-align: top;\n",
       "    }\n",
       "\n",
       "    .dataframe thead th {\n",
       "        text-align: right;\n",
       "    }\n",
       "</style>\n",
       "<table border=\"1\" class=\"dataframe\">\n",
       "  <thead>\n",
       "    <tr style=\"text-align: right;\">\n",
       "      <th></th>\n",
       "      <th>type_campaign</th>\n",
       "      <th>CPC</th>\n",
       "      <th>Other_campaigns</th>\n",
       "      <th>influencerA</th>\n",
       "      <th>influencerB</th>\n",
       "    </tr>\n",
       "  </thead>\n",
       "  <tbody>\n",
       "    <tr>\n",
       "      <th rowspan=\"8\" valign=\"top\">purchase</th>\n",
       "      <th>count</th>\n",
       "      <td>5252.000000</td>\n",
       "      <td>30015.000000</td>\n",
       "      <td>8405.000000</td>\n",
       "      <td>6328.000000</td>\n",
       "    </tr>\n",
       "    <tr>\n",
       "      <th>mean</th>\n",
       "      <td>0.515232</td>\n",
       "      <td>0.179777</td>\n",
       "      <td>0.282332</td>\n",
       "      <td>0.320164</td>\n",
       "    </tr>\n",
       "    <tr>\n",
       "      <th>std</th>\n",
       "      <td>0.499816</td>\n",
       "      <td>0.384008</td>\n",
       "      <td>0.450161</td>\n",
       "      <td>0.466576</td>\n",
       "    </tr>\n",
       "    <tr>\n",
       "      <th>min</th>\n",
       "      <td>0.000000</td>\n",
       "      <td>0.000000</td>\n",
       "      <td>0.000000</td>\n",
       "      <td>0.000000</td>\n",
       "    </tr>\n",
       "    <tr>\n",
       "      <th>25%</th>\n",
       "      <td>0.000000</td>\n",
       "      <td>0.000000</td>\n",
       "      <td>0.000000</td>\n",
       "      <td>0.000000</td>\n",
       "    </tr>\n",
       "    <tr>\n",
       "      <th>50%</th>\n",
       "      <td>1.000000</td>\n",
       "      <td>0.000000</td>\n",
       "      <td>0.000000</td>\n",
       "      <td>0.000000</td>\n",
       "    </tr>\n",
       "    <tr>\n",
       "      <th>75%</th>\n",
       "      <td>1.000000</td>\n",
       "      <td>0.000000</td>\n",
       "      <td>1.000000</td>\n",
       "      <td>1.000000</td>\n",
       "    </tr>\n",
       "    <tr>\n",
       "      <th>max</th>\n",
       "      <td>1.000000</td>\n",
       "      <td>1.000000</td>\n",
       "      <td>1.000000</td>\n",
       "      <td>1.000000</td>\n",
       "    </tr>\n",
       "    <tr>\n",
       "      <th rowspan=\"8\" valign=\"top\">order_euros</th>\n",
       "      <th>count</th>\n",
       "      <td>5252.000000</td>\n",
       "      <td>30015.000000</td>\n",
       "      <td>8405.000000</td>\n",
       "      <td>6328.000000</td>\n",
       "    </tr>\n",
       "    <tr>\n",
       "      <th>mean</th>\n",
       "      <td>95.604303</td>\n",
       "      <td>29.627593</td>\n",
       "      <td>52.829518</td>\n",
       "      <td>60.704630</td>\n",
       "    </tr>\n",
       "    <tr>\n",
       "      <th>std</th>\n",
       "      <td>100.676800</td>\n",
       "      <td>66.508137</td>\n",
       "      <td>89.106578</td>\n",
       "      <td>94.148035</td>\n",
       "    </tr>\n",
       "    <tr>\n",
       "      <th>min</th>\n",
       "      <td>0.000000</td>\n",
       "      <td>0.000000</td>\n",
       "      <td>0.000000</td>\n",
       "      <td>0.000000</td>\n",
       "    </tr>\n",
       "    <tr>\n",
       "      <th>25%</th>\n",
       "      <td>0.000000</td>\n",
       "      <td>0.000000</td>\n",
       "      <td>0.000000</td>\n",
       "      <td>0.000000</td>\n",
       "    </tr>\n",
       "    <tr>\n",
       "      <th>50%</th>\n",
       "      <td>118.400000</td>\n",
       "      <td>0.000000</td>\n",
       "      <td>0.000000</td>\n",
       "      <td>0.000000</td>\n",
       "    </tr>\n",
       "    <tr>\n",
       "      <th>75%</th>\n",
       "      <td>162.200000</td>\n",
       "      <td>0.000000</td>\n",
       "      <td>125.300000</td>\n",
       "      <td>150.200000</td>\n",
       "    </tr>\n",
       "    <tr>\n",
       "      <th>max</th>\n",
       "      <td>439.200000</td>\n",
       "      <td>391.300000</td>\n",
       "      <td>436.400000</td>\n",
       "      <td>434.300000</td>\n",
       "    </tr>\n",
       "  </tbody>\n",
       "</table>\n",
       "</div>"
      ],
      "text/plain": [
       "type_campaign              CPC  Other_campaigns  influencerA  influencerB\n",
       "purchase    count  5252.000000     30015.000000  8405.000000  6328.000000\n",
       "            mean      0.515232         0.179777     0.282332     0.320164\n",
       "            std       0.499816         0.384008     0.450161     0.466576\n",
       "            min       0.000000         0.000000     0.000000     0.000000\n",
       "            25%       0.000000         0.000000     0.000000     0.000000\n",
       "            50%       1.000000         0.000000     0.000000     0.000000\n",
       "            75%       1.000000         0.000000     1.000000     1.000000\n",
       "            max       1.000000         1.000000     1.000000     1.000000\n",
       "order_euros count  5252.000000     30015.000000  8405.000000  6328.000000\n",
       "            mean     95.604303        29.627593    52.829518    60.704630\n",
       "            std     100.676800        66.508137    89.106578    94.148035\n",
       "            min       0.000000         0.000000     0.000000     0.000000\n",
       "            25%       0.000000         0.000000     0.000000     0.000000\n",
       "            50%     118.400000         0.000000     0.000000     0.000000\n",
       "            75%     162.200000         0.000000   125.300000   150.200000\n",
       "            max     439.200000       391.300000   436.400000   434.300000"
      ]
     },
     "execution_count": 43,
     "metadata": {},
     "output_type": "execute_result"
    }
   ],
   "source": [
    "visitors_.groupby('type_campaign')[['purchase','order_euros']].describe().transpose()"
   ]
  },
  {
   "cell_type": "markdown",
   "metadata": {},
   "source": [
    "**Visualization of the visitors who have made a purchase**"
   ]
  },
  {
   "cell_type": "code",
   "execution_count": 44,
   "metadata": {},
   "outputs": [
    {
     "data": {
      "text/plain": [
       "<AxesSubplot:xlabel='purchase', ylabel='count'>"
      ]
     },
     "execution_count": 44,
     "metadata": {},
     "output_type": "execute_result"
    },
    {
     "data": {
      "image/png": "[encoded data removed]",
      "text/plain": [
       "<Figure size 432x288 with 1 Axes>"
      ]
     },
     "metadata": {
      "needs_background": "light"
     },
     "output_type": "display_data"
    }
   ],
   "source": [
    "sns.countplot(x='purchase', data=visitors_)"
   ]
  },
  {
   "cell_type": "markdown",
   "metadata": {},
   "source": [
    "**Distribution of the order in €**"
   ]
  },
  {
   "cell_type": "code",
   "execution_count": 45,
   "metadata": {},
   "outputs": [
    {
     "data": {
      "text/plain": [
       "<seaborn.axisgrid.FacetGrid at 0x7fbba9da5700>"
      ]
     },
     "execution_count": 45,
     "metadata": {},
     "output_type": "execute_result"
    },
    {
     "data": {
      "image/png": "[encoded data removed]",
      "text/plain": [
       "<Figure size 360x360 with 1 Axes>"
      ]
     },
     "metadata": {
      "needs_background": "light"
     },
     "output_type": "display_data"
    }
   ],
   "source": [
    "sns.displot(visitors_['order_euros']) "
   ]
  },
  {
   "cell_type": "markdown",
   "metadata": {},
   "source": [
    "**Amount of Apple devices used among our visitors**"
   ]
  },
  {
   "cell_type": "code",
   "execution_count": 46,
   "metadata": {},
   "outputs": [
    {
     "data": {
      "text/plain": [
       "<AxesSubplot:xlabel='Apple_device', ylabel='count'>"
      ]
     },
     "execution_count": 46,
     "metadata": {},
     "output_type": "execute_result"
    },
    {
     "data": {
      "image/png": "[encoded data removed]",
      "text/plain": [
       "<Figure size 432x288 with 1 Axes>"
      ]
     },
     "metadata": {
      "needs_background": "light"
     },
     "output_type": "display_data"
    }
   ],
   "source": [
    "sns.countplot(x='Apple_device', data=visitors_)"
   ]
  },
  {
   "cell_type": "markdown",
   "metadata": {},
   "source": [
    "**Visualization of thr campaigns' reach. As we can see the CPC campaign is the most profitable even if is the one that attracted the smallest amount of visitors**"
   ]
  },
  {
   "cell_type": "code",
   "execution_count": 47,
   "metadata": {},
   "outputs": [
    {
     "data": {
      "text/plain": [
       "<AxesSubplot:xlabel='count', ylabel='type_campaign'>"
      ]
     },
     "execution_count": 47,
     "metadata": {},
     "output_type": "execute_result"
    },
    {
     "data": {
      "image/png": "[encoded data removed]",
      "text/plain": [
       "<Figure size 432x288 with 1 Axes>"
      ]
     },
     "metadata": {
      "needs_background": "light"
     },
     "output_type": "display_data"
    }
   ],
   "source": [
    "sns.countplot(y='type_campaign', data=visitors_) "
   ]
  },
  {
   "cell_type": "code",
   "execution_count": 48,
   "metadata": {},
   "outputs": [
    {
     "data": {
      "text/plain": [
       "<AxesSubplot:xlabel='count', ylabel='referral'>"
      ]
     },
     "execution_count": 48,
     "metadata": {},
     "output_type": "execute_result"
    },
    {
     "data": {
      "image/png": "[encoded data removed]",
      "text/plain": [
       "<Figure size 432x288 with 1 Axes>"
      ]
     },
     "metadata": {
      "needs_background": "light"
     },
     "output_type": "display_data"
    }
   ],
   "source": [
    "sns.countplot(y='referral', data=visitors_)"
   ]
  },
  {
   "cell_type": "markdown",
   "metadata": {},
   "source": [
    "**Visualization of the purchases made through different campaigns**"
   ]
  },
  {
   "cell_type": "code",
   "execution_count": 49,
   "metadata": {},
   "outputs": [
    {
     "data": {
      "text/plain": [
       "<AxesSubplot:xlabel='type_campaign', ylabel='purchase'>"
      ]
     },
     "execution_count": 49,
     "metadata": {},
     "output_type": "execute_result"
    },
    {
     "data": {
      "image/png": "[encoded data removed]",
      "text/plain": [
       "<Figure size 432x288 with 1 Axes>"
      ]
     },
     "metadata": {
      "needs_background": "light"
     },
     "output_type": "display_data"
    }
   ],
   "source": [
    "sns.barplot(x='type_campaign', y='purchase', data=visitors_)"
   ]
  },
  {
   "cell_type": "markdown",
   "metadata": {},
   "source": [
    "**Visualization of the order in € made through different campaigns**"
   ]
  },
  {
   "cell_type": "code",
   "execution_count": 50,
   "metadata": {},
   "outputs": [
    {
     "data": {
      "text/plain": [
       "<AxesSubplot:xlabel='referral', ylabel='order_euros'>"
      ]
     },
     "execution_count": 50,
     "metadata": {},
     "output_type": "execute_result"
    },
    {
     "data": {
      "image/png": "[encoded data removed]",
      "text/plain": [
       "<Figure size 432x288 with 1 Axes>"
      ]
     },
     "metadata": {
      "needs_background": "light"
     },
     "output_type": "display_data"
    }
   ],
   "source": [
    "sns.barplot(x='referral', y='order_euros', data=visitors_)"
   ]
  },
  {
   "cell_type": "markdown",
   "metadata": {},
   "source": [
    "**Importing an additional library which I will use to split and train my dataset. A portion of it will be used to train the model (machine learning) and consequently will be known to the model. The second portion of our dataset will be kept unknown to the model and will be used to test the performance of the results since the model will be making prediction on it**  "
   ]
  },
  {
   "cell_type": "code",
   "execution_count": 51,
   "metadata": {},
   "outputs": [],
   "source": [
    "from sklearn.model_selection import train_test_split"
   ]
  },
  {
   "cell_type": "code",
   "execution_count": 52,
   "metadata": {},
   "outputs": [
    {
     "data": {
      "text/plain": [
       "session_id               int64\n",
       "purchase                 int64\n",
       "order_euros            float64\n",
       "preferential_client      int64\n",
       "user_agent              object\n",
       "referral                object\n",
       "Google                   int64\n",
       "Facebook                 int64\n",
       "Instagram                int64\n",
       "Other_referral           int64\n",
       "type_campaign           object\n",
       "InfluencerA              int64\n",
       "InfluencerB              int64\n",
       "CPC                      int64\n",
       "Other_campaigns          int64\n",
       "Apple_device             int64\n",
       "dtype: object"
      ]
     },
     "execution_count": 52,
     "metadata": {},
     "output_type": "execute_result"
    }
   ],
   "source": [
    "visitors_.dtypes"
   ]
  },
  {
   "cell_type": "markdown",
   "metadata": {},
   "source": [
    "**Splitting my data keeping a 20% of it (10k observations) for testing the result and an 80% (40k) to train the model**"
   ]
  },
  {
   "cell_type": "code",
   "execution_count": 53,
   "metadata": {},
   "outputs": [],
   "source": [
    "train, test = train_test_split(visitors_, test_size=0.2, random_state=42)"
   ]
  },
  {
   "cell_type": "code",
   "execution_count": 54,
   "metadata": {},
   "outputs": [
    {
     "data": {
      "text/plain": [
       "(40000, 10000)"
      ]
     },
     "execution_count": 54,
     "metadata": {},
     "output_type": "execute_result"
    }
   ],
   "source": [
    "len(train), len(test)"
   ]
  },
  {
   "cell_type": "markdown",
   "metadata": {},
   "source": [
    "**Setting purchase (binary) as Dependent variable and the CPC campaign as the Independent Variable**"
   ]
  },
  {
   "cell_type": "code",
   "execution_count": 55,
   "metadata": {},
   "outputs": [],
   "source": [
    "target = \"purchase\"\n",
    "features = ['CPC']"
   ]
  },
  {
   "cell_type": "code",
   "execution_count": 56,
   "metadata": {},
   "outputs": [],
   "source": [
    "logit_stats = sm.Logit(train[target], sm.add_constant(train[features]))"
   ]
  },
  {
   "cell_type": "code",
   "execution_count": 57,
   "metadata": {},
   "outputs": [
    {
     "name": "stdout",
     "output_type": "stream",
     "text": [
      "Optimization terminated successfully.\n",
      "         Current function value: 0.541523\n",
      "         Iterations 5\n"
     ]
    }
   ],
   "source": [
    "result_logit = logit_stats.fit()"
   ]
  },
  {
   "cell_type": "code",
   "execution_count": 58,
   "metadata": {},
   "outputs": [
    {
     "name": "stdout",
     "output_type": "stream",
     "text": [
      "                           Logit Regression Results                           \n",
      "==============================================================================\n",
      "Dep. Variable:               purchase   No. Observations:                40000\n",
      "Model:                          Logit   Df Residuals:                    39998\n",
      "Method:                           MLE   Df Model:                            1\n",
      "Date:                Mon, 18 Sep 2023   Pseudo R-squ.:                 0.03498\n",
      "Time:                        17:36:10   Log-Likelihood:                -21661.\n",
      "converged:                       True   LL-Null:                       -22446.\n",
      "Covariance Type:            nonrobust   LLR p-value:                     0.000\n",
      "==============================================================================\n",
      "                 coef    std err          z      P>|z|      [0.025      0.975]\n",
      "------------------------------------------------------------------------------\n",
      "const         -1.2801      0.013    -99.918      0.000      -1.305      -1.255\n",
      "CPC            1.3443      0.033     40.243      0.000       1.279       1.410\n",
      "==============================================================================\n"
     ]
    }
   ],
   "source": [
    "print(result_logit.summary())"
   ]
  },
  {
   "cell_type": "markdown",
   "metadata": {},
   "source": [
    "**Setting purchase (binary) as Dependent variable and the CPC campaign as the Independent Variable and the device used and the referral as control variables. The pseudo R2 of this model (even if it is performing quite poorly so reliability of this model is niot strong) is the highest among all the other model performed so this will be the one used to make predictions. We can see that the coefficent of CPC campaign is positive (1.47) and significant. If compared to the coefficent of the other marketing campaign we can see that CPC campaign is the one showing the most positive results**"
   ]
  },
  {
   "cell_type": "code",
   "execution_count": 59,
   "metadata": {},
   "outputs": [],
   "source": [
    "features_controls = ['CPC','Apple_device','Google']"
   ]
  },
  {
   "cell_type": "code",
   "execution_count": 60,
   "metadata": {},
   "outputs": [],
   "source": [
    "logit_stats_user = sm.Logit(train[target], sm.add_constant(train[features_controls]))"
   ]
  },
  {
   "cell_type": "code",
   "execution_count": 61,
   "metadata": {},
   "outputs": [
    {
     "name": "stdout",
     "output_type": "stream",
     "text": [
      "Optimization terminated successfully.\n",
      "         Current function value: 0.488568\n",
      "         Iterations 6\n"
     ]
    }
   ],
   "source": [
    "result_logit_user = logit_stats_user.fit()"
   ]
  },
  {
   "cell_type": "code",
   "execution_count": 62,
   "metadata": {},
   "outputs": [
    {
     "name": "stdout",
     "output_type": "stream",
     "text": [
      "                           Logit Regression Results                           \n",
      "==============================================================================\n",
      "Dep. Variable:               purchase   No. Observations:                40000\n",
      "Model:                          Logit   Df Residuals:                    39996\n",
      "Method:                           MLE   Df Model:                            3\n",
      "Date:                Mon, 18 Sep 2023   Pseudo R-squ.:                  0.1293\n",
      "Time:                        17:36:10   Log-Likelihood:                -19543.\n",
      "converged:                       True   LL-Null:                       -22446.\n",
      "Covariance Type:            nonrobust   LLR p-value:                     0.000\n",
      "================================================================================\n",
      "                   coef    std err          z      P>|z|      [0.025      0.975]\n",
      "--------------------------------------------------------------------------------\n",
      "const           -2.0410      0.020   -102.011      0.000      -2.080      -2.002\n",
      "CPC              1.4736      0.036     40.870      0.000       1.403       1.544\n",
      "Apple_device     1.5331      0.026     59.283      0.000       1.482       1.584\n",
      "Google           0.7503      0.028     26.412      0.000       0.695       0.806\n",
      "================================================================================\n"
     ]
    }
   ],
   "source": [
    "print(result_logit_user.summary())"
   ]
  },
  {
   "cell_type": "markdown",
   "metadata": {},
   "source": [
    "**Setting a new model with purchase (binary) as Dependent variable and the InfluencerA campaign as the Independent Variable**"
   ]
  },
  {
   "cell_type": "code",
   "execution_count": 63,
   "metadata": {},
   "outputs": [],
   "source": [
    "target = \"purchase\"\n",
    "features = ['InfluencerA']"
   ]
  },
  {
   "cell_type": "code",
   "execution_count": 64,
   "metadata": {},
   "outputs": [],
   "source": [
    "logit_stats1= sm.Logit(train[target], sm.add_constant(train[features]))"
   ]
  },
  {
   "cell_type": "code",
   "execution_count": 65,
   "metadata": {},
   "outputs": [
    {
     "name": "stdout",
     "output_type": "stream",
     "text": [
      "Optimization terminated successfully.\n",
      "         Current function value: 0.560569\n",
      "         Iterations 5\n"
     ]
    }
   ],
   "source": [
    "result_logit = logit_stats1.fit()"
   ]
  },
  {
   "cell_type": "code",
   "execution_count": 66,
   "metadata": {},
   "outputs": [
    {
     "name": "stdout",
     "output_type": "stream",
     "text": [
      "                           Logit Regression Results                           \n",
      "==============================================================================\n",
      "Dep. Variable:               purchase   No. Observations:                40000\n",
      "Model:                          Logit   Df Residuals:                    39998\n",
      "Method:                           MLE   Df Model:                            1\n",
      "Date:                Mon, 18 Sep 2023   Pseudo R-squ.:                0.001037\n",
      "Time:                        17:36:10   Log-Likelihood:                -22423.\n",
      "converged:                       True   LL-Null:                       -22446.\n",
      "Covariance Type:            nonrobust   LLR p-value:                 8.866e-12\n",
      "===============================================================================\n",
      "                  coef    std err          z      P>|z|      [0.025      0.975]\n",
      "-------------------------------------------------------------------------------\n",
      "const          -1.1404      0.013    -89.176      0.000      -1.166      -1.115\n",
      "InfluencerA     0.2069      0.030      6.892      0.000       0.148       0.266\n",
      "===============================================================================\n"
     ]
    }
   ],
   "source": [
    "print(result_logit.summary())"
   ]
  },
  {
   "cell_type": "markdown",
   "metadata": {},
   "source": [
    "**Setting a new model with purchase (binary) as Dependent variable and the InfluencerA campaign as the Independent Variable with the device used and the referral as my control variables**"
   ]
  },
  {
   "cell_type": "code",
   "execution_count": 67,
   "metadata": {},
   "outputs": [],
   "source": [
    "features_controls1 = ['InfluencerA','Apple_device','Google']"
   ]
  },
  {
   "cell_type": "code",
   "execution_count": 68,
   "metadata": {},
   "outputs": [],
   "source": [
    "logit_stats_user1 = sm.Logit(train[target], sm.add_constant(train[features_controls1]))"
   ]
  },
  {
   "cell_type": "code",
   "execution_count": 69,
   "metadata": {},
   "outputs": [
    {
     "name": "stdout",
     "output_type": "stream",
     "text": [
      "Optimization terminated successfully.\n",
      "         Current function value: 0.506501\n",
      "         Iterations 6\n"
     ]
    }
   ],
   "source": [
    "result_logit_user = logit_stats_user1.fit()"
   ]
  },
  {
   "cell_type": "code",
   "execution_count": 70,
   "metadata": {},
   "outputs": [
    {
     "name": "stdout",
     "output_type": "stream",
     "text": [
      "                           Logit Regression Results                           \n",
      "==============================================================================\n",
      "Dep. Variable:               purchase   No. Observations:                40000\n",
      "Model:                          Logit   Df Residuals:                    39996\n",
      "Method:                           MLE   Df Model:                            3\n",
      "Date:                Mon, 18 Sep 2023   Pseudo R-squ.:                 0.09739\n",
      "Time:                        17:36:11   Log-Likelihood:                -20260.\n",
      "converged:                       True   LL-Null:                       -22446.\n",
      "Covariance Type:            nonrobust   LLR p-value:                     0.000\n",
      "================================================================================\n",
      "                   coef    std err          z      P>|z|      [0.025      0.975]\n",
      "--------------------------------------------------------------------------------\n",
      "const           -1.9428      0.020    -95.179      0.000      -1.983      -1.903\n",
      "InfluencerA      0.4847      0.033     14.604      0.000       0.420       0.550\n",
      "Apple_device     1.4592      0.025     58.240      0.000       1.410       1.508\n",
      "Google           0.9046      0.029     31.224      0.000       0.848       0.961\n",
      "================================================================================\n"
     ]
    }
   ],
   "source": [
    "print(result_logit_user.summary())"
   ]
  },
  {
   "cell_type": "markdown",
   "metadata": {},
   "source": [
    "**Setting a new model with purchase (binary) as Dependent variable and the InfluencerB campaign as the Independent Variable**"
   ]
  },
  {
   "cell_type": "code",
   "execution_count": 71,
   "metadata": {},
   "outputs": [],
   "source": [
    "target = \"purchase\"\n",
    "features = ['InfluencerB']"
   ]
  },
  {
   "cell_type": "code",
   "execution_count": 72,
   "metadata": {},
   "outputs": [],
   "source": [
    "logit_stats2 = sm.Logit(train[target], sm.add_constant(train[features]))"
   ]
  },
  {
   "cell_type": "code",
   "execution_count": 73,
   "metadata": {},
   "outputs": [
    {
     "name": "stdout",
     "output_type": "stream",
     "text": [
      "Optimization terminated successfully.\n",
      "         Current function value: 0.559219\n",
      "         Iterations 5\n"
     ]
    }
   ],
   "source": [
    "result_logit = logit_stats2.fit()"
   ]
  },
  {
   "cell_type": "code",
   "execution_count": 74,
   "metadata": {},
   "outputs": [
    {
     "name": "stdout",
     "output_type": "stream",
     "text": [
      "                           Logit Regression Results                           \n",
      "==============================================================================\n",
      "Dep. Variable:               purchase   No. Observations:                40000\n",
      "Model:                          Logit   Df Residuals:                    39998\n",
      "Method:                           MLE   Df Model:                            1\n",
      "Date:                Mon, 18 Sep 2023   Pseudo R-squ.:                0.003443\n",
      "Time:                        17:36:11   Log-Likelihood:                -22369.\n",
      "converged:                       True   LL-Null:                       -22446.\n",
      "Covariance Type:            nonrobust   LLR p-value:                 1.730e-35\n",
      "===============================================================================\n",
      "                  coef    std err          z      P>|z|      [0.025      0.975]\n",
      "-------------------------------------------------------------------------------\n",
      "const          -1.1615      0.013    -92.459      0.000      -1.186      -1.137\n",
      "InfluencerB     0.4121      0.033     12.671      0.000       0.348       0.476\n",
      "===============================================================================\n"
     ]
    }
   ],
   "source": [
    "print(result_logit.summary())"
   ]
  },
  {
   "cell_type": "markdown",
   "metadata": {},
   "source": [
    "**Setting a new model with purchase (binary) as Dependent variable and the InfluencerA campaign as the Independent Variable with the device used and the referral as control variables**"
   ]
  },
  {
   "cell_type": "code",
   "execution_count": 75,
   "metadata": {},
   "outputs": [],
   "source": [
    "features_controls2 = ['InfluencerB','Apple_device','Google']"
   ]
  },
  {
   "cell_type": "code",
   "execution_count": 76,
   "metadata": {},
   "outputs": [],
   "source": [
    "logit_stats_user = sm.Logit(train[target], sm.add_constant(train[features_controls2]))"
   ]
  },
  {
   "cell_type": "code",
   "execution_count": 77,
   "metadata": {},
   "outputs": [
    {
     "name": "stdout",
     "output_type": "stream",
     "text": [
      "Optimization terminated successfully.\n",
      "         Current function value: 0.503950\n",
      "         Iterations 6\n"
     ]
    }
   ],
   "source": [
    "result_logit_user = logit_stats_user.fit()"
   ]
  },
  {
   "cell_type": "code",
   "execution_count": 78,
   "metadata": {},
   "outputs": [
    {
     "name": "stdout",
     "output_type": "stream",
     "text": [
      "                           Logit Regression Results                           \n",
      "==============================================================================\n",
      "Dep. Variable:               purchase   No. Observations:                40000\n",
      "Model:                          Logit   Df Residuals:                    39996\n",
      "Method:                           MLE   Df Model:                            3\n",
      "Date:                Mon, 18 Sep 2023   Pseudo R-squ.:                  0.1019\n",
      "Time:                        17:36:11   Log-Likelihood:                -20158.\n",
      "converged:                       True   LL-Null:                       -22446.\n",
      "Covariance Type:            nonrobust   LLR p-value:                     0.000\n",
      "================================================================================\n",
      "                   coef    std err          z      P>|z|      [0.025      0.975]\n",
      "--------------------------------------------------------------------------------\n",
      "const           -1.9742      0.020    -97.539      0.000      -2.014      -1.935\n",
      "InfluencerB      0.7419      0.036     20.741      0.000       0.672       0.812\n",
      "Apple_device     1.4754      0.025     58.556      0.000       1.426       1.525\n",
      "Google           0.9306      0.029     32.336      0.000       0.874       0.987\n",
      "================================================================================\n"
     ]
    }
   ],
   "source": [
    "print(result_logit_user.summary())"
   ]
  },
  {
   "cell_type": "markdown",
   "metadata": {},
   "source": [
    "**Making some prediction about the odds of making a purchase with different marketing campaigs**"
   ]
  },
  {
   "cell_type": "code",
   "execution_count": 79,
   "metadata": {},
   "outputs": [],
   "source": [
    "logit_clf = LogisticRegression(max_iter=1000, fit_intercept = True)"
   ]
  },
  {
   "cell_type": "code",
   "execution_count": 80,
   "metadata": {},
   "outputs": [],
   "source": [
    "features = ['CPC',  'InfluencerA', 'InfluencerB']"
   ]
  },
  {
   "cell_type": "code",
   "execution_count": 81,
   "metadata": {},
   "outputs": [
    {
     "data": {
      "text/plain": [
       "LogisticRegression(max_iter=1000)"
      ]
     },
     "execution_count": 81,
     "metadata": {},
     "output_type": "execute_result"
    }
   ],
   "source": [
    "logit_clf.fit(train[features], train[target])"
   ]
  },
  {
   "cell_type": "markdown",
   "metadata": {},
   "source": [
    "**If a user sees the CPC marketing campaign the chances of making a purchase are 51.5%. Instead, if a user sees the influencerA marketing campaign the chances of making a purchase are 28.2%. Also, if a user sees the influencer marketing campaign the chances of making a purchase are 32%. Predictions are completely in line with the descriptive statistics shown previously**"
   ]
  },
  {
   "cell_type": "code",
   "execution_count": 82,
   "metadata": {},
   "outputs": [
    {
     "data": {
      "text/plain": [
       "array([[0.48433188, 0.51566812]])"
      ]
     },
     "execution_count": 82,
     "metadata": {},
     "output_type": "execute_result"
    }
   ],
   "source": [
    "logit_clf.predict_proba([[1,0,0]])"
   ]
  },
  {
   "cell_type": "code",
   "execution_count": 83,
   "metadata": {},
   "outputs": [
    {
     "data": {
      "text/plain": [
       "array([[0.71787546, 0.28212454]])"
      ]
     },
     "execution_count": 83,
     "metadata": {},
     "output_type": "execute_result"
    }
   ],
   "source": [
    "logit_clf.predict_proba([[0,1,0]])"
   ]
  },
  {
   "cell_type": "code",
   "execution_count": 84,
   "metadata": {},
   "outputs": [
    {
     "data": {
      "text/plain": [
       "array([[0.67918345, 0.32081655]])"
      ]
     },
     "execution_count": 84,
     "metadata": {},
     "output_type": "execute_result"
    }
   ],
   "source": [
    "logit_clf.predict_proba([[0,0,1]])"
   ]
  },
  {
   "cell_type": "markdown",
   "metadata": {},
   "source": [
    "**Making predictions adding the control variables**"
   ]
  },
  {
   "cell_type": "code",
   "execution_count": 85,
   "metadata": {},
   "outputs": [],
   "source": [
    "logit_clf_user = LogisticRegression(max_iter=1000, fit_intercept = True)"
   ]
  },
  {
   "cell_type": "code",
   "execution_count": 86,
   "metadata": {},
   "outputs": [
    {
     "data": {
      "text/plain": [
       "LogisticRegression(max_iter=1000)"
      ]
     },
     "execution_count": 86,
     "metadata": {},
     "output_type": "execute_result"
    }
   ],
   "source": [
    "logit_clf_user.fit(train[features_controls], train[target])"
   ]
  },
  {
   "cell_type": "code",
   "execution_count": 87,
   "metadata": {},
   "outputs": [
    {
     "data": {
      "text/plain": [
       "['CPC', 'Apple_device', 'Google']"
      ]
     },
     "execution_count": 87,
     "metadata": {},
     "output_type": "execute_result"
    }
   ],
   "source": [
    "features_controls"
   ]
  },
  {
   "cell_type": "markdown",
   "metadata": {},
   "source": [
    "**If a user sees the CPC marketing campaign without an Apple device and not through Google as referral, the chances of making a purchase are 36%. Instead, if a user sees the CPC marketing campaign with an Apple device and not through Google as referral, the chances of making a purchase are 72%. Also, if a user sees the CPC marketing campaign with an Apple device and through Google as referral, the chances of making a purchase are 85%**"
   ]
  },
  {
   "cell_type": "code",
   "execution_count": 88,
   "metadata": {},
   "outputs": [
    {
     "data": {
      "text/plain": [
       "array([[0.63841824, 0.36158176]])"
      ]
     },
     "execution_count": 88,
     "metadata": {},
     "output_type": "execute_result"
    }
   ],
   "source": [
    "logit_clf_user.predict_proba([[1,0,0]])"
   ]
  },
  {
   "cell_type": "code",
   "execution_count": 89,
   "metadata": {},
   "outputs": [
    {
     "data": {
      "text/plain": [
       "array([[0.27622238, 0.72377762]])"
      ]
     },
     "execution_count": 89,
     "metadata": {},
     "output_type": "execute_result"
    }
   ],
   "source": [
    "logit_clf_user.predict_proba([[1,1,0]])"
   ]
  },
  {
   "cell_type": "code",
   "execution_count": 90,
   "metadata": {},
   "outputs": [
    {
     "data": {
      "text/plain": [
       "array([[0.15279732, 0.84720268]])"
      ]
     },
     "execution_count": 90,
     "metadata": {},
     "output_type": "execute_result"
    }
   ],
   "source": [
    "logit_clf_user.predict_proba([[1,1,1]])"
   ]
  },
  {
   "cell_type": "code",
   "execution_count": 91,
   "metadata": {},
   "outputs": [
    {
     "name": "stderr",
     "output_type": "stream",
     "text": [
      "<ipython-input-91-9fbbfa671ffe>:1: SettingWithCopyWarning: \n",
      "A value is trying to be set on a copy of a slice from a DataFrame.\n",
      "Try using .loc[row_indexer,col_indexer] = value instead\n",
      "\n",
      "See the caveats in the documentation: https://pandas.pydata.org/pandas-docs/stable/user_guide/indexing.html#returning-a-view-versus-a-copy\n",
      "  test['predicted_bounce_logit'] = logit_clf.predict(test[features])\n"
     ]
    }
   ],
   "source": [
    "test['predicted_bounce_logit'] = logit_clf.predict(test[features])"
   ]
  },
  {
   "cell_type": "markdown",
   "metadata": {},
   "source": [
    "**Checking how many predicted purchases have been detected by the model: 1.045 users have been predicted to make a purchase**"
   ]
  },
  {
   "cell_type": "code",
   "execution_count": 92,
   "metadata": {},
   "outputs": [
    {
     "data": {
      "text/plain": [
       "0    8955\n",
       "1    1045\n",
       "Name: predicted_bounce_logit, dtype: int64"
      ]
     },
     "execution_count": 92,
     "metadata": {},
     "output_type": "execute_result"
    }
   ],
   "source": [
    "test['predicted_bounce_logit'].value_counts()"
   ]
  },
  {
   "cell_type": "markdown",
   "metadata": {},
   "source": [
    "**Comparig the predictions to the actual resuts. Among a random sample of 5 values, we can see that 2 were not correct**"
   ]
  },
  {
   "cell_type": "code",
   "execution_count": 93,
   "metadata": {},
   "outputs": [
    {
     "data": {
      "text/html": [
       "<div>\n",
       "<style scoped>\n",
       "    .dataframe tbody tr th:only-of-type {\n",
       "        vertical-align: middle;\n",
       "    }\n",
       "\n",
       "    .dataframe tbody tr th {\n",
       "        vertical-align: top;\n",
       "    }\n",
       "\n",
       "    .dataframe thead th {\n",
       "        text-align: right;\n",
       "    }\n",
       "</style>\n",
       "<table border=\"1\" class=\"dataframe\">\n",
       "  <thead>\n",
       "    <tr style=\"text-align: right;\">\n",
       "      <th></th>\n",
       "      <th>purchase</th>\n",
       "      <th>predicted_bounce_logit</th>\n",
       "    </tr>\n",
       "  </thead>\n",
       "  <tbody>\n",
       "    <tr>\n",
       "      <th>33553</th>\n",
       "      <td>0</td>\n",
       "      <td>0</td>\n",
       "    </tr>\n",
       "    <tr>\n",
       "      <th>9427</th>\n",
       "      <td>1</td>\n",
       "      <td>0</td>\n",
       "    </tr>\n",
       "    <tr>\n",
       "      <th>199</th>\n",
       "      <td>0</td>\n",
       "      <td>0</td>\n",
       "    </tr>\n",
       "    <tr>\n",
       "      <th>12447</th>\n",
       "      <td>0</td>\n",
       "      <td>0</td>\n",
       "    </tr>\n",
       "    <tr>\n",
       "      <th>39489</th>\n",
       "      <td>1</td>\n",
       "      <td>0</td>\n",
       "    </tr>\n",
       "  </tbody>\n",
       "</table>\n",
       "</div>"
      ],
      "text/plain": [
       "       purchase  predicted_bounce_logit\n",
       "33553         0                       0\n",
       "9427          1                       0\n",
       "199           0                       0\n",
       "12447         0                       0\n",
       "39489         1                       0"
      ]
     },
     "execution_count": 93,
     "metadata": {},
     "output_type": "execute_result"
    }
   ],
   "source": [
    "test[['purchase', 'predicted_bounce_logit']].head()"
   ]
  },
  {
   "cell_type": "markdown",
   "metadata": {},
   "source": [
    "**Adding the control variables to see if the model improves its performances**"
   ]
  },
  {
   "cell_type": "code",
   "execution_count": 94,
   "metadata": {},
   "outputs": [
    {
     "name": "stderr",
     "output_type": "stream",
     "text": [
      "<ipython-input-94-410e8bc40bfd>:1: SettingWithCopyWarning: \n",
      "A value is trying to be set on a copy of a slice from a DataFrame.\n",
      "Try using .loc[row_indexer,col_indexer] = value instead\n",
      "\n",
      "See the caveats in the documentation: https://pandas.pydata.org/pandas-docs/stable/user_guide/indexing.html#returning-a-view-versus-a-copy\n",
      "  test['predicted_bounce_logit_user'] = logit_clf_user.predict(test[features_controls])\n"
     ]
    }
   ],
   "source": [
    "test['predicted_bounce_logit_user'] = logit_clf_user.predict(test[features_controls])"
   ]
  },
  {
   "cell_type": "code",
   "execution_count": 95,
   "metadata": {},
   "outputs": [
    {
     "data": {
      "text/plain": [
       "0    8891\n",
       "1    1109\n",
       "Name: predicted_bounce_logit_user, dtype: int64"
      ]
     },
     "execution_count": 95,
     "metadata": {},
     "output_type": "execute_result"
    }
   ],
   "source": [
    "test['predicted_bounce_logit_user'].value_counts()"
   ]
  },
  {
   "cell_type": "markdown",
   "metadata": {},
   "source": [
    "**Comparig the predictions made with and without control variables with the the actual resuts. Among a random sample of 5 values, we can see that 2 were still not correct, the model didn't look improving a lot**"
   ]
  },
  {
   "cell_type": "code",
   "execution_count": 96,
   "metadata": {},
   "outputs": [
    {
     "data": {
      "text/html": [
       "<div>\n",
       "<style scoped>\n",
       "    .dataframe tbody tr th:only-of-type {\n",
       "        vertical-align: middle;\n",
       "    }\n",
       "\n",
       "    .dataframe tbody tr th {\n",
       "        vertical-align: top;\n",
       "    }\n",
       "\n",
       "    .dataframe thead th {\n",
       "        text-align: right;\n",
       "    }\n",
       "</style>\n",
       "<table border=\"1\" class=\"dataframe\">\n",
       "  <thead>\n",
       "    <tr style=\"text-align: right;\">\n",
       "      <th></th>\n",
       "      <th>purchase</th>\n",
       "      <th>predicted_bounce_logit</th>\n",
       "      <th>predicted_bounce_logit_user</th>\n",
       "    </tr>\n",
       "  </thead>\n",
       "  <tbody>\n",
       "    <tr>\n",
       "      <th>33553</th>\n",
       "      <td>0</td>\n",
       "      <td>0</td>\n",
       "      <td>0</td>\n",
       "    </tr>\n",
       "    <tr>\n",
       "      <th>9427</th>\n",
       "      <td>1</td>\n",
       "      <td>0</td>\n",
       "      <td>0</td>\n",
       "    </tr>\n",
       "    <tr>\n",
       "      <th>199</th>\n",
       "      <td>0</td>\n",
       "      <td>0</td>\n",
       "      <td>0</td>\n",
       "    </tr>\n",
       "    <tr>\n",
       "      <th>12447</th>\n",
       "      <td>0</td>\n",
       "      <td>0</td>\n",
       "      <td>0</td>\n",
       "    </tr>\n",
       "    <tr>\n",
       "      <th>39489</th>\n",
       "      <td>1</td>\n",
       "      <td>0</td>\n",
       "      <td>0</td>\n",
       "    </tr>\n",
       "  </tbody>\n",
       "</table>\n",
       "</div>"
      ],
      "text/plain": [
       "       purchase  predicted_bounce_logit  predicted_bounce_logit_user\n",
       "33553         0                       0                            0\n",
       "9427          1                       0                            0\n",
       "199           0                       0                            0\n",
       "12447         0                       0                            0\n",
       "39489         1                       0                            0"
      ]
     },
     "execution_count": 96,
     "metadata": {},
     "output_type": "execute_result"
    }
   ],
   "source": [
    "test[['purchase', 'predicted_bounce_logit', 'predicted_bounce_logit_user']].head()"
   ]
  },
  {
   "cell_type": "code",
   "execution_count": 97,
   "metadata": {},
   "outputs": [],
   "source": [
    "from sklearn.metrics import confusion_matrix"
   ]
  },
  {
   "cell_type": "markdown",
   "metadata": {},
   "source": [
    "**Looking at the performance matrix: the matrix shows us that 510 users were tagged as false positives and 2009 as false negatives. 6946 users were indeed non purchasers and the model predictit them as such and 535 were indeed purchasers and the model predicted them as such**"
   ]
  },
  {
   "cell_type": "code",
   "execution_count": 98,
   "metadata": {},
   "outputs": [
    {
     "name": "stdout",
     "output_type": "stream",
     "text": [
      "[[6946  510]\n",
      " [2009  535]]\n"
     ]
    }
   ],
   "source": [
    "print(confusion_matrix(test['purchase'], test['predicted_bounce_logit']))"
   ]
  },
  {
   "cell_type": "markdown",
   "metadata": {},
   "source": [
    "**Looking at the performance matrix if I add the control variables: the matrix show some improvments since now only 283 users were tagged as false positives and 1718 as false negatives. Now 7173 users were non purchasers and the model predictit them as such and 826 were purchasers and the model predicted them as such**"
   ]
  },
  {
   "cell_type": "code",
   "execution_count": 99,
   "metadata": {},
   "outputs": [
    {
     "name": "stdout",
     "output_type": "stream",
     "text": [
      "[[7173  283]\n",
      " [1718  826]]\n"
     ]
    }
   ],
   "source": [
    "print(confusion_matrix(test['purchase'], test['predicted_bounce_logit_user']))"
   ]
  },
  {
   "cell_type": "markdown",
   "metadata": {},
   "source": [
    "**Comparing the 2 models (with and without control variables): model 1 seem to have more recall (0.75) and a little less precision (0.71). The second model seems as well to have more recall (0.80) [True Positives / (True Positives + False Negatives) which means how many relevant items were selected, so how many false negative were positive], and slightly  less precision (0.79) [true Positives / (True Positives + False Positives) which means how many selected items, purchase, were false negative or true negative], but anyway it performed better than the first model among both values. In the overall the F1 scores (combination of precision and recall) show us that the second model is performing better (0.71 F1 score model 1 vs 0.77 F1 score model 2) so is the one will be chosen**"
   ]
  },
  {
   "cell_type": "code",
   "execution_count": 100,
   "metadata": {},
   "outputs": [],
   "source": [
    "from sklearn.metrics import classification_report"
   ]
  },
  {
   "cell_type": "code",
   "execution_count": 101,
   "metadata": {},
   "outputs": [
    {
     "name": "stdout",
     "output_type": "stream",
     "text": [
      "              precision    recall  f1-score   support\n",
      "\n",
      "           0       0.78      0.93      0.85      7456\n",
      "           1       0.51      0.21      0.30      2544\n",
      "\n",
      "    accuracy                           0.75     10000\n",
      "   macro avg       0.64      0.57      0.57     10000\n",
      "weighted avg       0.71      0.75      0.71     10000\n",
      "\n"
     ]
    }
   ],
   "source": [
    "print(classification_report(test['purchase'], test['predicted_bounce_logit']))"
   ]
  },
  {
   "cell_type": "code",
   "execution_count": 102,
   "metadata": {},
   "outputs": [
    {
     "name": "stdout",
     "output_type": "stream",
     "text": [
      "              precision    recall  f1-score   support\n",
      "\n",
      "           0       0.81      0.96      0.88      7456\n",
      "           1       0.74      0.32      0.45      2544\n",
      "\n",
      "    accuracy                           0.80     10000\n",
      "   macro avg       0.78      0.64      0.66     10000\n",
      "weighted avg       0.79      0.80      0.77     10000\n",
      "\n"
     ]
    }
   ],
   "source": [
    "print(classification_report(test['purchase'], test['predicted_bounce_logit_user']))"
   ]
  },
  {
   "cell_type": "markdown",
   "metadata": {},
   "source": [
    "**Importimg libraries to make a decision tree**"
   ]
  },
  {
   "cell_type": "code",
   "execution_count": 103,
   "metadata": {},
   "outputs": [],
   "source": [
    "import matplotlib.pylab as plt\n",
    "from sklearn.tree import DecisionTreeClassifier\n",
    "from sklearn.tree._export import plot_tree"
   ]
  },
  {
   "cell_type": "code",
   "execution_count": 104,
   "metadata": {},
   "outputs": [],
   "source": [
    "dt_clf = DecisionTreeClassifier()"
   ]
  },
  {
   "cell_type": "code",
   "execution_count": 105,
   "metadata": {},
   "outputs": [
    {
     "data": {
      "text/plain": [
       "DecisionTreeClassifier()"
      ]
     },
     "execution_count": 105,
     "metadata": {},
     "output_type": "execute_result"
    }
   ],
   "source": [
    "dt_clf.fit(train[features], train[target])"
   ]
  },
  {
   "cell_type": "markdown",
   "metadata": {},
   "source": [
    "**Making a decision tree without control variables**"
   ]
  },
  {
   "cell_type": "code",
   "execution_count": 106,
   "metadata": {},
   "outputs": [
    {
     "data": {
      "image/png": "[encoded data removed]",
      "text/plain": [
       "<Figure size 360x360 with 1 Axes>"
      ]
     },
     "metadata": {
      "needs_background": "light"
     },
     "output_type": "display_data"
    }
   ],
   "source": [
    "plt.figure(figsize=(5,5))\n",
    "plot_tree(dt_clf, proportion=True, label='root', \n",
    "          feature_names=['CPC',  'InfluencerA', 'InfluencerB'], class_names=['not purchased','purchased'], filled=True, fontsize=8)\n",
    "plt.show()"
   ]
  },
  {
   "cell_type": "code",
   "execution_count": 107,
   "metadata": {},
   "outputs": [
    {
     "name": "stderr",
     "output_type": "stream",
     "text": [
      "<ipython-input-107-0c3d6b09c017>:1: SettingWithCopyWarning: \n",
      "A value is trying to be set on a copy of a slice from a DataFrame.\n",
      "Try using .loc[row_indexer,col_indexer] = value instead\n",
      "\n",
      "See the caveats in the documentation: https://pandas.pydata.org/pandas-docs/stable/user_guide/indexing.html#returning-a-view-versus-a-copy\n",
      "  test['predicted_purchase'] = dt_clf.predict(test[features])\n"
     ]
    }
   ],
   "source": [
    "test['predicted_purchase'] = dt_clf.predict(test[features])"
   ]
  },
  {
   "cell_type": "code",
   "execution_count": 108,
   "metadata": {},
   "outputs": [],
   "source": [
    "dt_clf_user = DecisionTreeClassifier()"
   ]
  },
  {
   "cell_type": "code",
   "execution_count": 109,
   "metadata": {},
   "outputs": [
    {
     "data": {
      "text/plain": [
       "DecisionTreeClassifier()"
      ]
     },
     "execution_count": 109,
     "metadata": {},
     "output_type": "execute_result"
    }
   ],
   "source": [
    "dt_clf_user.fit(train[features_controls], train[target])"
   ]
  },
  {
   "cell_type": "code",
   "execution_count": 110,
   "metadata": {},
   "outputs": [
    {
     "data": {
      "image/png": "[encoded data removed]",
      "text/plain": [
       "<Figure size 1080x720 with 1 Axes>"
      ]
     },
     "metadata": {
      "needs_background": "light"
     },
     "output_type": "display_data"
    }
   ],
   "source": [
    "plt.figure(figsize=(15,10))\n",
    "plot_tree(dt_clf_user, proportion=True, \n",
    "          label='root', \n",
    "          feature_names=['CPC','InfluencerA', 'InfluencerB', 'Apple_device','Google'], \n",
    "          class_names=['not purchased','purchased'], \n",
    "          filled=True, fontsize=8)\n",
    "plt.show()"
   ]
  },
  {
   "cell_type": "code",
   "execution_count": 111,
   "metadata": {},
   "outputs": [
    {
     "name": "stderr",
     "output_type": "stream",
     "text": [
      "<ipython-input-111-a344e5452caa>:1: SettingWithCopyWarning: \n",
      "A value is trying to be set on a copy of a slice from a DataFrame.\n",
      "Try using .loc[row_indexer,col_indexer] = value instead\n",
      "\n",
      "See the caveats in the documentation: https://pandas.pydata.org/pandas-docs/stable/user_guide/indexing.html#returning-a-view-versus-a-copy\n",
      "  test['predicted_purchase_user'] = dt_clf_user.predict(test[features_controls])\n"
     ]
    }
   ],
   "source": [
    "test['predicted_purchase_user'] = dt_clf_user.predict(test[features_controls])"
   ]
  },
  {
   "cell_type": "markdown",
   "metadata": {},
   "source": [
    "**Showing performances of the two decision trees**"
   ]
  },
  {
   "cell_type": "code",
   "execution_count": 112,
   "metadata": {},
   "outputs": [
    {
     "name": "stdout",
     "output_type": "stream",
     "text": [
      "              precision    recall  f1-score   support\n",
      "\n",
      "           0       0.78      0.93      0.85      7456\n",
      "           1       0.51      0.21      0.30      2544\n",
      "\n",
      "    accuracy                           0.75     10000\n",
      "   macro avg       0.64      0.57      0.57     10000\n",
      "weighted avg       0.71      0.75      0.71     10000\n",
      "\n"
     ]
    }
   ],
   "source": [
    "print(classification_report(test['purchase'], test['predicted_purchase']))"
   ]
  },
  {
   "cell_type": "code",
   "execution_count": 113,
   "metadata": {},
   "outputs": [
    {
     "name": "stdout",
     "output_type": "stream",
     "text": [
      "              precision    recall  f1-score   support\n",
      "\n",
      "           0       0.81      0.96      0.88      7456\n",
      "           1       0.74      0.32      0.45      2544\n",
      "\n",
      "    accuracy                           0.80     10000\n",
      "   macro avg       0.78      0.64      0.66     10000\n",
      "weighted avg       0.79      0.80      0.77     10000\n",
      "\n"
     ]
    }
   ],
   "source": [
    "print(classification_report(test['purchase'], test['predicted_purchase_user']))"
   ]
  }
 ],
 "metadata": {
  "kernelspec": {
   "display_name": "Python 3",
   "language": "python",
   "name": "python3"
  },
  "language_info": {
   "codemirror_mode": {
    "name": "ipython",
    "version": 3
   },
   "file_extension": ".py",
   "mimetype": "text/x-python",
   "name": "python",
   "nbconvert_exporter": "python",
   "pygments_lexer": "ipython3",
   "version": "3.8.8"
  }
 },
 "nbformat": 4,
 "nbformat_minor": 4
}
